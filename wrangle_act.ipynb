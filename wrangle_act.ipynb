{
 "cells": [
  {
   "cell_type": "markdown",
   "metadata": {
    "extensions": {
     "jupyter_dashboards": {
      "version": 1,
      "views": {
       "grid_default": {
        "col": 0,
        "height": 4,
        "hidden": false,
        "row": 0,
        "width": 4
       },
       "report_default": {
        "hidden": false
       }
      }
     }
    }
   },
   "source": [
    "# Project: Wrangling and Analyze Data"
   ]
  },
  {
   "cell_type": "markdown",
   "metadata": {},
   "source": [
    "## Data Gathering\n",
    "In the cell below, gather **all** three pieces of data for this project and load them in the notebook. **Note:** the methods required to gather each data are different.\n",
    "1. Directly download the WeRateDogs Twitter archive data (twitter_archive_enhanced.csv)"
   ]
  },
  {
   "cell_type": "code",
   "execution_count": 1,
   "metadata": {},
   "outputs": [],
   "source": [
    "import pandas as pd\n",
    "pd.options.display.float_format = '{:20,.2f}'.format\n",
    "import numpy as np\n",
    "import statsmodels.api as sm\n",
    "import os\n",
    "import requests\n",
    "import json\n",
    "import matplotlib.pyplot as plt\n",
    "import seaborn as sns\n",
    "#import dataframe_image as dfi\n",
    "%matplotlib inline\n",
    "plt.style.use('ggplot')"
   ]
  },
  {
   "cell_type": "code",
   "execution_count": 2,
   "metadata": {
    "extensions": {
     "jupyter_dashboards": {
      "version": 1,
      "views": {
       "grid_default": {
        "hidden": true
       },
       "report_default": {
        "hidden": true
       }
      }
     }
    }
   },
   "outputs": [],
   "source": [
    "df_archive = pd.read_csv('twitter-archive-enhanced.csv')"
   ]
  },
  {
   "cell_type": "markdown",
   "metadata": {},
   "source": [
    "2. Use the Requests library to download the tweet image prediction (image_predictions.tsv)"
   ]
  },
  {
   "cell_type": "code",
   "execution_count": 3,
   "metadata": {},
   "outputs": [],
   "source": [
    "url = 'https://d17h27t6h515a5.cloudfront.net/topher/2017/August/599fd2ad_image-predictions/image-predictions.tsv'\n",
    "response = requests.get(url)"
   ]
  },
  {
   "cell_type": "code",
   "execution_count": 4,
   "metadata": {},
   "outputs": [],
   "source": [
    "with open(\"image_predictions.tsv\", mode='wb') as file:\n",
    "    file.write(response.content)"
   ]
  },
  {
   "cell_type": "code",
   "execution_count": 5,
   "metadata": {},
   "outputs": [],
   "source": [
    "df_predict = pd.read_csv('image_predictions.tsv', sep='\\t')"
   ]
  },
  {
   "cell_type": "markdown",
   "metadata": {},
   "source": [
    "3. Use the Tweepy library to query additional data via the Twitter API (tweet_json.txt)"
   ]
  },
  {
   "cell_type": "code",
   "execution_count": 6,
   "metadata": {},
   "outputs": [],
   "source": [
    "# import tweepy\n",
    "\n",
    "# consumer_key = 'xxx'\n",
    "# consumer_secret = 'xxx'\n",
    "# access_token = 'xxx'\n",
    "# access_secret = 'xxx'\n",
    "\n",
    "# auth = tweepy.OAuthHandler(consumer_key, consumer_secret)\n",
    "# auth.set_access_token(access_token, access_secret)\n",
    "\n",
    "# api = tweepy.API(auth)"
   ]
  },
  {
   "cell_type": "code",
   "execution_count": 7,
   "metadata": {},
   "outputs": [],
   "source": [
    "# from tweepy import OAuthHandler\n",
    "# from timeit import default_timer as timer\n",
    "# tweet_ids = df_archive.tweet_id.values\n",
    "# len(tweet_ids)\n",
    "# Tweet IDs for which to gather additional data via Twitter's API\n",
    "# Query Twitter's API for JSON data for each tweet ID in the Twitter archive\n",
    "# count = 0\n",
    "# fails_dict = {}\n",
    "# start = timer()\n",
    "# Save each tweet's returned JSON as a new line in a .txt file\n",
    "# with open('tweet_json.txt', 'w') as outfile:\n",
    "    # This loop will likely take 20-30 minutes to run because of Twitter's rate limit\n",
    "#     for tweet_id in tweet_ids:\n",
    "#         count += 1\n",
    "#         print(str(count) + \": \" + str(tweet_id))\n",
    "#         try:\n",
    "#             tweet = api.get_status(tweet_id, tweet_mode='extended')\n",
    "#             print(\"Success\")\n",
    "#             json.dump(tweet._json, outfile)\n",
    "#             outfile.write('\\n')\n",
    "#         except tweepy.TweepError as e:\n",
    "#             print(\"Fail\")\n",
    "#             fails_dict[tweet_id] = e\n",
    "#             pass\n",
    "# end = timer()\n",
    "# print(end - start)\n",
    "# print(fails_dict)"
   ]
  },
  {
   "cell_type": "code",
   "execution_count": 8,
   "metadata": {},
   "outputs": [],
   "source": [
    "url = 'https://video.udacity-data.com/topher/2018/November/5be5fb7d_tweet-json/tweet-json.txt'\n",
    "response = requests.get(url)"
   ]
  },
  {
   "cell_type": "code",
   "execution_count": 9,
   "metadata": {},
   "outputs": [],
   "source": [
    "with open(\"tweet_json.txt\", mode='wb') as file:\n",
    "    file.write(response.content)"
   ]
  },
  {
   "cell_type": "code",
   "execution_count": 10,
   "metadata": {},
   "outputs": [],
   "source": [
    "# read the json.txt file into a datframe:\n",
    "df_json = pd.DataFrame(columns=[\"tweet_id\", \"retweet_count\", \"favorite_count\"], dtype=int)\n",
    "true = True\n",
    "false = False\n",
    "null = None\n",
    "with open(\"tweet_json.txt\") as json_file:\n",
    "    for line in json_file:        \n",
    "        tweet_data = eval(line)\n",
    "        df_json = df_json.append({\"tweet_id\": tweet_data[\"id\"], \"retweet_count\": tweet_data[\"retweet_count\"], \"favorite_count\": tweet_data[\"favorite_count\"]}, ignore_index=True)"
   ]
  },
  {
   "cell_type": "markdown",
   "metadata": {
    "extensions": {
     "jupyter_dashboards": {
      "version": 1,
      "views": {
       "grid_default": {
        "col": 4,
        "height": 4,
        "hidden": false,
        "row": 28,
        "width": 4
       },
       "report_default": {
        "hidden": false
       }
      }
     }
    }
   },
   "source": [
    "## Assessing Data\n",
    "In this section, detect and document at least **eight (8) quality issues and two (2) tidiness issue**. You must use **both** visual assessment\n",
    "programmatic assessement to assess the data.\n",
    "\n",
    "**Note:** pay attention to the following key points when you access the data.\n",
    "\n",
    "* You only want original ratings (no retweets) that have images. Though there are 5000+ tweets in the dataset, not all are dog ratings and some are retweets.\n",
    "* Assessing and cleaning the entire dataset completely would require a lot of time, and is not necessary to practice and demonstrate your skills in data wrangling. Therefore, the requirements of this project are only to assess and clean at least 8 quality issues and at least 2 tidiness issues in this dataset.\n",
    "* The fact that the rating numerators are greater than the denominators does not need to be cleaned. This [unique rating system](http://knowyourmeme.com/memes/theyre-good-dogs-brent) is a big part of the popularity of WeRateDogs.\n",
    "* You do not need to gather the tweets beyond August 1st, 2017. You can, but note that you won't be able to gather the image predictions for these tweets since you don't have access to the algorithm used.\n",
    "\n"
   ]
  },
  {
   "cell_type": "code",
   "execution_count": 11,
   "metadata": {},
   "outputs": [
    {
     "data": {
      "text/html": [
       "<div>\n",
       "<style scoped>\n",
       "    .dataframe tbody tr th:only-of-type {\n",
       "        vertical-align: middle;\n",
       "    }\n",
       "\n",
       "    .dataframe tbody tr th {\n",
       "        vertical-align: top;\n",
       "    }\n",
       "\n",
       "    .dataframe thead th {\n",
       "        text-align: right;\n",
       "    }\n",
       "</style>\n",
       "<table border=\"1\" class=\"dataframe\">\n",
       "  <thead>\n",
       "    <tr style=\"text-align: right;\">\n",
       "      <th></th>\n",
       "      <th>tweet_id</th>\n",
       "      <th>in_reply_to_status_id</th>\n",
       "      <th>in_reply_to_user_id</th>\n",
       "      <th>timestamp</th>\n",
       "      <th>source</th>\n",
       "      <th>text</th>\n",
       "      <th>retweeted_status_id</th>\n",
       "      <th>retweeted_status_user_id</th>\n",
       "      <th>retweeted_status_timestamp</th>\n",
       "      <th>expanded_urls</th>\n",
       "      <th>rating_numerator</th>\n",
       "      <th>rating_denominator</th>\n",
       "      <th>name</th>\n",
       "      <th>doggo</th>\n",
       "      <th>floofer</th>\n",
       "      <th>pupper</th>\n",
       "      <th>puppo</th>\n",
       "    </tr>\n",
       "  </thead>\n",
       "  <tbody>\n",
       "    <tr>\n",
       "      <th>0</th>\n",
       "      <td>892420643555336193</td>\n",
       "      <td>NaN</td>\n",
       "      <td>NaN</td>\n",
       "      <td>2017-08-01 16:23:56 +0000</td>\n",
       "      <td>&lt;a href=\"http://twitter.com/download/iphone\" r...</td>\n",
       "      <td>This is Phineas. He's a mystical boy. Only eve...</td>\n",
       "      <td>NaN</td>\n",
       "      <td>NaN</td>\n",
       "      <td>NaN</td>\n",
       "      <td>https://twitter.com/dog_rates/status/892420643...</td>\n",
       "      <td>13</td>\n",
       "      <td>10</td>\n",
       "      <td>Phineas</td>\n",
       "      <td>None</td>\n",
       "      <td>None</td>\n",
       "      <td>None</td>\n",
       "      <td>None</td>\n",
       "    </tr>\n",
       "    <tr>\n",
       "      <th>1</th>\n",
       "      <td>892177421306343426</td>\n",
       "      <td>NaN</td>\n",
       "      <td>NaN</td>\n",
       "      <td>2017-08-01 00:17:27 +0000</td>\n",
       "      <td>&lt;a href=\"http://twitter.com/download/iphone\" r...</td>\n",
       "      <td>This is Tilly. She's just checking pup on you....</td>\n",
       "      <td>NaN</td>\n",
       "      <td>NaN</td>\n",
       "      <td>NaN</td>\n",
       "      <td>https://twitter.com/dog_rates/status/892177421...</td>\n",
       "      <td>13</td>\n",
       "      <td>10</td>\n",
       "      <td>Tilly</td>\n",
       "      <td>None</td>\n",
       "      <td>None</td>\n",
       "      <td>None</td>\n",
       "      <td>None</td>\n",
       "    </tr>\n",
       "    <tr>\n",
       "      <th>2</th>\n",
       "      <td>891815181378084864</td>\n",
       "      <td>NaN</td>\n",
       "      <td>NaN</td>\n",
       "      <td>2017-07-31 00:18:03 +0000</td>\n",
       "      <td>&lt;a href=\"http://twitter.com/download/iphone\" r...</td>\n",
       "      <td>This is Archie. He is a rare Norwegian Pouncin...</td>\n",
       "      <td>NaN</td>\n",
       "      <td>NaN</td>\n",
       "      <td>NaN</td>\n",
       "      <td>https://twitter.com/dog_rates/status/891815181...</td>\n",
       "      <td>12</td>\n",
       "      <td>10</td>\n",
       "      <td>Archie</td>\n",
       "      <td>None</td>\n",
       "      <td>None</td>\n",
       "      <td>None</td>\n",
       "      <td>None</td>\n",
       "    </tr>\n",
       "    <tr>\n",
       "      <th>3</th>\n",
       "      <td>891689557279858688</td>\n",
       "      <td>NaN</td>\n",
       "      <td>NaN</td>\n",
       "      <td>2017-07-30 15:58:51 +0000</td>\n",
       "      <td>&lt;a href=\"http://twitter.com/download/iphone\" r...</td>\n",
       "      <td>This is Darla. She commenced a snooze mid meal...</td>\n",
       "      <td>NaN</td>\n",
       "      <td>NaN</td>\n",
       "      <td>NaN</td>\n",
       "      <td>https://twitter.com/dog_rates/status/891689557...</td>\n",
       "      <td>13</td>\n",
       "      <td>10</td>\n",
       "      <td>Darla</td>\n",
       "      <td>None</td>\n",
       "      <td>None</td>\n",
       "      <td>None</td>\n",
       "      <td>None</td>\n",
       "    </tr>\n",
       "    <tr>\n",
       "      <th>4</th>\n",
       "      <td>891327558926688256</td>\n",
       "      <td>NaN</td>\n",
       "      <td>NaN</td>\n",
       "      <td>2017-07-29 16:00:24 +0000</td>\n",
       "      <td>&lt;a href=\"http://twitter.com/download/iphone\" r...</td>\n",
       "      <td>This is Franklin. He would like you to stop ca...</td>\n",
       "      <td>NaN</td>\n",
       "      <td>NaN</td>\n",
       "      <td>NaN</td>\n",
       "      <td>https://twitter.com/dog_rates/status/891327558...</td>\n",
       "      <td>12</td>\n",
       "      <td>10</td>\n",
       "      <td>Franklin</td>\n",
       "      <td>None</td>\n",
       "      <td>None</td>\n",
       "      <td>None</td>\n",
       "      <td>None</td>\n",
       "    </tr>\n",
       "  </tbody>\n",
       "</table>\n",
       "</div>"
      ],
      "text/plain": [
       "             tweet_id  in_reply_to_status_id  in_reply_to_user_id  \\\n",
       "0  892420643555336193                    NaN                  NaN   \n",
       "1  892177421306343426                    NaN                  NaN   \n",
       "2  891815181378084864                    NaN                  NaN   \n",
       "3  891689557279858688                    NaN                  NaN   \n",
       "4  891327558926688256                    NaN                  NaN   \n",
       "\n",
       "                   timestamp  \\\n",
       "0  2017-08-01 16:23:56 +0000   \n",
       "1  2017-08-01 00:17:27 +0000   \n",
       "2  2017-07-31 00:18:03 +0000   \n",
       "3  2017-07-30 15:58:51 +0000   \n",
       "4  2017-07-29 16:00:24 +0000   \n",
       "\n",
       "                                              source  \\\n",
       "0  <a href=\"http://twitter.com/download/iphone\" r...   \n",
       "1  <a href=\"http://twitter.com/download/iphone\" r...   \n",
       "2  <a href=\"http://twitter.com/download/iphone\" r...   \n",
       "3  <a href=\"http://twitter.com/download/iphone\" r...   \n",
       "4  <a href=\"http://twitter.com/download/iphone\" r...   \n",
       "\n",
       "                                                text  retweeted_status_id  \\\n",
       "0  This is Phineas. He's a mystical boy. Only eve...                  NaN   \n",
       "1  This is Tilly. She's just checking pup on you....                  NaN   \n",
       "2  This is Archie. He is a rare Norwegian Pouncin...                  NaN   \n",
       "3  This is Darla. She commenced a snooze mid meal...                  NaN   \n",
       "4  This is Franklin. He would like you to stop ca...                  NaN   \n",
       "\n",
       "   retweeted_status_user_id retweeted_status_timestamp  \\\n",
       "0                       NaN                        NaN   \n",
       "1                       NaN                        NaN   \n",
       "2                       NaN                        NaN   \n",
       "3                       NaN                        NaN   \n",
       "4                       NaN                        NaN   \n",
       "\n",
       "                                       expanded_urls  rating_numerator  \\\n",
       "0  https://twitter.com/dog_rates/status/892420643...                13   \n",
       "1  https://twitter.com/dog_rates/status/892177421...                13   \n",
       "2  https://twitter.com/dog_rates/status/891815181...                12   \n",
       "3  https://twitter.com/dog_rates/status/891689557...                13   \n",
       "4  https://twitter.com/dog_rates/status/891327558...                12   \n",
       "\n",
       "   rating_denominator      name doggo floofer pupper puppo  \n",
       "0                  10   Phineas  None    None   None  None  \n",
       "1                  10     Tilly  None    None   None  None  \n",
       "2                  10    Archie  None    None   None  None  \n",
       "3                  10     Darla  None    None   None  None  \n",
       "4                  10  Franklin  None    None   None  None  "
      ]
     },
     "execution_count": 11,
     "metadata": {},
     "output_type": "execute_result"
    }
   ],
   "source": [
    "df_archive.head()"
   ]
  },
  {
   "cell_type": "code",
   "execution_count": 12,
   "metadata": {},
   "outputs": [
    {
     "data": {
      "text/plain": [
       "(2356, 17)"
      ]
     },
     "execution_count": 12,
     "metadata": {},
     "output_type": "execute_result"
    }
   ],
   "source": [
    "df_archive.shape"
   ]
  },
  {
   "cell_type": "code",
   "execution_count": 13,
   "metadata": {},
   "outputs": [
    {
     "data": {
      "text/plain": [
       "tweet_id                        int64\n",
       "in_reply_to_status_id         float64\n",
       "in_reply_to_user_id           float64\n",
       "timestamp                      object\n",
       "source                         object\n",
       "text                           object\n",
       "retweeted_status_id           float64\n",
       "retweeted_status_user_id      float64\n",
       "retweeted_status_timestamp     object\n",
       "expanded_urls                  object\n",
       "rating_numerator                int64\n",
       "rating_denominator              int64\n",
       "name                           object\n",
       "doggo                          object\n",
       "floofer                        object\n",
       "pupper                         object\n",
       "puppo                          object\n",
       "dtype: object"
      ]
     },
     "execution_count": 13,
     "metadata": {},
     "output_type": "execute_result"
    }
   ],
   "source": [
    "df_archive.dtypes"
   ]
  },
  {
   "cell_type": "code",
   "execution_count": 14,
   "metadata": {},
   "outputs": [
    {
     "data": {
      "text/plain": [
       "None          745\n",
       "a              55\n",
       "Charlie        12\n",
       "Cooper         11\n",
       "Lucy           11\n",
       "             ... \n",
       "Dex             1\n",
       "Ace             1\n",
       "Tayzie          1\n",
       "Grizzie         1\n",
       "Christoper      1\n",
       "Name: name, Length: 957, dtype: int64"
      ]
     },
     "execution_count": 14,
     "metadata": {},
     "output_type": "execute_result"
    }
   ],
   "source": [
    "df_archive.name.value_counts()"
   ]
  },
  {
   "cell_type": "code",
   "execution_count": 15,
   "metadata": {},
   "outputs": [
    {
     "data": {
      "text/plain": [
       "tweet_id                         0\n",
       "in_reply_to_status_id         2278\n",
       "in_reply_to_user_id           2278\n",
       "timestamp                        0\n",
       "source                           0\n",
       "text                             0\n",
       "retweeted_status_id           2175\n",
       "retweeted_status_user_id      2175\n",
       "retweeted_status_timestamp    2175\n",
       "expanded_urls                   59\n",
       "rating_numerator                 0\n",
       "rating_denominator               0\n",
       "name                             0\n",
       "doggo                            0\n",
       "floofer                          0\n",
       "pupper                           0\n",
       "puppo                            0\n",
       "dtype: int64"
      ]
     },
     "execution_count": 15,
     "metadata": {},
     "output_type": "execute_result"
    }
   ],
   "source": [
    "df_archive.isna().sum()"
   ]
  },
  {
   "cell_type": "code",
   "execution_count": 16,
   "metadata": {},
   "outputs": [
    {
     "data": {
      "text/plain": [
       "2047    Scruffers\n",
       "506         Sammy\n",
       "865         Scout\n",
       "956          None\n",
       "1274         None\n",
       "1056         Doug\n",
       "1495        Amber\n",
       "1291       Cooper\n",
       "1301         None\n",
       "1285       Bobble\n",
       "595          None\n",
       "141          None\n",
       "884         Sadie\n",
       "600          None\n",
       "1008         None\n",
       "1417       Claude\n",
       "2242         None\n",
       "844        Brudge\n",
       "1880       Mollie\n",
       "1705        Ellie\n",
       "Name: name, dtype: object"
      ]
     },
     "execution_count": 16,
     "metadata": {},
     "output_type": "execute_result"
    }
   ],
   "source": [
    "df_archive.name.sample(20)"
   ]
  },
  {
   "cell_type": "code",
   "execution_count": 17,
   "metadata": {},
   "outputs": [
    {
     "data": {
      "text/plain": [
       "0"
      ]
     },
     "execution_count": 17,
     "metadata": {},
     "output_type": "execute_result"
    }
   ],
   "source": [
    "df_archive.rating_numerator.isna().sum()"
   ]
  },
  {
   "cell_type": "code",
   "execution_count": 18,
   "metadata": {},
   "outputs": [
    {
     "data": {
      "text/plain": [
       "12      558\n",
       "11      464\n",
       "10      461\n",
       "13      351\n",
       "9       158\n",
       "8       102\n",
       "7        55\n",
       "14       54\n",
       "5        37\n",
       "6        32\n",
       "3        19\n",
       "4        17\n",
       "2         9\n",
       "1         9\n",
       "75        2\n",
       "15        2\n",
       "420       2\n",
       "0         2\n",
       "80        1\n",
       "144       1\n",
       "17        1\n",
       "26        1\n",
       "20        1\n",
       "121       1\n",
       "143       1\n",
       "44        1\n",
       "60        1\n",
       "45        1\n",
       "50        1\n",
       "99        1\n",
       "204       1\n",
       "1776      1\n",
       "165       1\n",
       "666       1\n",
       "27        1\n",
       "182       1\n",
       "24        1\n",
       "960       1\n",
       "84        1\n",
       "88        1\n",
       "Name: rating_numerator, dtype: int64"
      ]
     },
     "execution_count": 18,
     "metadata": {},
     "output_type": "execute_result"
    }
   ],
   "source": [
    "df_archive.rating_numerator.value_counts()"
   ]
  },
  {
   "cell_type": "code",
   "execution_count": 19,
   "metadata": {},
   "outputs": [
    {
     "data": {
      "text/plain": [
       "10     2333\n",
       "11        3\n",
       "50        3\n",
       "20        2\n",
       "80        2\n",
       "70        1\n",
       "7         1\n",
       "15        1\n",
       "150       1\n",
       "170       1\n",
       "0         1\n",
       "90        1\n",
       "40        1\n",
       "130       1\n",
       "110       1\n",
       "16        1\n",
       "120       1\n",
       "2         1\n",
       "Name: rating_denominator, dtype: int64"
      ]
     },
     "execution_count": 19,
     "metadata": {},
     "output_type": "execute_result"
    }
   ],
   "source": [
    "df_archive.rating_denominator.value_counts()"
   ]
  },
  {
   "cell_type": "code",
   "execution_count": 20,
   "metadata": {},
   "outputs": [
    {
     "data": {
      "text/html": [
       "<div>\n",
       "<style scoped>\n",
       "    .dataframe tbody tr th:only-of-type {\n",
       "        vertical-align: middle;\n",
       "    }\n",
       "\n",
       "    .dataframe tbody tr th {\n",
       "        vertical-align: top;\n",
       "    }\n",
       "\n",
       "    .dataframe thead th {\n",
       "        text-align: right;\n",
       "    }\n",
       "</style>\n",
       "<table border=\"1\" class=\"dataframe\">\n",
       "  <thead>\n",
       "    <tr style=\"text-align: right;\">\n",
       "      <th></th>\n",
       "      <th>tweet_id</th>\n",
       "      <th>retweet_count</th>\n",
       "      <th>favorite_count</th>\n",
       "    </tr>\n",
       "  </thead>\n",
       "  <tbody>\n",
       "    <tr>\n",
       "      <th>0</th>\n",
       "      <td>892420643555336193</td>\n",
       "      <td>8853</td>\n",
       "      <td>39467</td>\n",
       "    </tr>\n",
       "    <tr>\n",
       "      <th>1</th>\n",
       "      <td>892177421306343426</td>\n",
       "      <td>6514</td>\n",
       "      <td>33819</td>\n",
       "    </tr>\n",
       "    <tr>\n",
       "      <th>2</th>\n",
       "      <td>891815181378084864</td>\n",
       "      <td>4328</td>\n",
       "      <td>25461</td>\n",
       "    </tr>\n",
       "    <tr>\n",
       "      <th>3</th>\n",
       "      <td>891689557279858688</td>\n",
       "      <td>8964</td>\n",
       "      <td>42908</td>\n",
       "    </tr>\n",
       "    <tr>\n",
       "      <th>4</th>\n",
       "      <td>891327558926688256</td>\n",
       "      <td>9774</td>\n",
       "      <td>41048</td>\n",
       "    </tr>\n",
       "  </tbody>\n",
       "</table>\n",
       "</div>"
      ],
      "text/plain": [
       "             tweet_id  retweet_count  favorite_count\n",
       "0  892420643555336193           8853           39467\n",
       "1  892177421306343426           6514           33819\n",
       "2  891815181378084864           4328           25461\n",
       "3  891689557279858688           8964           42908\n",
       "4  891327558926688256           9774           41048"
      ]
     },
     "execution_count": 20,
     "metadata": {},
     "output_type": "execute_result"
    }
   ],
   "source": [
    "df_json.head()"
   ]
  },
  {
   "cell_type": "code",
   "execution_count": 21,
   "metadata": {},
   "outputs": [
    {
     "data": {
      "text/plain": [
       "tweet_id          int64\n",
       "retweet_count     int64\n",
       "favorite_count    int64\n",
       "dtype: object"
      ]
     },
     "execution_count": 21,
     "metadata": {},
     "output_type": "execute_result"
    }
   ],
   "source": [
    "df_json.dtypes"
   ]
  },
  {
   "cell_type": "code",
   "execution_count": 22,
   "metadata": {},
   "outputs": [
    {
     "data": {
      "text/html": [
       "<div>\n",
       "<style scoped>\n",
       "    .dataframe tbody tr th:only-of-type {\n",
       "        vertical-align: middle;\n",
       "    }\n",
       "\n",
       "    .dataframe tbody tr th {\n",
       "        vertical-align: top;\n",
       "    }\n",
       "\n",
       "    .dataframe thead th {\n",
       "        text-align: right;\n",
       "    }\n",
       "</style>\n",
       "<table border=\"1\" class=\"dataframe\">\n",
       "  <thead>\n",
       "    <tr style=\"text-align: right;\">\n",
       "      <th></th>\n",
       "      <th>tweet_id</th>\n",
       "      <th>jpg_url</th>\n",
       "      <th>img_num</th>\n",
       "      <th>p1</th>\n",
       "      <th>p1_conf</th>\n",
       "      <th>p1_dog</th>\n",
       "      <th>p2</th>\n",
       "      <th>p2_conf</th>\n",
       "      <th>p2_dog</th>\n",
       "      <th>p3</th>\n",
       "      <th>p3_conf</th>\n",
       "      <th>p3_dog</th>\n",
       "    </tr>\n",
       "  </thead>\n",
       "  <tbody>\n",
       "    <tr>\n",
       "      <th>0</th>\n",
       "      <td>666020888022790149</td>\n",
       "      <td>https://pbs.twimg.com/media/CT4udn0WwAA0aMy.jpg</td>\n",
       "      <td>1</td>\n",
       "      <td>Welsh_springer_spaniel</td>\n",
       "      <td>0.47</td>\n",
       "      <td>True</td>\n",
       "      <td>collie</td>\n",
       "      <td>0.16</td>\n",
       "      <td>True</td>\n",
       "      <td>Shetland_sheepdog</td>\n",
       "      <td>0.06</td>\n",
       "      <td>True</td>\n",
       "    </tr>\n",
       "    <tr>\n",
       "      <th>1</th>\n",
       "      <td>666029285002620928</td>\n",
       "      <td>https://pbs.twimg.com/media/CT42GRgUYAA5iDo.jpg</td>\n",
       "      <td>1</td>\n",
       "      <td>redbone</td>\n",
       "      <td>0.51</td>\n",
       "      <td>True</td>\n",
       "      <td>miniature_pinscher</td>\n",
       "      <td>0.07</td>\n",
       "      <td>True</td>\n",
       "      <td>Rhodesian_ridgeback</td>\n",
       "      <td>0.07</td>\n",
       "      <td>True</td>\n",
       "    </tr>\n",
       "    <tr>\n",
       "      <th>2</th>\n",
       "      <td>666033412701032449</td>\n",
       "      <td>https://pbs.twimg.com/media/CT4521TWwAEvMyu.jpg</td>\n",
       "      <td>1</td>\n",
       "      <td>German_shepherd</td>\n",
       "      <td>0.60</td>\n",
       "      <td>True</td>\n",
       "      <td>malinois</td>\n",
       "      <td>0.14</td>\n",
       "      <td>True</td>\n",
       "      <td>bloodhound</td>\n",
       "      <td>0.12</td>\n",
       "      <td>True</td>\n",
       "    </tr>\n",
       "    <tr>\n",
       "      <th>3</th>\n",
       "      <td>666044226329800704</td>\n",
       "      <td>https://pbs.twimg.com/media/CT5Dr8HUEAA-lEu.jpg</td>\n",
       "      <td>1</td>\n",
       "      <td>Rhodesian_ridgeback</td>\n",
       "      <td>0.41</td>\n",
       "      <td>True</td>\n",
       "      <td>redbone</td>\n",
       "      <td>0.36</td>\n",
       "      <td>True</td>\n",
       "      <td>miniature_pinscher</td>\n",
       "      <td>0.22</td>\n",
       "      <td>True</td>\n",
       "    </tr>\n",
       "    <tr>\n",
       "      <th>4</th>\n",
       "      <td>666049248165822465</td>\n",
       "      <td>https://pbs.twimg.com/media/CT5IQmsXIAAKY4A.jpg</td>\n",
       "      <td>1</td>\n",
       "      <td>miniature_pinscher</td>\n",
       "      <td>0.56</td>\n",
       "      <td>True</td>\n",
       "      <td>Rottweiler</td>\n",
       "      <td>0.24</td>\n",
       "      <td>True</td>\n",
       "      <td>Doberman</td>\n",
       "      <td>0.15</td>\n",
       "      <td>True</td>\n",
       "    </tr>\n",
       "  </tbody>\n",
       "</table>\n",
       "</div>"
      ],
      "text/plain": [
       "             tweet_id                                          jpg_url  \\\n",
       "0  666020888022790149  https://pbs.twimg.com/media/CT4udn0WwAA0aMy.jpg   \n",
       "1  666029285002620928  https://pbs.twimg.com/media/CT42GRgUYAA5iDo.jpg   \n",
       "2  666033412701032449  https://pbs.twimg.com/media/CT4521TWwAEvMyu.jpg   \n",
       "3  666044226329800704  https://pbs.twimg.com/media/CT5Dr8HUEAA-lEu.jpg   \n",
       "4  666049248165822465  https://pbs.twimg.com/media/CT5IQmsXIAAKY4A.jpg   \n",
       "\n",
       "   img_num                      p1              p1_conf  p1_dog  \\\n",
       "0        1  Welsh_springer_spaniel                 0.47    True   \n",
       "1        1                 redbone                 0.51    True   \n",
       "2        1         German_shepherd                 0.60    True   \n",
       "3        1     Rhodesian_ridgeback                 0.41    True   \n",
       "4        1      miniature_pinscher                 0.56    True   \n",
       "\n",
       "                   p2              p2_conf  p2_dog                   p3  \\\n",
       "0              collie                 0.16    True    Shetland_sheepdog   \n",
       "1  miniature_pinscher                 0.07    True  Rhodesian_ridgeback   \n",
       "2            malinois                 0.14    True           bloodhound   \n",
       "3             redbone                 0.36    True   miniature_pinscher   \n",
       "4          Rottweiler                 0.24    True             Doberman   \n",
       "\n",
       "               p3_conf  p3_dog  \n",
       "0                 0.06    True  \n",
       "1                 0.07    True  \n",
       "2                 0.12    True  \n",
       "3                 0.22    True  \n",
       "4                 0.15    True  "
      ]
     },
     "execution_count": 22,
     "metadata": {},
     "output_type": "execute_result"
    }
   ],
   "source": [
    "df_predict.head()"
   ]
  },
  {
   "cell_type": "code",
   "execution_count": 23,
   "metadata": {},
   "outputs": [
    {
     "data": {
      "text/plain": [
       "tweet_id      int64\n",
       "jpg_url      object\n",
       "img_num       int64\n",
       "p1           object\n",
       "p1_conf     float64\n",
       "p1_dog         bool\n",
       "p2           object\n",
       "p2_conf     float64\n",
       "p2_dog         bool\n",
       "p3           object\n",
       "p3_conf     float64\n",
       "p3_dog         bool\n",
       "dtype: object"
      ]
     },
     "execution_count": 23,
     "metadata": {},
     "output_type": "execute_result"
    }
   ],
   "source": [
    "df_predict.dtypes"
   ]
  },
  {
   "cell_type": "code",
   "execution_count": 24,
   "metadata": {},
   "outputs": [
    {
     "data": {
      "text/plain": [
       "tweet_id    0\n",
       "jpg_url     0\n",
       "img_num     0\n",
       "p1          0\n",
       "p1_conf     0\n",
       "p1_dog      0\n",
       "p2          0\n",
       "p2_conf     0\n",
       "p2_dog      0\n",
       "p3          0\n",
       "p3_conf     0\n",
       "p3_dog      0\n",
       "dtype: int64"
      ]
     },
     "execution_count": 24,
     "metadata": {},
     "output_type": "execute_result"
    }
   ],
   "source": [
    "df_predict.isna().sum()"
   ]
  },
  {
   "cell_type": "raw",
   "metadata": {},
   "source": []
  },
  {
   "cell_type": "markdown",
   "metadata": {},
   "source": [
    "### Quality issues\n",
    "1. In the prediction data frame, some dog breeds are capitalized, while others are not.\n",
    "\n",
    "2. In the dog 'name' column in the twitter archive, some cells have a value of 'None'.\n",
    "\n",
    "3. In the dog 'name' column in the twitter archive, there are lowercase words that are obviously not names.\n",
    "\n",
    "4. For most dogs in the twitter archive, there is no information about the dog stage. The cells contain 'None'.\n",
    "\n",
    "5. There are retweets in the twitter archive. \n",
    "\n",
    "6. In the twitter archive, there are some rare values of the rating numerator (with counts of 1 or 2). Most of them are extreme. \n",
    "\n",
    "7. In the twitter archive, some values of 'rating_denominator' are different from 10 (all rare, with counts of 1, 2 or 3).\n",
    "\n",
    "8. In the data frame from the json file, the tweet_id column is of type 'float64'. This is problematic, because it does not fit the data type in the other two data frames."
   ]
  },
  {
   "cell_type": "markdown",
   "metadata": {
    "extensions": {
     "jupyter_dashboards": {
      "version": 1,
      "views": {
       "grid_default": {
        "col": 0,
        "height": 7,
        "hidden": false,
        "row": 40,
        "width": 12
       },
       "report_default": {
        "hidden": false
       }
      }
     }
    }
   },
   "source": [
    "### Tidiness issues\n",
    "1. The prediction data frame contains only one variable: the predicted dog breed.\n",
    "\n",
    " 1.1. Quality issue #9: After transforming into one column, there are NaN values, because for some dogs, all three predictions were not of a dog.\n",
    "\n",
    "\n",
    "2. In the twitter archive, the dog stages are one variable and should be one column.\n",
    "\n",
    "\n",
    "3. The unit of observation in all three tables is the same: the tweet (after trimming extra rows, tables should be merged on the tweet ID column).\n",
    "\n",
    "    - Although it could be argued that in the prediction dataframe the unit is the dog; but since we are trimming all of the retweets, each tweet ID in any of the tables should correspond to one dog exactly.\n"
   ]
  },
  {
   "cell_type": "markdown",
   "metadata": {
    "extensions": {
     "jupyter_dashboards": {
      "version": 1,
      "views": {
       "grid_default": {
        "col": 4,
        "height": 4,
        "hidden": false,
        "row": 32,
        "width": 4
       },
       "report_default": {
        "hidden": false
       }
      }
     }
    }
   },
   "source": [
    "## Cleaning Data\n",
    "In this section, clean **all** of the issues you documented while assessing. \n",
    "\n",
    "**Note:** Make a copy of the original data before cleaning. Cleaning includes merging individual pieces of data according to the rules of [tidy data](https://cran.r-project.org/web/packages/tidyr/vignettes/tidy-data.html). The result should be a high-quality and tidy master pandas DataFrame (or DataFrames, if appropriate)."
   ]
  },
  {
   "cell_type": "code",
   "execution_count": 25,
   "metadata": {},
   "outputs": [],
   "source": [
    "# Make copies of original pieces of data\n",
    "# twitter archive:\n",
    "df_archive_clean = df_archive.copy()\n",
    "# predicted dog breeds:\n",
    "df_predict_clean = df_predict.copy()\n",
    "# retweet & favorite count:\n",
    "df_json_clean = df_json.copy()"
   ]
  },
  {
   "cell_type": "markdown",
   "metadata": {},
   "source": [
    "### Issue #1:\n",
    "\n",
    "df_predict contains only one variable: the predicted dog breed."
   ]
  },
  {
   "cell_type": "markdown",
   "metadata": {
    "collapsed": true,
    "extensions": {
     "jupyter_dashboards": {
      "version": 1,
      "views": {
       "grid_default": {
        "hidden": true
       },
       "report_default": {
        "hidden": true
       }
      }
     }
    }
   },
   "source": [
    "#### Define\n",
    "If the first prediction is of a dog ('p1_dog' = True), take the value of p1 and paste it into a new column;\n",
    "\n",
    "If not: check if 'p2_dog' = True, take the value of p2 and paste it into the new column;\n",
    "\n",
    "If not: check if 'p3_dog' = True, take the value of p3 and paste it into the new column."
   ]
  },
  {
   "cell_type": "markdown",
   "metadata": {},
   "source": [
    "#### Code"
   ]
  },
  {
   "cell_type": "code",
   "execution_count": 26,
   "metadata": {},
   "outputs": [],
   "source": [
    "mask_1 = df_predict_clean['p1_dog']\n",
    "df_predict_clean.loc[mask_1,'dog_breed'] = df_predict_clean.loc[mask_1,'p1'] \n",
    "\n",
    "mask_2 = df_predict_clean['p2_dog'] & ~df_predict_clean['p1_dog']\n",
    "df_predict_clean.loc[mask_2,'dog_breed'] = df_predict_clean.loc[mask_2,'p2']\n",
    "\n",
    "mask_3 = df_predict_clean['p3_dog'] & ~df_predict_clean['p1_dog'] & ~df_predict_clean['p2_dog']\n",
    "df_predict_clean.loc[mask_3,'dog_breed'] = df_predict_clean.loc[mask_2,'p3']"
   ]
  },
  {
   "cell_type": "markdown",
   "metadata": {},
   "source": [
    "#### Test"
   ]
  },
  {
   "cell_type": "code",
   "execution_count": 27,
   "metadata": {},
   "outputs": [
    {
     "data": {
      "text/plain": [
       "0       Welsh_springer_spaniel\n",
       "1                      redbone\n",
       "2              German_shepherd\n",
       "3          Rhodesian_ridgeback\n",
       "4           miniature_pinscher\n",
       "                 ...          \n",
       "2070                    basset\n",
       "2071        Labrador_retriever\n",
       "2072                 Chihuahua\n",
       "2073                 Chihuahua\n",
       "2074                       NaN\n",
       "Name: dog_breed, Length: 2075, dtype: object"
      ]
     },
     "execution_count": 27,
     "metadata": {},
     "output_type": "execute_result"
    }
   ],
   "source": [
    "df_predict_clean.dog_breed"
   ]
  },
  {
   "cell_type": "markdown",
   "metadata": {},
   "source": [
    "### Issue #2:\n",
    "There are NaNs in the dog_breed column."
   ]
  },
  {
   "cell_type": "code",
   "execution_count": 28,
   "metadata": {},
   "outputs": [
    {
     "data": {
      "text/plain": [
       "388"
      ]
     },
     "execution_count": 28,
     "metadata": {},
     "output_type": "execute_result"
    }
   ],
   "source": [
    "df_predict_clean.dog_breed.isna().sum()"
   ]
  },
  {
   "cell_type": "markdown",
   "metadata": {},
   "source": [
    "#### Define:\n",
    "Replace NaNs in dog_breed column by 'no_breed'."
   ]
  },
  {
   "cell_type": "markdown",
   "metadata": {},
   "source": [
    "#### Code"
   ]
  },
  {
   "cell_type": "code",
   "execution_count": 29,
   "metadata": {},
   "outputs": [],
   "source": [
    "#df_archive_clean['dog_stage'] = df_archive_clean['dog_stage'].fillna('no_stage')\n",
    "df_predict_clean['dog_breed'] = df_predict_clean['dog_breed'].fillna('no_breed')"
   ]
  },
  {
   "cell_type": "markdown",
   "metadata": {},
   "source": [
    "#### Test"
   ]
  },
  {
   "cell_type": "code",
   "execution_count": 30,
   "metadata": {},
   "outputs": [
    {
     "data": {
      "text/plain": [
       "no_breed              388\n",
       "golden_retriever      166\n",
       "Labrador_retriever    110\n",
       "Pembroke               94\n",
       "Chihuahua              94\n",
       "                     ... \n",
       "Scotch_terrier          1\n",
       "EntleBucher             1\n",
       "Japanese_spaniel        1\n",
       "standard_schnauzer      1\n",
       "clumber                 1\n",
       "Name: dog_breed, Length: 113, dtype: int64"
      ]
     },
     "execution_count": 30,
     "metadata": {},
     "output_type": "execute_result"
    }
   ],
   "source": [
    "df_predict_clean.dog_breed.value_counts()"
   ]
  },
  {
   "cell_type": "code",
   "execution_count": 31,
   "metadata": {},
   "outputs": [
    {
     "data": {
      "text/plain": [
       "0"
      ]
     },
     "execution_count": 31,
     "metadata": {},
     "output_type": "execute_result"
    }
   ],
   "source": [
    "df_predict_clean.dog_breed.isna().sum()"
   ]
  },
  {
   "cell_type": "markdown",
   "metadata": {},
   "source": [
    "### Issue #3:\n",
    "Some dog breeds are capitalized, while others are not."
   ]
  },
  {
   "cell_type": "markdown",
   "metadata": {},
   "source": [
    "#### Define\n",
    "Decapitalize all dog breeds."
   ]
  },
  {
   "cell_type": "markdown",
   "metadata": {},
   "source": [
    "#### Code"
   ]
  },
  {
   "cell_type": "code",
   "execution_count": 32,
   "metadata": {},
   "outputs": [],
   "source": [
    "#df['x'].str.lower()\n",
    "df_predict_clean['dog_breed'] = df_predict_clean['dog_breed'].str.lower()"
   ]
  },
  {
   "cell_type": "markdown",
   "metadata": {},
   "source": [
    "#### Test"
   ]
  },
  {
   "cell_type": "code",
   "execution_count": 33,
   "metadata": {},
   "outputs": [
    {
     "data": {
      "text/plain": [
       "no_breed              388\n",
       "golden_retriever      166\n",
       "labrador_retriever    110\n",
       "pembroke               94\n",
       "chihuahua              94\n",
       "                     ... \n",
       "scotch_terrier          1\n",
       "entlebucher             1\n",
       "japanese_spaniel        1\n",
       "standard_schnauzer      1\n",
       "clumber                 1\n",
       "Name: dog_breed, Length: 113, dtype: int64"
      ]
     },
     "execution_count": 33,
     "metadata": {},
     "output_type": "execute_result"
    }
   ],
   "source": [
    "df_predict_clean.dog_breed.value_counts()"
   ]
  },
  {
   "cell_type": "markdown",
   "metadata": {},
   "source": [
    "### Issue 4:\n",
    "In the twitter archive, some cells in the 'name' column have a value of 'None'"
   ]
  },
  {
   "cell_type": "markdown",
   "metadata": {},
   "source": [
    "#### Define\n",
    "Replace 'None' by 'no_name'."
   ]
  },
  {
   "cell_type": "markdown",
   "metadata": {},
   "source": [
    "#### Code"
   ]
  },
  {
   "cell_type": "code",
   "execution_count": 34,
   "metadata": {},
   "outputs": [],
   "source": [
    "#df_predict_clean['dog_breed'] = df_predict_clean['dog_breed'].fillna('no_breed')\n",
    "df_archive_clean['name'] = df_archive_clean['name'].fillna('no_name')"
   ]
  },
  {
   "cell_type": "markdown",
   "metadata": {},
   "source": [
    "#### Test"
   ]
  },
  {
   "cell_type": "code",
   "execution_count": 35,
   "metadata": {},
   "outputs": [
    {
     "data": {
      "text/plain": [
       "0"
      ]
     },
     "execution_count": 35,
     "metadata": {},
     "output_type": "execute_result"
    }
   ],
   "source": [
    "df_archive_clean.name.isna().sum()"
   ]
  },
  {
   "cell_type": "code",
   "execution_count": 36,
   "metadata": {},
   "outputs": [
    {
     "data": {
      "text/plain": [
       "None          745\n",
       "a              55\n",
       "Charlie        12\n",
       "Cooper         11\n",
       "Lucy           11\n",
       "             ... \n",
       "Dex             1\n",
       "Ace             1\n",
       "Tayzie          1\n",
       "Grizzie         1\n",
       "Christoper      1\n",
       "Name: name, Length: 957, dtype: int64"
      ]
     },
     "execution_count": 36,
     "metadata": {},
     "output_type": "execute_result"
    }
   ],
   "source": [
    "df_archive_clean.name.value_counts()"
   ]
  },
  {
   "cell_type": "markdown",
   "metadata": {},
   "source": [
    "### Issue #4.1:\n",
    "After fillna('no_name'), there are still 'None' values."
   ]
  },
  {
   "cell_type": "markdown",
   "metadata": {},
   "source": [
    "#### Define\n",
    "Replace 'None' in df_archive.name by 'no_name' with str.replace"
   ]
  },
  {
   "cell_type": "markdown",
   "metadata": {},
   "source": [
    "#### Code"
   ]
  },
  {
   "cell_type": "code",
   "execution_count": 37,
   "metadata": {},
   "outputs": [],
   "source": [
    "df_archive_clean['name'] = df_archive_clean['name'].replace({'None':'no_name'})"
   ]
  },
  {
   "cell_type": "markdown",
   "metadata": {},
   "source": [
    "#### Test"
   ]
  },
  {
   "cell_type": "code",
   "execution_count": 38,
   "metadata": {},
   "outputs": [
    {
     "data": {
      "text/plain": [
       "no_name       745\n",
       "a              55\n",
       "Charlie        12\n",
       "Cooper         11\n",
       "Lucy           11\n",
       "             ... \n",
       "Dex             1\n",
       "Ace             1\n",
       "Tayzie          1\n",
       "Grizzie         1\n",
       "Christoper      1\n",
       "Name: name, Length: 957, dtype: int64"
      ]
     },
     "execution_count": 38,
     "metadata": {},
     "output_type": "execute_result"
    }
   ],
   "source": [
    "df_archive_clean['name'].value_counts()"
   ]
  },
  {
   "cell_type": "markdown",
   "metadata": {},
   "source": [
    "### Issue #5:\n",
    "Better: In the twitter archive, some cells in the 'name' column contain a lowercase words which are obviously not names. "
   ]
  },
  {
   "cell_type": "markdown",
   "metadata": {},
   "source": [
    "#### Define:\n",
    "Better: replace all lowercase values by NaN (by boolean mask); then replace 'NaN' by 'no_name'."
   ]
  },
  {
   "cell_type": "markdown",
   "metadata": {},
   "source": [
    "#### Code"
   ]
  },
  {
   "cell_type": "code",
   "execution_count": 39,
   "metadata": {},
   "outputs": [],
   "source": [
    "#df_archive_clean['name'] = df_archive_clean['name'].replace({'a':'no_name', 'an':'no_name', 'just':'no_name', 'very':'no_name', 'the':'no_name', 'not':'no_name', 'by':'no_name', 'space':'no_name', 'life':'no_name'})"
   ]
  },
  {
   "cell_type": "code",
   "execution_count": 40,
   "metadata": {},
   "outputs": [],
   "source": [
    "#https://stackoverflow.com/questions/61867937/boolean-masking-to-replace-all-strings-containing-only-zero-in-pandas-column\n",
    "#dftest['col2'] = dftest['col2'].mask(dftest['col2'].str.contains('^[0]+$'))\n",
    "df_archive_clean['name'] = df_archive_clean['name'].mask(df_archive_clean['name'].str.islower())"
   ]
  },
  {
   "cell_type": "code",
   "execution_count": 41,
   "metadata": {},
   "outputs": [],
   "source": [
    "# replace NaN by 'no_name':\n",
    "df_archive_clean['name'] = df_archive_clean['name'].fillna('no_name')"
   ]
  },
  {
   "cell_type": "markdown",
   "metadata": {},
   "source": [
    "#### Test"
   ]
  },
  {
   "cell_type": "code",
   "execution_count": 42,
   "metadata": {},
   "outputs": [
    {
     "data": {
      "text/plain": [
       "no_name       854\n",
       "Charlie        12\n",
       "Lucy           11\n",
       "Cooper         11\n",
       "Oliver         11\n",
       "             ... \n",
       "Devón           1\n",
       "Gert            1\n",
       "Dex             1\n",
       "Ace             1\n",
       "Christoper      1\n",
       "Name: name, Length: 932, dtype: int64"
      ]
     },
     "execution_count": 42,
     "metadata": {},
     "output_type": "execute_result"
    }
   ],
   "source": [
    "df_archive_clean.name.value_counts()"
   ]
  },
  {
   "cell_type": "code",
   "execution_count": 43,
   "metadata": {},
   "outputs": [
    {
     "data": {
      "text/plain": [
       "734      Oakley\n",
       "436     no_name\n",
       "495     Eleanor\n",
       "800      Gromit\n",
       "2052    Malcolm\n",
       "1329        Max\n",
       "313     no_name\n",
       "1901    no_name\n",
       "1645     Jiminy\n",
       "670       Happy\n",
       "1107     Livvie\n",
       "910      Cooper\n",
       "416     no_name\n",
       "1433    no_name\n",
       "1040    no_name\n",
       "1074      Simba\n",
       "656      Maddie\n",
       "154     no_name\n",
       "1725      Emmie\n",
       "2092    no_name\n",
       "Name: name, dtype: object"
      ]
     },
     "execution_count": 43,
     "metadata": {},
     "output_type": "execute_result"
    }
   ],
   "source": [
    "df_archive_clean.name.sample(20)"
   ]
  },
  {
   "cell_type": "code",
   "execution_count": 44,
   "metadata": {},
   "outputs": [],
   "source": [
    "#df_archive_clean.name.islower.any()"
   ]
  },
  {
   "cell_type": "markdown",
   "metadata": {},
   "source": [
    "### Issue #6:\n",
    "In df_archive, the dog stages are one variable and should be one column.\n",
    "Furthermore, replace 'None' by 'no_stage' (cleaning)."
   ]
  },
  {
   "cell_type": "markdown",
   "metadata": {},
   "source": [
    "#### Define\n",
    "Paste the values that are different from 'None' into a new column 'dog_stage'; change 'None'-values to 'no_stage'."
   ]
  },
  {
   "cell_type": "markdown",
   "metadata": {},
   "source": [
    "#### Code"
   ]
  },
  {
   "cell_type": "code",
   "execution_count": 45,
   "metadata": {},
   "outputs": [],
   "source": [
    "mask_doggo = df_archive_clean.doggo == 'doggo'\n",
    "df_archive_clean.loc[mask_doggo,'dog_stage'] = df_archive_clean.loc[mask_doggo,'doggo']\n",
    "\n",
    "mask_floofer = df_archive_clean.floofer == 'floofer'\n",
    "df_archive_clean.loc[mask_floofer,'dog_stage'] = df_archive_clean.loc[mask_floofer,'floofer']\n",
    "\n",
    "mask_pupper = df_archive_clean.pupper == 'pupper'\n",
    "df_archive_clean.loc[mask_pupper,'dog_stage'] = df_archive_clean.loc[mask_pupper,'pupper']\n",
    "\n",
    "mask_puppo = df_archive_clean.puppo == 'puppo'\n",
    "df_archive_clean.loc[mask_puppo,'dog_stage'] = df_archive_clean.loc[mask_puppo,'puppo']\n",
    "\n",
    "#replace 'none' by 'no_stage'\n",
    "df_archive_clean['dog_stage'] = df_archive_clean['dog_stage'].fillna('no_stage')"
   ]
  },
  {
   "cell_type": "markdown",
   "metadata": {},
   "source": [
    "#### Test"
   ]
  },
  {
   "cell_type": "code",
   "execution_count": 46,
   "metadata": {},
   "outputs": [
    {
     "data": {
      "text/plain": [
       "no_stage    1976\n",
       "pupper       257\n",
       "doggo         83\n",
       "puppo         30\n",
       "floofer       10\n",
       "Name: dog_stage, dtype: int64"
      ]
     },
     "execution_count": 46,
     "metadata": {},
     "output_type": "execute_result"
    }
   ],
   "source": [
    "df_archive_clean.dog_stage.value_counts()"
   ]
  },
  {
   "cell_type": "code",
   "execution_count": 47,
   "metadata": {},
   "outputs": [
    {
     "data": {
      "text/plain": [
       "0"
      ]
     },
     "execution_count": 47,
     "metadata": {},
     "output_type": "execute_result"
    }
   ],
   "source": [
    "df_archive_clean.dog_stage.isna().sum()"
   ]
  },
  {
   "cell_type": "markdown",
   "metadata": {},
   "source": [
    "### Issue #7:\n",
    "There are retweets in df_archive. "
   ]
  },
  {
   "cell_type": "markdown",
   "metadata": {},
   "source": [
    "#### Define\n",
    "Remove the retweets: keep only rows of df_archive where 'retweeted_status_id' is NaN."
   ]
  },
  {
   "cell_type": "markdown",
   "metadata": {},
   "source": [
    "#### Code"
   ]
  },
  {
   "cell_type": "code",
   "execution_count": 48,
   "metadata": {},
   "outputs": [],
   "source": [
    "df_archive_clean = df_archive_clean[df_archive_clean['retweeted_status_id'].isna()]"
   ]
  },
  {
   "cell_type": "markdown",
   "metadata": {},
   "source": [
    "#### Test"
   ]
  },
  {
   "cell_type": "code",
   "execution_count": 49,
   "metadata": {},
   "outputs": [
    {
     "data": {
      "text/plain": [
       "0"
      ]
     },
     "execution_count": 49,
     "metadata": {},
     "output_type": "execute_result"
    }
   ],
   "source": [
    "df_archive_clean.retweeted_status_id.notna().sum()"
   ]
  },
  {
   "cell_type": "code",
   "execution_count": 50,
   "metadata": {},
   "outputs": [
    {
     "data": {
      "text/plain": [
       "(2175, 18)"
      ]
     },
     "execution_count": 50,
     "metadata": {},
     "output_type": "execute_result"
    }
   ],
   "source": [
    "df_archive_clean.shape"
   ]
  },
  {
   "cell_type": "markdown",
   "metadata": {},
   "source": [
    "### Issue #8:\n",
    "In the twitter archive, there are some rare values of the rating numerator (with counts of 1 or 2). Most of them are extreme (outliers)."
   ]
  },
  {
   "cell_type": "markdown",
   "metadata": {},
   "source": [
    "#### Define\n",
    "Keep only rows where the count of rating numerator is higher than 2. (This way, the max. numerator would be 0, the min. would be 14.)"
   ]
  },
  {
   "cell_type": "markdown",
   "metadata": {},
   "source": [
    "#### Code"
   ]
  },
  {
   "cell_type": "code",
   "execution_count": 51,
   "metadata": {},
   "outputs": [],
   "source": [
    "num_counts = df_archive_clean.rating_numerator.value_counts()\n",
    "df_archive_clean = df_archive_clean[~df_archive_clean['rating_numerator'].isin(num_counts[num_counts < 3].index)]"
   ]
  },
  {
   "cell_type": "markdown",
   "metadata": {},
   "source": [
    "#### Test"
   ]
  },
  {
   "cell_type": "code",
   "execution_count": 52,
   "metadata": {},
   "outputs": [
    {
     "data": {
      "text/plain": [
       "12    500\n",
       "10    442\n",
       "11    426\n",
       "13    307\n",
       "9     156\n",
       "8      98\n",
       "7      54\n",
       "14     43\n",
       "5      36\n",
       "6      32\n",
       "3      19\n",
       "4      17\n",
       "2       9\n",
       "1       8\n",
       "Name: rating_numerator, dtype: int64"
      ]
     },
     "execution_count": 52,
     "metadata": {},
     "output_type": "execute_result"
    }
   ],
   "source": [
    "df_archive_clean.rating_numerator.value_counts()"
   ]
  },
  {
   "cell_type": "markdown",
   "metadata": {},
   "source": [
    "### Issue #9 (last):\n",
    "In the twitter archive, some values of 'rating_denominator' are different from 10 (all rare, with counts of 1, 2 or 3)."
   ]
  },
  {
   "cell_type": "markdown",
   "metadata": {},
   "source": [
    "#### Define\n",
    "Remove all values of 'rating_denominator' that are different from 10 by saving only rows where the value of 'rating_denominator' is 10."
   ]
  },
  {
   "cell_type": "code",
   "execution_count": 53,
   "metadata": {},
   "outputs": [],
   "source": [
    "#num_counts = df_archive_clean.rating_numerator.value_counts()\n",
    "#df_archive_clean = df_archive_clean[~df_archive_clean['rating_numerator'].isin(num_counts[num_counts < 3].index)]\n",
    "#df[(df['B']=='Blue') & (df['C']=='Green')]\n",
    "\n",
    "df_archive_clean = df_archive_clean[df_archive_clean['rating_denominator'] == 10]"
   ]
  },
  {
   "cell_type": "markdown",
   "metadata": {},
   "source": [
    "#### Test"
   ]
  },
  {
   "cell_type": "code",
   "execution_count": 54,
   "metadata": {},
   "outputs": [
    {
     "data": {
      "text/plain": [
       "10    2141\n",
       "Name: rating_denominator, dtype: int64"
      ]
     },
     "execution_count": 54,
     "metadata": {},
     "output_type": "execute_result"
    }
   ],
   "source": [
    "df_archive_clean.rating_denominator.value_counts()"
   ]
  },
  {
   "cell_type": "markdown",
   "metadata": {},
   "source": [
    "### Issue #10:\n",
    "In df_json, the tweet_id column is of type 'float64'."
   ]
  },
  {
   "cell_type": "markdown",
   "metadata": {},
   "source": [
    "#### Define\n",
    "Change type of df_json.tweet_id to 'int64'"
   ]
  },
  {
   "cell_type": "markdown",
   "metadata": {},
   "source": [
    "#### Code"
   ]
  },
  {
   "cell_type": "code",
   "execution_count": 55,
   "metadata": {},
   "outputs": [],
   "source": [
    "df_json['tweet_id'] = df_json['tweet_id'].astype(int)"
   ]
  },
  {
   "cell_type": "markdown",
   "metadata": {},
   "source": [
    "#### Test"
   ]
  },
  {
   "cell_type": "code",
   "execution_count": 56,
   "metadata": {},
   "outputs": [
    {
     "data": {
      "text/plain": [
       "tweet_id          int32\n",
       "retweet_count     int64\n",
       "favorite_count    int64\n",
       "dtype: object"
      ]
     },
     "execution_count": 56,
     "metadata": {},
     "output_type": "execute_result"
    }
   ],
   "source": [
    "df_json.dtypes"
   ]
  },
  {
   "cell_type": "code",
   "execution_count": 57,
   "metadata": {},
   "outputs": [
    {
     "data": {
      "text/html": [
       "<div>\n",
       "<style scoped>\n",
       "    .dataframe tbody tr th:only-of-type {\n",
       "        vertical-align: middle;\n",
       "    }\n",
       "\n",
       "    .dataframe tbody tr th {\n",
       "        vertical-align: top;\n",
       "    }\n",
       "\n",
       "    .dataframe thead th {\n",
       "        text-align: right;\n",
       "    }\n",
       "</style>\n",
       "<table border=\"1\" class=\"dataframe\">\n",
       "  <thead>\n",
       "    <tr style=\"text-align: right;\">\n",
       "      <th></th>\n",
       "      <th>tweet_id</th>\n",
       "      <th>retweet_count</th>\n",
       "      <th>favorite_count</th>\n",
       "    </tr>\n",
       "  </thead>\n",
       "  <tbody>\n",
       "    <tr>\n",
       "      <th>0</th>\n",
       "      <td>-648585215</td>\n",
       "      <td>8853</td>\n",
       "      <td>39467</td>\n",
       "    </tr>\n",
       "    <tr>\n",
       "      <th>1</th>\n",
       "      <td>1100394498</td>\n",
       "      <td>6514</td>\n",
       "      <td>33819</td>\n",
       "    </tr>\n",
       "    <tr>\n",
       "      <th>2</th>\n",
       "      <td>-1286119424</td>\n",
       "      <td>4328</td>\n",
       "      <td>25461</td>\n",
       "    </tr>\n",
       "    <tr>\n",
       "      <th>3</th>\n",
       "      <td>-1885904896</td>\n",
       "      <td>8964</td>\n",
       "      <td>42908</td>\n",
       "    </tr>\n",
       "    <tr>\n",
       "      <th>4</th>\n",
       "      <td>1079468032</td>\n",
       "      <td>9774</td>\n",
       "      <td>41048</td>\n",
       "    </tr>\n",
       "  </tbody>\n",
       "</table>\n",
       "</div>"
      ],
      "text/plain": [
       "     tweet_id  retweet_count  favorite_count\n",
       "0  -648585215           8853           39467\n",
       "1  1100394498           6514           33819\n",
       "2 -1286119424           4328           25461\n",
       "3 -1885904896           8964           42908\n",
       "4  1079468032           9774           41048"
      ]
     },
     "execution_count": 57,
     "metadata": {},
     "output_type": "execute_result"
    }
   ],
   "source": [
    "df_json.head()"
   ]
  },
  {
   "cell_type": "markdown",
   "metadata": {},
   "source": [
    "### Recheck dfs"
   ]
  },
  {
   "cell_type": "code",
   "execution_count": 58,
   "metadata": {},
   "outputs": [
    {
     "data": {
      "text/plain": [
       "(2075, 13)"
      ]
     },
     "execution_count": 58,
     "metadata": {},
     "output_type": "execute_result"
    }
   ],
   "source": [
    "df_predict_clean.shape"
   ]
  },
  {
   "cell_type": "code",
   "execution_count": 59,
   "metadata": {},
   "outputs": [
    {
     "data": {
      "text/plain": [
       "0"
      ]
     },
     "execution_count": 59,
     "metadata": {},
     "output_type": "execute_result"
    }
   ],
   "source": [
    "df_archive_clean.retweeted_status_timestamp.notna().sum()"
   ]
  },
  {
   "cell_type": "code",
   "execution_count": 60,
   "metadata": {},
   "outputs": [
    {
     "data": {
      "text/plain": [
       "(2141, 18)"
      ]
     },
     "execution_count": 60,
     "metadata": {},
     "output_type": "execute_result"
    }
   ],
   "source": [
    "df_archive_clean.shape"
   ]
  },
  {
   "cell_type": "code",
   "execution_count": 61,
   "metadata": {},
   "outputs": [
    {
     "data": {
      "text/plain": [
       "(2354, 3)"
      ]
     },
     "execution_count": 61,
     "metadata": {},
     "output_type": "execute_result"
    }
   ],
   "source": [
    "df_json.shape"
   ]
  },
  {
   "cell_type": "code",
   "execution_count": 62,
   "metadata": {},
   "outputs": [
    {
     "data": {
      "text/plain": [
       "0       False\n",
       "1       False\n",
       "2       False\n",
       "3       False\n",
       "4       False\n",
       "        ...  \n",
       "2349    False\n",
       "2350    False\n",
       "2351    False\n",
       "2352    False\n",
       "2353    False\n",
       "Length: 2354, dtype: bool"
      ]
     },
     "execution_count": 62,
     "metadata": {},
     "output_type": "execute_result"
    }
   ],
   "source": [
    "#df.duplicated(subset=['brand'])\n",
    "df_json.duplicated(subset=['tweet_id'])"
   ]
  },
  {
   "cell_type": "markdown",
   "metadata": {},
   "source": [
    "## Storing Data\n",
    "Save gathered, assessed, and cleaned master dataset to a CSV file named \"twitter_archive_master.csv\"."
   ]
  },
  {
   "cell_type": "code",
   "execution_count": 63,
   "metadata": {},
   "outputs": [],
   "source": [
    "df_predict_clean = df_predict_clean[['tweet_id', 'dog_breed']]"
   ]
  },
  {
   "cell_type": "code",
   "execution_count": 64,
   "metadata": {},
   "outputs": [
    {
     "data": {
      "text/html": [
       "<div>\n",
       "<style scoped>\n",
       "    .dataframe tbody tr th:only-of-type {\n",
       "        vertical-align: middle;\n",
       "    }\n",
       "\n",
       "    .dataframe tbody tr th {\n",
       "        vertical-align: top;\n",
       "    }\n",
       "\n",
       "    .dataframe thead th {\n",
       "        text-align: right;\n",
       "    }\n",
       "</style>\n",
       "<table border=\"1\" class=\"dataframe\">\n",
       "  <thead>\n",
       "    <tr style=\"text-align: right;\">\n",
       "      <th></th>\n",
       "      <th>tweet_id</th>\n",
       "      <th>dog_breed</th>\n",
       "    </tr>\n",
       "  </thead>\n",
       "  <tbody>\n",
       "    <tr>\n",
       "      <th>0</th>\n",
       "      <td>666020888022790149</td>\n",
       "      <td>welsh_springer_spaniel</td>\n",
       "    </tr>\n",
       "    <tr>\n",
       "      <th>1</th>\n",
       "      <td>666029285002620928</td>\n",
       "      <td>redbone</td>\n",
       "    </tr>\n",
       "    <tr>\n",
       "      <th>2</th>\n",
       "      <td>666033412701032449</td>\n",
       "      <td>german_shepherd</td>\n",
       "    </tr>\n",
       "    <tr>\n",
       "      <th>3</th>\n",
       "      <td>666044226329800704</td>\n",
       "      <td>rhodesian_ridgeback</td>\n",
       "    </tr>\n",
       "    <tr>\n",
       "      <th>4</th>\n",
       "      <td>666049248165822465</td>\n",
       "      <td>miniature_pinscher</td>\n",
       "    </tr>\n",
       "  </tbody>\n",
       "</table>\n",
       "</div>"
      ],
      "text/plain": [
       "             tweet_id               dog_breed\n",
       "0  666020888022790149  welsh_springer_spaniel\n",
       "1  666029285002620928                 redbone\n",
       "2  666033412701032449         german_shepherd\n",
       "3  666044226329800704     rhodesian_ridgeback\n",
       "4  666049248165822465      miniature_pinscher"
      ]
     },
     "execution_count": 64,
     "metadata": {},
     "output_type": "execute_result"
    }
   ],
   "source": [
    "df_predict_clean.head()"
   ]
  },
  {
   "cell_type": "code",
   "execution_count": 65,
   "metadata": {},
   "outputs": [],
   "source": [
    "# save only important variables\n",
    "df_archive_clean = df_archive_clean[['tweet_id','timestamp','source','text', 'expanded_urls', 'rating_numerator', 'rating_denominator', 'name', 'dog_stage']]"
   ]
  },
  {
   "cell_type": "code",
   "execution_count": 66,
   "metadata": {},
   "outputs": [
    {
     "data": {
      "text/html": [
       "<div>\n",
       "<style scoped>\n",
       "    .dataframe tbody tr th:only-of-type {\n",
       "        vertical-align: middle;\n",
       "    }\n",
       "\n",
       "    .dataframe tbody tr th {\n",
       "        vertical-align: top;\n",
       "    }\n",
       "\n",
       "    .dataframe thead th {\n",
       "        text-align: right;\n",
       "    }\n",
       "</style>\n",
       "<table border=\"1\" class=\"dataframe\">\n",
       "  <thead>\n",
       "    <tr style=\"text-align: right;\">\n",
       "      <th></th>\n",
       "      <th>tweet_id</th>\n",
       "      <th>timestamp</th>\n",
       "      <th>source</th>\n",
       "      <th>text</th>\n",
       "      <th>expanded_urls</th>\n",
       "      <th>rating_numerator</th>\n",
       "      <th>rating_denominator</th>\n",
       "      <th>name</th>\n",
       "      <th>dog_stage</th>\n",
       "    </tr>\n",
       "  </thead>\n",
       "  <tbody>\n",
       "    <tr>\n",
       "      <th>0</th>\n",
       "      <td>892420643555336193</td>\n",
       "      <td>2017-08-01 16:23:56 +0000</td>\n",
       "      <td>&lt;a href=\"http://twitter.com/download/iphone\" r...</td>\n",
       "      <td>This is Phineas. He's a mystical boy. Only eve...</td>\n",
       "      <td>https://twitter.com/dog_rates/status/892420643...</td>\n",
       "      <td>13</td>\n",
       "      <td>10</td>\n",
       "      <td>Phineas</td>\n",
       "      <td>no_stage</td>\n",
       "    </tr>\n",
       "    <tr>\n",
       "      <th>1</th>\n",
       "      <td>892177421306343426</td>\n",
       "      <td>2017-08-01 00:17:27 +0000</td>\n",
       "      <td>&lt;a href=\"http://twitter.com/download/iphone\" r...</td>\n",
       "      <td>This is Tilly. She's just checking pup on you....</td>\n",
       "      <td>https://twitter.com/dog_rates/status/892177421...</td>\n",
       "      <td>13</td>\n",
       "      <td>10</td>\n",
       "      <td>Tilly</td>\n",
       "      <td>no_stage</td>\n",
       "    </tr>\n",
       "    <tr>\n",
       "      <th>2</th>\n",
       "      <td>891815181378084864</td>\n",
       "      <td>2017-07-31 00:18:03 +0000</td>\n",
       "      <td>&lt;a href=\"http://twitter.com/download/iphone\" r...</td>\n",
       "      <td>This is Archie. He is a rare Norwegian Pouncin...</td>\n",
       "      <td>https://twitter.com/dog_rates/status/891815181...</td>\n",
       "      <td>12</td>\n",
       "      <td>10</td>\n",
       "      <td>Archie</td>\n",
       "      <td>no_stage</td>\n",
       "    </tr>\n",
       "    <tr>\n",
       "      <th>3</th>\n",
       "      <td>891689557279858688</td>\n",
       "      <td>2017-07-30 15:58:51 +0000</td>\n",
       "      <td>&lt;a href=\"http://twitter.com/download/iphone\" r...</td>\n",
       "      <td>This is Darla. She commenced a snooze mid meal...</td>\n",
       "      <td>https://twitter.com/dog_rates/status/891689557...</td>\n",
       "      <td>13</td>\n",
       "      <td>10</td>\n",
       "      <td>Darla</td>\n",
       "      <td>no_stage</td>\n",
       "    </tr>\n",
       "    <tr>\n",
       "      <th>4</th>\n",
       "      <td>891327558926688256</td>\n",
       "      <td>2017-07-29 16:00:24 +0000</td>\n",
       "      <td>&lt;a href=\"http://twitter.com/download/iphone\" r...</td>\n",
       "      <td>This is Franklin. He would like you to stop ca...</td>\n",
       "      <td>https://twitter.com/dog_rates/status/891327558...</td>\n",
       "      <td>12</td>\n",
       "      <td>10</td>\n",
       "      <td>Franklin</td>\n",
       "      <td>no_stage</td>\n",
       "    </tr>\n",
       "  </tbody>\n",
       "</table>\n",
       "</div>"
      ],
      "text/plain": [
       "             tweet_id                  timestamp  \\\n",
       "0  892420643555336193  2017-08-01 16:23:56 +0000   \n",
       "1  892177421306343426  2017-08-01 00:17:27 +0000   \n",
       "2  891815181378084864  2017-07-31 00:18:03 +0000   \n",
       "3  891689557279858688  2017-07-30 15:58:51 +0000   \n",
       "4  891327558926688256  2017-07-29 16:00:24 +0000   \n",
       "\n",
       "                                              source  \\\n",
       "0  <a href=\"http://twitter.com/download/iphone\" r...   \n",
       "1  <a href=\"http://twitter.com/download/iphone\" r...   \n",
       "2  <a href=\"http://twitter.com/download/iphone\" r...   \n",
       "3  <a href=\"http://twitter.com/download/iphone\" r...   \n",
       "4  <a href=\"http://twitter.com/download/iphone\" r...   \n",
       "\n",
       "                                                text  \\\n",
       "0  This is Phineas. He's a mystical boy. Only eve...   \n",
       "1  This is Tilly. She's just checking pup on you....   \n",
       "2  This is Archie. He is a rare Norwegian Pouncin...   \n",
       "3  This is Darla. She commenced a snooze mid meal...   \n",
       "4  This is Franklin. He would like you to stop ca...   \n",
       "\n",
       "                                       expanded_urls  rating_numerator  \\\n",
       "0  https://twitter.com/dog_rates/status/892420643...                13   \n",
       "1  https://twitter.com/dog_rates/status/892177421...                13   \n",
       "2  https://twitter.com/dog_rates/status/891815181...                12   \n",
       "3  https://twitter.com/dog_rates/status/891689557...                13   \n",
       "4  https://twitter.com/dog_rates/status/891327558...                12   \n",
       "\n",
       "   rating_denominator      name dog_stage  \n",
       "0                  10   Phineas  no_stage  \n",
       "1                  10     Tilly  no_stage  \n",
       "2                  10    Archie  no_stage  \n",
       "3                  10     Darla  no_stage  \n",
       "4                  10  Franklin  no_stage  "
      ]
     },
     "execution_count": 66,
     "metadata": {},
     "output_type": "execute_result"
    }
   ],
   "source": [
    "df_archive_clean.head()"
   ]
  },
  {
   "cell_type": "code",
   "execution_count": 67,
   "metadata": {},
   "outputs": [
    {
     "data": {
      "text/html": [
       "<div>\n",
       "<style scoped>\n",
       "    .dataframe tbody tr th:only-of-type {\n",
       "        vertical-align: middle;\n",
       "    }\n",
       "\n",
       "    .dataframe tbody tr th {\n",
       "        vertical-align: top;\n",
       "    }\n",
       "\n",
       "    .dataframe thead th {\n",
       "        text-align: right;\n",
       "    }\n",
       "</style>\n",
       "<table border=\"1\" class=\"dataframe\">\n",
       "  <thead>\n",
       "    <tr style=\"text-align: right;\">\n",
       "      <th></th>\n",
       "      <th>tweet_id</th>\n",
       "      <th>timestamp</th>\n",
       "      <th>source</th>\n",
       "      <th>text</th>\n",
       "      <th>expanded_urls</th>\n",
       "      <th>rating_numerator</th>\n",
       "      <th>rating_denominator</th>\n",
       "      <th>name</th>\n",
       "      <th>dog_stage</th>\n",
       "    </tr>\n",
       "  </thead>\n",
       "  <tbody>\n",
       "    <tr>\n",
       "      <th>2354</th>\n",
       "      <td>666029285002620928</td>\n",
       "      <td>2015-11-15 23:05:30 +0000</td>\n",
       "      <td>&lt;a href=\"http://twitter.com/download/iphone\" r...</td>\n",
       "      <td>This is a western brown Mitsubishi terrier. Up...</td>\n",
       "      <td>https://twitter.com/dog_rates/status/666029285...</td>\n",
       "      <td>7</td>\n",
       "      <td>10</td>\n",
       "      <td>no_name</td>\n",
       "      <td>no_stage</td>\n",
       "    </tr>\n",
       "    <tr>\n",
       "      <th>2355</th>\n",
       "      <td>666020888022790149</td>\n",
       "      <td>2015-11-15 22:32:08 +0000</td>\n",
       "      <td>&lt;a href=\"http://twitter.com/download/iphone\" r...</td>\n",
       "      <td>Here we have a Japanese Irish Setter. Lost eye...</td>\n",
       "      <td>https://twitter.com/dog_rates/status/666020888...</td>\n",
       "      <td>8</td>\n",
       "      <td>10</td>\n",
       "      <td>no_name</td>\n",
       "      <td>no_stage</td>\n",
       "    </tr>\n",
       "  </tbody>\n",
       "</table>\n",
       "</div>"
      ],
      "text/plain": [
       "                tweet_id                  timestamp  \\\n",
       "2354  666029285002620928  2015-11-15 23:05:30 +0000   \n",
       "2355  666020888022790149  2015-11-15 22:32:08 +0000   \n",
       "\n",
       "                                                 source  \\\n",
       "2354  <a href=\"http://twitter.com/download/iphone\" r...   \n",
       "2355  <a href=\"http://twitter.com/download/iphone\" r...   \n",
       "\n",
       "                                                   text  \\\n",
       "2354  This is a western brown Mitsubishi terrier. Up...   \n",
       "2355  Here we have a Japanese Irish Setter. Lost eye...   \n",
       "\n",
       "                                          expanded_urls  rating_numerator  \\\n",
       "2354  https://twitter.com/dog_rates/status/666029285...                 7   \n",
       "2355  https://twitter.com/dog_rates/status/666020888...                 8   \n",
       "\n",
       "      rating_denominator     name dog_stage  \n",
       "2354                  10  no_name  no_stage  \n",
       "2355                  10  no_name  no_stage  "
      ]
     },
     "execution_count": 67,
     "metadata": {},
     "output_type": "execute_result"
    }
   ],
   "source": [
    "df_archive_clean.tail(2)"
   ]
  },
  {
   "cell_type": "code",
   "execution_count": 68,
   "metadata": {},
   "outputs": [],
   "source": [
    "twitter_archive_master = df_archive_clean.merge(df_predict_clean, on='tweet_id', how='left').merge(df_json_clean, on='tweet_id', how='left')"
   ]
  },
  {
   "cell_type": "code",
   "execution_count": 69,
   "metadata": {},
   "outputs": [
    {
     "data": {
      "text/html": [
       "<div>\n",
       "<style scoped>\n",
       "    .dataframe tbody tr th:only-of-type {\n",
       "        vertical-align: middle;\n",
       "    }\n",
       "\n",
       "    .dataframe tbody tr th {\n",
       "        vertical-align: top;\n",
       "    }\n",
       "\n",
       "    .dataframe thead th {\n",
       "        text-align: right;\n",
       "    }\n",
       "</style>\n",
       "<table border=\"1\" class=\"dataframe\">\n",
       "  <thead>\n",
       "    <tr style=\"text-align: right;\">\n",
       "      <th></th>\n",
       "      <th>tweet_id</th>\n",
       "      <th>timestamp</th>\n",
       "      <th>source</th>\n",
       "      <th>text</th>\n",
       "      <th>expanded_urls</th>\n",
       "      <th>rating_numerator</th>\n",
       "      <th>rating_denominator</th>\n",
       "      <th>name</th>\n",
       "      <th>dog_stage</th>\n",
       "      <th>dog_breed</th>\n",
       "      <th>retweet_count</th>\n",
       "      <th>favorite_count</th>\n",
       "    </tr>\n",
       "  </thead>\n",
       "  <tbody>\n",
       "    <tr>\n",
       "      <th>0</th>\n",
       "      <td>892420643555336193</td>\n",
       "      <td>2017-08-01 16:23:56 +0000</td>\n",
       "      <td>&lt;a href=\"http://twitter.com/download/iphone\" r...</td>\n",
       "      <td>This is Phineas. He's a mystical boy. Only eve...</td>\n",
       "      <td>https://twitter.com/dog_rates/status/892420643...</td>\n",
       "      <td>13</td>\n",
       "      <td>10</td>\n",
       "      <td>Phineas</td>\n",
       "      <td>no_stage</td>\n",
       "      <td>no_breed</td>\n",
       "      <td>8853</td>\n",
       "      <td>39467</td>\n",
       "    </tr>\n",
       "    <tr>\n",
       "      <th>1</th>\n",
       "      <td>892177421306343426</td>\n",
       "      <td>2017-08-01 00:17:27 +0000</td>\n",
       "      <td>&lt;a href=\"http://twitter.com/download/iphone\" r...</td>\n",
       "      <td>This is Tilly. She's just checking pup on you....</td>\n",
       "      <td>https://twitter.com/dog_rates/status/892177421...</td>\n",
       "      <td>13</td>\n",
       "      <td>10</td>\n",
       "      <td>Tilly</td>\n",
       "      <td>no_stage</td>\n",
       "      <td>chihuahua</td>\n",
       "      <td>6514</td>\n",
       "      <td>33819</td>\n",
       "    </tr>\n",
       "    <tr>\n",
       "      <th>2</th>\n",
       "      <td>891815181378084864</td>\n",
       "      <td>2017-07-31 00:18:03 +0000</td>\n",
       "      <td>&lt;a href=\"http://twitter.com/download/iphone\" r...</td>\n",
       "      <td>This is Archie. He is a rare Norwegian Pouncin...</td>\n",
       "      <td>https://twitter.com/dog_rates/status/891815181...</td>\n",
       "      <td>12</td>\n",
       "      <td>10</td>\n",
       "      <td>Archie</td>\n",
       "      <td>no_stage</td>\n",
       "      <td>chihuahua</td>\n",
       "      <td>4328</td>\n",
       "      <td>25461</td>\n",
       "    </tr>\n",
       "    <tr>\n",
       "      <th>3</th>\n",
       "      <td>891689557279858688</td>\n",
       "      <td>2017-07-30 15:58:51 +0000</td>\n",
       "      <td>&lt;a href=\"http://twitter.com/download/iphone\" r...</td>\n",
       "      <td>This is Darla. She commenced a snooze mid meal...</td>\n",
       "      <td>https://twitter.com/dog_rates/status/891689557...</td>\n",
       "      <td>13</td>\n",
       "      <td>10</td>\n",
       "      <td>Darla</td>\n",
       "      <td>no_stage</td>\n",
       "      <td>labrador_retriever</td>\n",
       "      <td>8964</td>\n",
       "      <td>42908</td>\n",
       "    </tr>\n",
       "    <tr>\n",
       "      <th>4</th>\n",
       "      <td>891327558926688256</td>\n",
       "      <td>2017-07-29 16:00:24 +0000</td>\n",
       "      <td>&lt;a href=\"http://twitter.com/download/iphone\" r...</td>\n",
       "      <td>This is Franklin. He would like you to stop ca...</td>\n",
       "      <td>https://twitter.com/dog_rates/status/891327558...</td>\n",
       "      <td>12</td>\n",
       "      <td>10</td>\n",
       "      <td>Franklin</td>\n",
       "      <td>no_stage</td>\n",
       "      <td>basset</td>\n",
       "      <td>9774</td>\n",
       "      <td>41048</td>\n",
       "    </tr>\n",
       "  </tbody>\n",
       "</table>\n",
       "</div>"
      ],
      "text/plain": [
       "             tweet_id                  timestamp  \\\n",
       "0  892420643555336193  2017-08-01 16:23:56 +0000   \n",
       "1  892177421306343426  2017-08-01 00:17:27 +0000   \n",
       "2  891815181378084864  2017-07-31 00:18:03 +0000   \n",
       "3  891689557279858688  2017-07-30 15:58:51 +0000   \n",
       "4  891327558926688256  2017-07-29 16:00:24 +0000   \n",
       "\n",
       "                                              source  \\\n",
       "0  <a href=\"http://twitter.com/download/iphone\" r...   \n",
       "1  <a href=\"http://twitter.com/download/iphone\" r...   \n",
       "2  <a href=\"http://twitter.com/download/iphone\" r...   \n",
       "3  <a href=\"http://twitter.com/download/iphone\" r...   \n",
       "4  <a href=\"http://twitter.com/download/iphone\" r...   \n",
       "\n",
       "                                                text  \\\n",
       "0  This is Phineas. He's a mystical boy. Only eve...   \n",
       "1  This is Tilly. She's just checking pup on you....   \n",
       "2  This is Archie. He is a rare Norwegian Pouncin...   \n",
       "3  This is Darla. She commenced a snooze mid meal...   \n",
       "4  This is Franklin. He would like you to stop ca...   \n",
       "\n",
       "                                       expanded_urls  rating_numerator  \\\n",
       "0  https://twitter.com/dog_rates/status/892420643...                13   \n",
       "1  https://twitter.com/dog_rates/status/892177421...                13   \n",
       "2  https://twitter.com/dog_rates/status/891815181...                12   \n",
       "3  https://twitter.com/dog_rates/status/891689557...                13   \n",
       "4  https://twitter.com/dog_rates/status/891327558...                12   \n",
       "\n",
       "   rating_denominator      name dog_stage           dog_breed  retweet_count  \\\n",
       "0                  10   Phineas  no_stage            no_breed           8853   \n",
       "1                  10     Tilly  no_stage           chihuahua           6514   \n",
       "2                  10    Archie  no_stage           chihuahua           4328   \n",
       "3                  10     Darla  no_stage  labrador_retriever           8964   \n",
       "4                  10  Franklin  no_stage              basset           9774   \n",
       "\n",
       "   favorite_count  \n",
       "0           39467  \n",
       "1           33819  \n",
       "2           25461  \n",
       "3           42908  \n",
       "4           41048  "
      ]
     },
     "execution_count": 69,
     "metadata": {},
     "output_type": "execute_result"
    }
   ],
   "source": [
    "twitter_archive_master.head()"
   ]
  },
  {
   "cell_type": "code",
   "execution_count": 70,
   "metadata": {},
   "outputs": [
    {
     "data": {
      "text/plain": [
       "(2141, 12)"
      ]
     },
     "execution_count": 70,
     "metadata": {},
     "output_type": "execute_result"
    }
   ],
   "source": [
    "twitter_archive_master.shape"
   ]
  },
  {
   "cell_type": "code",
   "execution_count": 71,
   "metadata": {},
   "outputs": [
    {
     "data": {
      "text/plain": [
       "tweet_id                0\n",
       "timestamp               0\n",
       "source                  0\n",
       "text                    0\n",
       "expanded_urls          49\n",
       "rating_numerator        0\n",
       "rating_denominator      0\n",
       "name                    0\n",
       "dog_stage               0\n",
       "dog_breed             172\n",
       "retweet_count           0\n",
       "favorite_count          0\n",
       "dtype: int64"
      ]
     },
     "execution_count": 71,
     "metadata": {},
     "output_type": "execute_result"
    }
   ],
   "source": [
    "twitter_archive_master.isna().sum()"
   ]
  },
  {
   "cell_type": "code",
   "execution_count": 72,
   "metadata": {},
   "outputs": [
    {
     "data": {
      "text/plain": [
       "tweet_id               int64\n",
       "timestamp             object\n",
       "source                object\n",
       "text                  object\n",
       "expanded_urls         object\n",
       "rating_numerator       int64\n",
       "rating_denominator     int64\n",
       "name                  object\n",
       "dog_stage             object\n",
       "dog_breed             object\n",
       "retweet_count          int64\n",
       "favorite_count         int64\n",
       "dtype: object"
      ]
     },
     "execution_count": 72,
     "metadata": {},
     "output_type": "execute_result"
    }
   ],
   "source": [
    "twitter_archive_master.dtypes"
   ]
  },
  {
   "cell_type": "code",
   "execution_count": 73,
   "metadata": {},
   "outputs": [],
   "source": [
    "#df_gun['multiple'] = df_gun['multiple'].astype(float)\n",
    "#df_master[]"
   ]
  },
  {
   "cell_type": "code",
   "execution_count": 74,
   "metadata": {},
   "outputs": [],
   "source": [
    "#df.to_csv(index=False)\n",
    "twitter_archive_master.to_csv('twitter_archive_master.csv', index=False)"
   ]
  },
  {
   "cell_type": "markdown",
   "metadata": {},
   "source": [
    "### Read in the `twitter_archive_master.csv` \n",
    "with a shorter name for analysis (and further transformations)"
   ]
  },
  {
   "cell_type": "code",
   "execution_count": 75,
   "metadata": {},
   "outputs": [],
   "source": [
    "master_df = pd.read_csv('twitter_archive_master.csv')"
   ]
  },
  {
   "cell_type": "code",
   "execution_count": 76,
   "metadata": {},
   "outputs": [
    {
     "data": {
      "text/plain": [
       "(2141, 12)"
      ]
     },
     "execution_count": 76,
     "metadata": {},
     "output_type": "execute_result"
    }
   ],
   "source": [
    "master_df.shape"
   ]
  },
  {
   "cell_type": "code",
   "execution_count": 77,
   "metadata": {},
   "outputs": [
    {
     "data": {
      "text/plain": [
       "tweet_id               int64\n",
       "timestamp             object\n",
       "source                object\n",
       "text                  object\n",
       "expanded_urls         object\n",
       "rating_numerator       int64\n",
       "rating_denominator     int64\n",
       "name                  object\n",
       "dog_stage             object\n",
       "dog_breed             object\n",
       "retweet_count          int64\n",
       "favorite_count         int64\n",
       "dtype: object"
      ]
     },
     "execution_count": 77,
     "metadata": {},
     "output_type": "execute_result"
    }
   ],
   "source": [
    "master_df.dtypes"
   ]
  },
  {
   "cell_type": "markdown",
   "metadata": {},
   "source": [
    "#### Replace missing dog breed by 'no_breed'"
   ]
  },
  {
   "cell_type": "code",
   "execution_count": 78,
   "metadata": {},
   "outputs": [],
   "source": [
    "master_df['dog_breed'] = master_df['dog_breed'].fillna('no_breed')"
   ]
  },
  {
   "cell_type": "code",
   "execution_count": 79,
   "metadata": {},
   "outputs": [
    {
     "data": {
      "text/plain": [
       "tweet_id               0\n",
       "timestamp              0\n",
       "source                 0\n",
       "text                   0\n",
       "expanded_urls         49\n",
       "rating_numerator       0\n",
       "rating_denominator     0\n",
       "name                   0\n",
       "dog_stage              0\n",
       "dog_breed              0\n",
       "retweet_count          0\n",
       "favorite_count         0\n",
       "dtype: int64"
      ]
     },
     "execution_count": 79,
     "metadata": {},
     "output_type": "execute_result"
    }
   ],
   "source": [
    "master_df.isna().sum()"
   ]
  },
  {
   "cell_type": "code",
   "execution_count": 80,
   "metadata": {},
   "outputs": [],
   "source": [
    "# master_df.query(\"dog_breed' != 'no_breed'\")"
   ]
  },
  {
   "cell_type": "markdown",
   "metadata": {},
   "source": [
    "## Analyzing and Visualizing Data\n",
    "In this section, analyze and visualize your wrangled data. You must produce at least **three (3) insights and one (1) visualization.**\n",
    "\n",
    "#### Note about the rating denominator:\n",
    "\n",
    "The denominator column of the rating is not necessary for performing calculations and statistics.\n",
    "\n",
    "Dividing numbers by the same number other than zero is an equivalence transformation, therefore the numerator column holds all the information for the rating variable.\n",
    "\n",
    "### Insight #1:\n",
    "The retweet and favorite count are positively correlated to the dog rating."
   ]
  },
  {
   "cell_type": "markdown",
   "metadata": {},
   "source": [
    "#### Spearman's correlation matrix (rating numerator vs. retweet & favorite count)"
   ]
  },
  {
   "cell_type": "code",
   "execution_count": 81,
   "metadata": {},
   "outputs": [],
   "source": [
    "corr1_df = master_df[['rating_numerator', 'retweet_count', 'favorite_count']]"
   ]
  },
  {
   "cell_type": "code",
   "execution_count": 82,
   "metadata": {},
   "outputs": [
    {
     "data": {
      "text/html": [
       "<div>\n",
       "<style scoped>\n",
       "    .dataframe tbody tr th:only-of-type {\n",
       "        vertical-align: middle;\n",
       "    }\n",
       "\n",
       "    .dataframe tbody tr th {\n",
       "        vertical-align: top;\n",
       "    }\n",
       "\n",
       "    .dataframe thead th {\n",
       "        text-align: right;\n",
       "    }\n",
       "</style>\n",
       "<table border=\"1\" class=\"dataframe\">\n",
       "  <thead>\n",
       "    <tr style=\"text-align: right;\">\n",
       "      <th></th>\n",
       "      <th>rating_numerator</th>\n",
       "      <th>retweet_count</th>\n",
       "      <th>favorite_count</th>\n",
       "    </tr>\n",
       "  </thead>\n",
       "  <tbody>\n",
       "    <tr>\n",
       "      <th>rating_numerator</th>\n",
       "      <td>1.00</td>\n",
       "      <td>0.51</td>\n",
       "      <td>0.57</td>\n",
       "    </tr>\n",
       "    <tr>\n",
       "      <th>retweet_count</th>\n",
       "      <td>0.51</td>\n",
       "      <td>1.00</td>\n",
       "      <td>0.97</td>\n",
       "    </tr>\n",
       "    <tr>\n",
       "      <th>favorite_count</th>\n",
       "      <td>0.57</td>\n",
       "      <td>0.97</td>\n",
       "      <td>1.00</td>\n",
       "    </tr>\n",
       "  </tbody>\n",
       "</table>\n",
       "</div>"
      ],
      "text/plain": [
       "                     rating_numerator        retweet_count  \\\n",
       "rating_numerator                 1.00                 0.51   \n",
       "retweet_count                    0.51                 1.00   \n",
       "favorite_count                   0.57                 0.97   \n",
       "\n",
       "                       favorite_count  \n",
       "rating_numerator                 0.57  \n",
       "retweet_count                    0.97  \n",
       "favorite_count                   1.00  "
      ]
     },
     "execution_count": 82,
     "metadata": {},
     "output_type": "execute_result"
    }
   ],
   "source": [
    "corr1_df.corr(method='spearman')"
   ]
  },
  {
   "cell_type": "markdown",
   "metadata": {},
   "source": [
    "#### Group means of rating, retweet count and favorite count by dog stage"
   ]
  },
  {
   "cell_type": "code",
   "execution_count": 83,
   "metadata": {},
   "outputs": [],
   "source": [
    "# create a smaller df with variables of interest\n",
    "subset01_df = master_df[['dog_breed', 'dog_stage', 'rating_numerator', 'retweet_count', 'favorite_count']]"
   ]
  },
  {
   "cell_type": "code",
   "execution_count": 84,
   "metadata": {},
   "outputs": [],
   "source": [
    "groupby_dogstage_df = subset01_df.groupby('dog_stage').mean()"
   ]
  },
  {
   "cell_type": "code",
   "execution_count": 85,
   "metadata": {},
   "outputs": [
    {
     "data": {
      "text/html": [
       "<div>\n",
       "<style scoped>\n",
       "    .dataframe tbody tr th:only-of-type {\n",
       "        vertical-align: middle;\n",
       "    }\n",
       "\n",
       "    .dataframe tbody tr th {\n",
       "        vertical-align: top;\n",
       "    }\n",
       "\n",
       "    .dataframe thead th {\n",
       "        text-align: right;\n",
       "    }\n",
       "</style>\n",
       "<table border=\"1\" class=\"dataframe\">\n",
       "  <thead>\n",
       "    <tr style=\"text-align: right;\">\n",
       "      <th></th>\n",
       "      <th>rating_numerator</th>\n",
       "      <th>retweet_count</th>\n",
       "      <th>favorite_count</th>\n",
       "    </tr>\n",
       "    <tr>\n",
       "      <th>dog_stage</th>\n",
       "      <th></th>\n",
       "      <th></th>\n",
       "      <th></th>\n",
       "    </tr>\n",
       "  </thead>\n",
       "  <tbody>\n",
       "    <tr>\n",
       "      <th>puppo</th>\n",
       "      <td>12.08</td>\n",
       "      <td>6,847.04</td>\n",
       "      <td>21,871.08</td>\n",
       "    </tr>\n",
       "    <tr>\n",
       "      <th>doggo</th>\n",
       "      <td>11.85</td>\n",
       "      <td>6,348.79</td>\n",
       "      <td>17,369.09</td>\n",
       "    </tr>\n",
       "    <tr>\n",
       "      <th>floofer</th>\n",
       "      <td>11.80</td>\n",
       "      <td>4,083.60</td>\n",
       "      <td>11,674.90</td>\n",
       "    </tr>\n",
       "    <tr>\n",
       "      <th>pupper</th>\n",
       "      <td>10.75</td>\n",
       "      <td>2,525.14</td>\n",
       "      <td>7,385.99</td>\n",
       "    </tr>\n",
       "    <tr>\n",
       "      <th>no_stage</th>\n",
       "      <td>10.53</td>\n",
       "      <td>2,588.99</td>\n",
       "      <td>8,421.69</td>\n",
       "    </tr>\n",
       "  </tbody>\n",
       "</table>\n",
       "</div>"
      ],
      "text/plain": [
       "              rating_numerator        retweet_count       favorite_count\n",
       "dog_stage                                                               \n",
       "puppo                    12.08             6,847.04            21,871.08\n",
       "doggo                    11.85             6,348.79            17,369.09\n",
       "floofer                  11.80             4,083.60            11,674.90\n",
       "pupper                   10.75             2,525.14             7,385.99\n",
       "no_stage                 10.53             2,588.99             8,421.69"
      ]
     },
     "execution_count": 85,
     "metadata": {},
     "output_type": "execute_result"
    }
   ],
   "source": [
    "#breed_sorted_df = breed_sorted_df.sort_values(by='rating_numerator', ascending=False)\n",
    "groupby_dogstage_df = groupby_dogstage_df.sort_values(by='rating_numerator', ascending=False)\n",
    "groupby_dogstage_df"
   ]
  },
  {
   "cell_type": "code",
   "execution_count": 86,
   "metadata": {},
   "outputs": [],
   "source": [
    "# dfi.export(df_styled, \"mytable.png\")"
   ]
  },
  {
   "cell_type": "markdown",
   "metadata": {},
   "source": [
    "#### Group means by dog breed"
   ]
  },
  {
   "cell_type": "code",
   "execution_count": 87,
   "metadata": {},
   "outputs": [],
   "source": [
    "groupby_dogbreed_df = subset01_df.groupby('dog_breed').mean()"
   ]
  },
  {
   "cell_type": "code",
   "execution_count": 88,
   "metadata": {},
   "outputs": [
    {
     "data": {
      "text/html": [
       "<div>\n",
       "<style scoped>\n",
       "    .dataframe tbody tr th:only-of-type {\n",
       "        vertical-align: middle;\n",
       "    }\n",
       "\n",
       "    .dataframe tbody tr th {\n",
       "        vertical-align: top;\n",
       "    }\n",
       "\n",
       "    .dataframe thead th {\n",
       "        text-align: right;\n",
       "    }\n",
       "</style>\n",
       "<table border=\"1\" class=\"dataframe\">\n",
       "  <thead>\n",
       "    <tr style=\"text-align: right;\">\n",
       "      <th></th>\n",
       "      <th>rating_numerator</th>\n",
       "      <th>retweet_count</th>\n",
       "      <th>favorite_count</th>\n",
       "    </tr>\n",
       "    <tr>\n",
       "      <th>dog_breed</th>\n",
       "      <th></th>\n",
       "      <th></th>\n",
       "      <th></th>\n",
       "    </tr>\n",
       "  </thead>\n",
       "  <tbody>\n",
       "    <tr>\n",
       "      <th>saluki</th>\n",
       "      <td>12.50</td>\n",
       "      <td>5,133.75</td>\n",
       "      <td>24,060.00</td>\n",
       "    </tr>\n",
       "    <tr>\n",
       "      <th>briard</th>\n",
       "      <td>12.33</td>\n",
       "      <td>2,966.67</td>\n",
       "      <td>9,511.67</td>\n",
       "    </tr>\n",
       "    <tr>\n",
       "      <th>tibetan_mastiff</th>\n",
       "      <td>12.25</td>\n",
       "      <td>4,193.00</td>\n",
       "      <td>12,173.50</td>\n",
       "    </tr>\n",
       "    <tr>\n",
       "      <th>border_terrier</th>\n",
       "      <td>12.14</td>\n",
       "      <td>3,377.14</td>\n",
       "      <td>13,578.00</td>\n",
       "    </tr>\n",
       "    <tr>\n",
       "      <th>standard_schnauzer</th>\n",
       "      <td>12.00</td>\n",
       "      <td>928.00</td>\n",
       "      <td>2,046.00</td>\n",
       "    </tr>\n",
       "    <tr>\n",
       "      <th>...</th>\n",
       "      <td>...</td>\n",
       "      <td>...</td>\n",
       "      <td>...</td>\n",
       "    </tr>\n",
       "    <tr>\n",
       "      <th>miniature_schnauzer</th>\n",
       "      <td>9.25</td>\n",
       "      <td>1,090.25</td>\n",
       "      <td>4,119.75</td>\n",
       "    </tr>\n",
       "    <tr>\n",
       "      <th>walker_hound</th>\n",
       "      <td>9.00</td>\n",
       "      <td>2,656.60</td>\n",
       "      <td>6,589.80</td>\n",
       "    </tr>\n",
       "    <tr>\n",
       "      <th>scotch_terrier</th>\n",
       "      <td>9.00</td>\n",
       "      <td>1,250.00</td>\n",
       "      <td>3,624.00</td>\n",
       "    </tr>\n",
       "    <tr>\n",
       "      <th>soft-coated_wheaten_terrier</th>\n",
       "      <td>8.75</td>\n",
       "      <td>937.33</td>\n",
       "      <td>3,054.25</td>\n",
       "    </tr>\n",
       "    <tr>\n",
       "      <th>japanese_spaniel</th>\n",
       "      <td>5.00</td>\n",
       "      <td>471.00</td>\n",
       "      <td>1,362.00</td>\n",
       "    </tr>\n",
       "  </tbody>\n",
       "</table>\n",
       "<p>112 rows × 3 columns</p>\n",
       "</div>"
      ],
      "text/plain": [
       "                                rating_numerator        retweet_count  \\\n",
       "dog_breed                                                               \n",
       "saluki                                     12.50             5,133.75   \n",
       "briard                                     12.33             2,966.67   \n",
       "tibetan_mastiff                            12.25             4,193.00   \n",
       "border_terrier                             12.14             3,377.14   \n",
       "standard_schnauzer                         12.00               928.00   \n",
       "...                                          ...                  ...   \n",
       "miniature_schnauzer                         9.25             1,090.25   \n",
       "walker_hound                                9.00             2,656.60   \n",
       "scotch_terrier                              9.00             1,250.00   \n",
       "soft-coated_wheaten_terrier                 8.75               937.33   \n",
       "japanese_spaniel                            5.00               471.00   \n",
       "\n",
       "                                  favorite_count  \n",
       "dog_breed                                         \n",
       "saluki                                 24,060.00  \n",
       "briard                                  9,511.67  \n",
       "tibetan_mastiff                        12,173.50  \n",
       "border_terrier                         13,578.00  \n",
       "standard_schnauzer                      2,046.00  \n",
       "...                                          ...  \n",
       "miniature_schnauzer                     4,119.75  \n",
       "walker_hound                            6,589.80  \n",
       "scotch_terrier                          3,624.00  \n",
       "soft-coated_wheaten_terrier             3,054.25  \n",
       "japanese_spaniel                        1,362.00  \n",
       "\n",
       "[112 rows x 3 columns]"
      ]
     },
     "execution_count": 88,
     "metadata": {},
     "output_type": "execute_result"
    }
   ],
   "source": [
    "groupby_dogbreed_df = groupby_dogbreed_df.sort_values(by='rating_numerator', ascending=False)\n",
    "groupby_dogbreed_df"
   ]
  },
  {
   "cell_type": "markdown",
   "metadata": {},
   "source": [
    "#### Group means by dog stage and dog breed"
   ]
  },
  {
   "cell_type": "code",
   "execution_count": 89,
   "metadata": {},
   "outputs": [
    {
     "data": {
      "text/html": [
       "<div>\n",
       "<style scoped>\n",
       "    .dataframe tbody tr th:only-of-type {\n",
       "        vertical-align: middle;\n",
       "    }\n",
       "\n",
       "    .dataframe tbody tr th {\n",
       "        vertical-align: top;\n",
       "    }\n",
       "\n",
       "    .dataframe thead th {\n",
       "        text-align: right;\n",
       "    }\n",
       "</style>\n",
       "<table border=\"1\" class=\"dataframe\">\n",
       "  <thead>\n",
       "    <tr style=\"text-align: right;\">\n",
       "      <th></th>\n",
       "      <th></th>\n",
       "      <th>rating_numerator</th>\n",
       "      <th>retweet_count</th>\n",
       "      <th>favorite_count</th>\n",
       "    </tr>\n",
       "    <tr>\n",
       "      <th>dog_stage</th>\n",
       "      <th>dog_breed</th>\n",
       "      <th></th>\n",
       "      <th></th>\n",
       "      <th></th>\n",
       "    </tr>\n",
       "  </thead>\n",
       "  <tbody>\n",
       "    <tr>\n",
       "      <th>puppo</th>\n",
       "      <th>rottweiler</th>\n",
       "      <td>14.00</td>\n",
       "      <td>19,669.00</td>\n",
       "      <td>56,413.00</td>\n",
       "    </tr>\n",
       "    <tr>\n",
       "      <th rowspan=\"2\" valign=\"top\">doggo</th>\n",
       "      <th>irish_setter</th>\n",
       "      <td>14.00</td>\n",
       "      <td>5,053.00</td>\n",
       "      <td>13,075.00</td>\n",
       "    </tr>\n",
       "    <tr>\n",
       "      <th>standard_poodle</th>\n",
       "      <td>14.00</td>\n",
       "      <td>42,228.00</td>\n",
       "      <td>95,450.00</td>\n",
       "    </tr>\n",
       "    <tr>\n",
       "      <th>pupper</th>\n",
       "      <th>black-and-tan_coonhound</th>\n",
       "      <td>14.00</td>\n",
       "      <td>8,285.00</td>\n",
       "      <td>33,911.00</td>\n",
       "    </tr>\n",
       "    <tr>\n",
       "      <th>doggo</th>\n",
       "      <th>pembroke</th>\n",
       "      <td>14.00</td>\n",
       "      <td>5,192.00</td>\n",
       "      <td>22,426.00</td>\n",
       "    </tr>\n",
       "    <tr>\n",
       "      <th>...</th>\n",
       "      <th>...</th>\n",
       "      <td>...</td>\n",
       "      <td>...</td>\n",
       "      <td>...</td>\n",
       "    </tr>\n",
       "    <tr>\n",
       "      <th rowspan=\"2\" valign=\"top\">pupper</th>\n",
       "      <th>yorkshire_terrier</th>\n",
       "      <td>8.00</td>\n",
       "      <td>1,254.00</td>\n",
       "      <td>2,807.00</td>\n",
       "    </tr>\n",
       "    <tr>\n",
       "      <th>great_dane</th>\n",
       "      <td>7.00</td>\n",
       "      <td>2,146.00</td>\n",
       "      <td>4,777.00</td>\n",
       "    </tr>\n",
       "    <tr>\n",
       "      <th>no_stage</th>\n",
       "      <th>black-and-tan_coonhound</th>\n",
       "      <td>7.00</td>\n",
       "      <td>44.00</td>\n",
       "      <td>113.00</td>\n",
       "    </tr>\n",
       "    <tr>\n",
       "      <th>pupper</th>\n",
       "      <th>newfoundland</th>\n",
       "      <td>7.00</td>\n",
       "      <td>802.00</td>\n",
       "      <td>1,691.00</td>\n",
       "    </tr>\n",
       "    <tr>\n",
       "      <th>no_stage</th>\n",
       "      <th>japanese_spaniel</th>\n",
       "      <td>5.00</td>\n",
       "      <td>471.00</td>\n",
       "      <td>1,362.00</td>\n",
       "    </tr>\n",
       "  </tbody>\n",
       "</table>\n",
       "<p>235 rows × 3 columns</p>\n",
       "</div>"
      ],
      "text/plain": [
       "                                      rating_numerator        retweet_count  \\\n",
       "dog_stage dog_breed                                                           \n",
       "puppo     rottweiler                             14.00            19,669.00   \n",
       "doggo     irish_setter                           14.00             5,053.00   \n",
       "          standard_poodle                        14.00            42,228.00   \n",
       "pupper    black-and-tan_coonhound                14.00             8,285.00   \n",
       "doggo     pembroke                               14.00             5,192.00   \n",
       "...                                                ...                  ...   \n",
       "pupper    yorkshire_terrier                       8.00             1,254.00   \n",
       "          great_dane                              7.00             2,146.00   \n",
       "no_stage  black-and-tan_coonhound                 7.00                44.00   \n",
       "pupper    newfoundland                            7.00               802.00   \n",
       "no_stage  japanese_spaniel                        5.00               471.00   \n",
       "\n",
       "                                        favorite_count  \n",
       "dog_stage dog_breed                                     \n",
       "puppo     rottweiler                         56,413.00  \n",
       "doggo     irish_setter                       13,075.00  \n",
       "          standard_poodle                    95,450.00  \n",
       "pupper    black-and-tan_coonhound            33,911.00  \n",
       "doggo     pembroke                           22,426.00  \n",
       "...                                                ...  \n",
       "pupper    yorkshire_terrier                   2,807.00  \n",
       "          great_dane                          4,777.00  \n",
       "no_stage  black-and-tan_coonhound               113.00  \n",
       "pupper    newfoundland                        1,691.00  \n",
       "no_stage  japanese_spaniel                    1,362.00  \n",
       "\n",
       "[235 rows x 3 columns]"
      ]
     },
     "execution_count": 89,
     "metadata": {},
     "output_type": "execute_result"
    }
   ],
   "source": [
    "#df.set_index(['Category', 'Item']).stack().groupby(level=0).\n",
    "groupby_breedxstage_df = subset01_df.groupby(['dog_stage','dog_breed']).mean()\n",
    "groupby_breedxstage_df = groupby_breedxstage_df.sort_values(by='rating_numerator', ascending=False)\n",
    "groupby_breedxstage_df"
   ]
  },
  {
   "cell_type": "markdown",
   "metadata": {},
   "source": [
    "#### In order to use the dog breed as predictor, limit the number of categories:\n",
    "\n",
    "1) Percentiles of dog breed counts:"
   ]
  },
  {
   "cell_type": "code",
   "execution_count": 90,
   "metadata": {},
   "outputs": [],
   "source": [
    "breed_counts = subset01_df.dog_breed.value_counts()"
   ]
  },
  {
   "cell_type": "code",
   "execution_count": 91,
   "metadata": {},
   "outputs": [
    {
     "data": {
      "text/plain": [
       "0.10     2\n",
       "0.25     4\n",
       "0.50     8\n",
       "0.75    16\n",
       "0.90    30\n",
       "Name: dog_breed, dtype: int64"
      ]
     },
     "execution_count": 91,
     "metadata": {},
     "output_type": "execute_result"
    }
   ],
   "source": [
    "breed_counts.quantile([.1, .25, .50, .75, .9], 'lower')"
   ]
  },
  {
   "cell_type": "markdown",
   "metadata": {},
   "source": [
    "#### How to set the category limits: \n",
    "Up to 21 dogs per dog breed (>=21): separate dog breeds (above 90th percentile)\n",
    "\n",
    "20 - 10: moderately popular breeds (75th-90th percentile)\n",
    "\n",
    "9-6: rare breeds (50th-75th percentile)\n",
    "\n",
    "5-3: rarer breeds (25th-50th percentile)\n",
    "\n",
    "2-1: rarest breeds (10th-25th percentile)"
   ]
  },
  {
   "cell_type": "code",
   "execution_count": 92,
   "metadata": {},
   "outputs": [
    {
     "data": {
      "text/plain": [
       "no_breed              537\n",
       "golden_retriever      148\n",
       "labrador_retriever    102\n",
       "pembroke               93\n",
       "chihuahua              89\n",
       "                     ... \n",
       "scotch_terrier          1\n",
       "entlebucher             1\n",
       "japanese_spaniel        1\n",
       "standard_schnauzer      1\n",
       "irish_wolfhound         1\n",
       "Name: dog_breed, Length: 112, dtype: int64"
      ]
     },
     "execution_count": 92,
     "metadata": {},
     "output_type": "execute_result"
    }
   ],
   "source": [
    "breed_counts"
   ]
  },
  {
   "cell_type": "markdown",
   "metadata": {},
   "source": [
    "##### Add `dog_breed.value_counts()` as column in `subset_df`:"
   ]
  },
  {
   "cell_type": "code",
   "execution_count": 93,
   "metadata": {},
   "outputs": [
    {
     "name": "stderr",
     "output_type": "stream",
     "text": [
      "C:\\Users\\Cvetana\\AppData\\Local\\Temp/ipykernel_8416/1257233694.py:4: SettingWithCopyWarning: \n",
      "A value is trying to be set on a copy of a slice from a DataFrame.\n",
      "Try using .loc[row_indexer,col_indexer] = value instead\n",
      "\n",
      "See the caveats in the documentation: https://pandas.pydata.org/pandas-docs/stable/user_guide/indexing.html#returning-a-view-versus-a-copy\n",
      "  subset01_df['breed_counts'] = subset01_df['dog_breed'].map(subset01_df['dog_breed'].value_counts())\n"
     ]
    },
    {
     "data": {
      "text/html": [
       "<div>\n",
       "<style scoped>\n",
       "    .dataframe tbody tr th:only-of-type {\n",
       "        vertical-align: middle;\n",
       "    }\n",
       "\n",
       "    .dataframe tbody tr th {\n",
       "        vertical-align: top;\n",
       "    }\n",
       "\n",
       "    .dataframe thead th {\n",
       "        text-align: right;\n",
       "    }\n",
       "</style>\n",
       "<table border=\"1\" class=\"dataframe\">\n",
       "  <thead>\n",
       "    <tr style=\"text-align: right;\">\n",
       "      <th></th>\n",
       "      <th>dog_breed</th>\n",
       "      <th>dog_stage</th>\n",
       "      <th>rating_numerator</th>\n",
       "      <th>retweet_count</th>\n",
       "      <th>favorite_count</th>\n",
       "      <th>breed_counts</th>\n",
       "    </tr>\n",
       "  </thead>\n",
       "  <tbody>\n",
       "    <tr>\n",
       "      <th>0</th>\n",
       "      <td>no_breed</td>\n",
       "      <td>no_stage</td>\n",
       "      <td>13</td>\n",
       "      <td>8853</td>\n",
       "      <td>39467</td>\n",
       "      <td>537</td>\n",
       "    </tr>\n",
       "    <tr>\n",
       "      <th>1</th>\n",
       "      <td>chihuahua</td>\n",
       "      <td>no_stage</td>\n",
       "      <td>13</td>\n",
       "      <td>6514</td>\n",
       "      <td>33819</td>\n",
       "      <td>89</td>\n",
       "    </tr>\n",
       "    <tr>\n",
       "      <th>2</th>\n",
       "      <td>chihuahua</td>\n",
       "      <td>no_stage</td>\n",
       "      <td>12</td>\n",
       "      <td>4328</td>\n",
       "      <td>25461</td>\n",
       "      <td>89</td>\n",
       "    </tr>\n",
       "    <tr>\n",
       "      <th>3</th>\n",
       "      <td>labrador_retriever</td>\n",
       "      <td>no_stage</td>\n",
       "      <td>13</td>\n",
       "      <td>8964</td>\n",
       "      <td>42908</td>\n",
       "      <td>102</td>\n",
       "    </tr>\n",
       "    <tr>\n",
       "      <th>4</th>\n",
       "      <td>basset</td>\n",
       "      <td>no_stage</td>\n",
       "      <td>12</td>\n",
       "      <td>9774</td>\n",
       "      <td>41048</td>\n",
       "      <td>17</td>\n",
       "    </tr>\n",
       "  </tbody>\n",
       "</table>\n",
       "</div>"
      ],
      "text/plain": [
       "            dog_breed dog_stage  rating_numerator  retweet_count  \\\n",
       "0            no_breed  no_stage                13           8853   \n",
       "1           chihuahua  no_stage                13           6514   \n",
       "2           chihuahua  no_stage                12           4328   \n",
       "3  labrador_retriever  no_stage                13           8964   \n",
       "4              basset  no_stage                12           9774   \n",
       "\n",
       "   favorite_count  breed_counts  \n",
       "0           39467           537  \n",
       "1           33819            89  \n",
       "2           25461            89  \n",
       "3           42908           102  \n",
       "4           41048            17  "
      ]
     },
     "execution_count": 93,
     "metadata": {},
     "output_type": "execute_result"
    }
   ],
   "source": [
    "#https://stackoverflow.com/questions/17709270/create-column-of-value-counts-in-pandas-dataframe\n",
    "#df['Count_Column'] = df['Color'].map(df['Color'].value_counts())\n",
    "\n",
    "subset01_df['breed_counts'] = subset01_df['dog_breed'].map(subset01_df['dog_breed'].value_counts())\n",
    "subset01_df.head()"
   ]
  },
  {
   "cell_type": "code",
   "execution_count": 94,
   "metadata": {},
   "outputs": [],
   "source": [
    "# CONDITIONS-VALUES\n",
    "# https://www.dataquest.io/blog/tutorial-add-column-pandas-dataframe-based-on-if-else-condition/\n",
    "\n",
    "#conditions = [(subset01_df['breed_counts'] < 3),\n",
    "#              (subset01_df['breed_counts'] >=3) & (subset01_df['breed_counts'] <6),\n",
    "#              (subset01_df['breed_counts'] >=6) & (subset01_df['breed_counts'] <10),\n",
    "#              (subset01_df['breed_counts'] >=10) & (subset01_df['breed_counts'] <21)]\n",
    "\n",
    "#values = ['rarest_breeds', 'very_rare_breeds', 'rare_breeds', 'moderately_popular_breeds']\n",
    "\n",
    "#subset01_df['breeds_grouped'] = np.select(conditions, values)\n"
   ]
  },
  {
   "cell_type": "markdown",
   "metadata": {},
   "source": [
    "#### Create grouped column based on `dog_breed.value_counts()`"
   ]
  },
  {
   "cell_type": "code",
   "execution_count": 95,
   "metadata": {},
   "outputs": [
    {
     "name": "stderr",
     "output_type": "stream",
     "text": [
      "C:\\Users\\Cvetana\\anaconda3\\lib\\site-packages\\pandas\\core\\indexing.py:1681: SettingWithCopyWarning: \n",
      "A value is trying to be set on a copy of a slice from a DataFrame.\n",
      "Try using .loc[row_indexer,col_indexer] = value instead\n",
      "\n",
      "See the caveats in the documentation: https://pandas.pydata.org/pandas-docs/stable/user_guide/indexing.html#returning-a-view-versus-a-copy\n",
      "  self.obj[key] = empty_value\n",
      "C:\\Users\\Cvetana\\anaconda3\\lib\\site-packages\\pandas\\core\\indexing.py:1773: SettingWithCopyWarning: \n",
      "A value is trying to be set on a copy of a slice from a DataFrame.\n",
      "Try using .loc[row_indexer,col_indexer] = value instead\n",
      "\n",
      "See the caveats in the documentation: https://pandas.pydata.org/pandas-docs/stable/user_guide/indexing.html#returning-a-view-versus-a-copy\n",
      "  self._setitem_single_column(ilocs[0], value, pi)\n",
      "C:\\Users\\Cvetana\\anaconda3\\lib\\site-packages\\pandas\\core\\indexing.py:1817: SettingWithCopyWarning: \n",
      "A value is trying to be set on a copy of a slice from a DataFrame.\n",
      "Try using .loc[row_indexer,col_indexer] = value instead\n",
      "\n",
      "See the caveats in the documentation: https://pandas.pydata.org/pandas-docs/stable/user_guide/indexing.html#returning-a-view-versus-a-copy\n",
      "  self._setitem_single_column(loc, value, pi)\n"
     ]
    },
    {
     "data": {
      "text/plain": [
       "854                      no_breed\n",
       "1915                  rare_breeds\n",
       "691            labrador_retriever\n",
       "1817           labrador_retriever\n",
       "1710             very_rare_breeds\n",
       "703                      no_breed\n",
       "1955           labrador_retriever\n",
       "1540                     no_breed\n",
       "356                      no_breed\n",
       "762            labrador_retriever\n",
       "1347               cocker_spaniel\n",
       "2010                     no_breed\n",
       "1579    moderately_popular_breeds\n",
       "1525               french_bulldog\n",
       "1113                     no_breed\n",
       "116                      no_breed\n",
       "1078    moderately_popular_breeds\n",
       "144            labrador_retriever\n",
       "1904             very_rare_breeds\n",
       "466                cocker_spaniel\n",
       "Name: breeds_grouped, dtype: object"
      ]
     },
     "execution_count": 95,
     "metadata": {},
     "output_type": "execute_result"
    }
   ],
   "source": [
    "mask_breed01 = subset01_df['breed_counts'] >= 21\n",
    "subset01_df.loc[mask_breed01, 'breeds_grouped'] = subset01_df.loc[mask_breed01, 'dog_breed']\n",
    "\n",
    "mask_breed02 = (subset01_df['breed_counts'] >=10) & (subset01_df['breed_counts'] <21)\n",
    "subset01_df.loc[mask_breed02, 'breeds_grouped'] = 'moderately_popular_breeds'\n",
    "\n",
    "mask_breed03 = (subset01_df['breed_counts'] >=6) & (subset01_df['breed_counts'] <10)\n",
    "subset01_df.loc[mask_breed03, 'breeds_grouped'] = 'rare_breeds'\n",
    "\n",
    "mask_breed04 = (subset01_df['breed_counts'] >=3) & (subset01_df['breed_counts'] <6)\n",
    "subset01_df.loc[mask_breed04, 'breeds_grouped'] = 'very_rare_breeds'\n",
    "\n",
    "mask_breed05 = subset01_df['breed_counts'] < 3\n",
    "subset01_df.loc[mask_breed05, 'breeds_grouped'] = 'rarest_breeds'\n",
    "\n",
    "subset01_df['breeds_grouped'].sample(20)"
   ]
  },
  {
   "cell_type": "markdown",
   "metadata": {},
   "source": [
    "#### Group means by dog breed categories (chunked) sorted by mean dog rating"
   ]
  },
  {
   "cell_type": "code",
   "execution_count": 96,
   "metadata": {},
   "outputs": [
    {
     "data": {
      "text/html": [
       "<div>\n",
       "<style scoped>\n",
       "    .dataframe tbody tr th:only-of-type {\n",
       "        vertical-align: middle;\n",
       "    }\n",
       "\n",
       "    .dataframe tbody tr th {\n",
       "        vertical-align: top;\n",
       "    }\n",
       "\n",
       "    .dataframe thead th {\n",
       "        text-align: right;\n",
       "    }\n",
       "</style>\n",
       "<table border=\"1\" class=\"dataframe\">\n",
       "  <thead>\n",
       "    <tr style=\"text-align: right;\">\n",
       "      <th></th>\n",
       "      <th>rating_numerator</th>\n",
       "      <th>retweet_count</th>\n",
       "      <th>favorite_count</th>\n",
       "      <th>breed_counts</th>\n",
       "    </tr>\n",
       "    <tr>\n",
       "      <th>breeds_grouped</th>\n",
       "      <th></th>\n",
       "      <th></th>\n",
       "      <th></th>\n",
       "      <th></th>\n",
       "    </tr>\n",
       "  </thead>\n",
       "  <tbody>\n",
       "    <tr>\n",
       "      <th>samoyed</th>\n",
       "      <td>11.73</td>\n",
       "      <td>4,937.22</td>\n",
       "      <td>14,176.85</td>\n",
       "      <td>41.00</td>\n",
       "    </tr>\n",
       "    <tr>\n",
       "      <th>golden_retriever</th>\n",
       "      <td>11.58</td>\n",
       "      <td>3,715.89</td>\n",
       "      <td>12,400.37</td>\n",
       "      <td>148.00</td>\n",
       "    </tr>\n",
       "    <tr>\n",
       "      <th>chow</th>\n",
       "      <td>11.52</td>\n",
       "      <td>2,818.32</td>\n",
       "      <td>9,640.36</td>\n",
       "      <td>44.00</td>\n",
       "    </tr>\n",
       "    <tr>\n",
       "      <th>pembroke</th>\n",
       "      <td>11.39</td>\n",
       "      <td>3,090.61</td>\n",
       "      <td>10,956.56</td>\n",
       "      <td>93.00</td>\n",
       "    </tr>\n",
       "    <tr>\n",
       "      <th>cocker_spaniel</th>\n",
       "      <td>11.29</td>\n",
       "      <td>3,815.21</td>\n",
       "      <td>11,736.43</td>\n",
       "      <td>28.00</td>\n",
       "    </tr>\n",
       "    <tr>\n",
       "      <th>french_bulldog</th>\n",
       "      <td>11.19</td>\n",
       "      <td>5,039.68</td>\n",
       "      <td>18,416.81</td>\n",
       "      <td>31.00</td>\n",
       "    </tr>\n",
       "    <tr>\n",
       "      <th>labrador_retriever</th>\n",
       "      <td>11.18</td>\n",
       "      <td>3,895.39</td>\n",
       "      <td>12,146.68</td>\n",
       "      <td>102.00</td>\n",
       "    </tr>\n",
       "    <tr>\n",
       "      <th>pomeranian</th>\n",
       "      <td>11.05</td>\n",
       "      <td>2,592.00</td>\n",
       "      <td>7,249.02</td>\n",
       "      <td>40.00</td>\n",
       "    </tr>\n",
       "    <tr>\n",
       "      <th>toy_poodle</th>\n",
       "      <td>11.04</td>\n",
       "      <td>2,271.60</td>\n",
       "      <td>6,349.72</td>\n",
       "      <td>47.00</td>\n",
       "    </tr>\n",
       "    <tr>\n",
       "      <th>german_shepherd</th>\n",
       "      <td>11.00</td>\n",
       "      <td>2,676.43</td>\n",
       "      <td>10,355.67</td>\n",
       "      <td>21.00</td>\n",
       "    </tr>\n",
       "    <tr>\n",
       "      <th>malamute</th>\n",
       "      <td>10.90</td>\n",
       "      <td>3,261.61</td>\n",
       "      <td>10,620.10</td>\n",
       "      <td>31.00</td>\n",
       "    </tr>\n",
       "    <tr>\n",
       "      <th>chesapeake_bay_retriever</th>\n",
       "      <td>10.80</td>\n",
       "      <td>2,684.40</td>\n",
       "      <td>10,014.93</td>\n",
       "      <td>30.00</td>\n",
       "    </tr>\n",
       "    <tr>\n",
       "      <th>staffordshire_bullterrier</th>\n",
       "      <td>10.76</td>\n",
       "      <td>2,297.76</td>\n",
       "      <td>9,139.24</td>\n",
       "      <td>21.00</td>\n",
       "    </tr>\n",
       "    <tr>\n",
       "      <th>moderately_popular_breeds</th>\n",
       "      <td>10.63</td>\n",
       "      <td>2,439.53</td>\n",
       "      <td>8,018.08</td>\n",
       "      <td>14.96</td>\n",
       "    </tr>\n",
       "    <tr>\n",
       "      <th>rarest_breeds</th>\n",
       "      <td>10.61</td>\n",
       "      <td>1,796.94</td>\n",
       "      <td>6,499.33</td>\n",
       "      <td>1.67</td>\n",
       "    </tr>\n",
       "    <tr>\n",
       "      <th>chihuahua</th>\n",
       "      <td>10.57</td>\n",
       "      <td>2,649.93</td>\n",
       "      <td>8,056.64</td>\n",
       "      <td>89.00</td>\n",
       "    </tr>\n",
       "    <tr>\n",
       "      <th>very_rare_breeds</th>\n",
       "      <td>10.55</td>\n",
       "      <td>2,228.59</td>\n",
       "      <td>7,852.35</td>\n",
       "      <td>3.88</td>\n",
       "    </tr>\n",
       "    <tr>\n",
       "      <th>rare_breeds</th>\n",
       "      <td>10.43</td>\n",
       "      <td>2,285.89</td>\n",
       "      <td>7,742.13</td>\n",
       "      <td>7.63</td>\n",
       "    </tr>\n",
       "    <tr>\n",
       "      <th>pug</th>\n",
       "      <td>10.28</td>\n",
       "      <td>1,901.26</td>\n",
       "      <td>6,263.76</td>\n",
       "      <td>58.00</td>\n",
       "    </tr>\n",
       "    <tr>\n",
       "      <th>miniature_pinscher</th>\n",
       "      <td>10.00</td>\n",
       "      <td>2,309.12</td>\n",
       "      <td>8,129.68</td>\n",
       "      <td>25.00</td>\n",
       "    </tr>\n",
       "    <tr>\n",
       "      <th>no_breed</th>\n",
       "      <td>9.94</td>\n",
       "      <td>2,651.80</td>\n",
       "      <td>7,367.77</td>\n",
       "      <td>537.00</td>\n",
       "    </tr>\n",
       "  </tbody>\n",
       "</table>\n",
       "</div>"
      ],
      "text/plain": [
       "                              rating_numerator        retweet_count  \\\n",
       "breeds_grouped                                                        \n",
       "samoyed                                  11.73             4,937.22   \n",
       "golden_retriever                         11.58             3,715.89   \n",
       "chow                                     11.52             2,818.32   \n",
       "pembroke                                 11.39             3,090.61   \n",
       "cocker_spaniel                           11.29             3,815.21   \n",
       "french_bulldog                           11.19             5,039.68   \n",
       "labrador_retriever                       11.18             3,895.39   \n",
       "pomeranian                               11.05             2,592.00   \n",
       "toy_poodle                               11.04             2,271.60   \n",
       "german_shepherd                          11.00             2,676.43   \n",
       "malamute                                 10.90             3,261.61   \n",
       "chesapeake_bay_retriever                 10.80             2,684.40   \n",
       "staffordshire_bullterrier                10.76             2,297.76   \n",
       "moderately_popular_breeds                10.63             2,439.53   \n",
       "rarest_breeds                            10.61             1,796.94   \n",
       "chihuahua                                10.57             2,649.93   \n",
       "very_rare_breeds                         10.55             2,228.59   \n",
       "rare_breeds                              10.43             2,285.89   \n",
       "pug                                      10.28             1,901.26   \n",
       "miniature_pinscher                       10.00             2,309.12   \n",
       "no_breed                                  9.94             2,651.80   \n",
       "\n",
       "                                favorite_count         breed_counts  \n",
       "breeds_grouped                                                       \n",
       "samoyed                              14,176.85                41.00  \n",
       "golden_retriever                     12,400.37               148.00  \n",
       "chow                                  9,640.36                44.00  \n",
       "pembroke                             10,956.56                93.00  \n",
       "cocker_spaniel                       11,736.43                28.00  \n",
       "french_bulldog                       18,416.81                31.00  \n",
       "labrador_retriever                   12,146.68               102.00  \n",
       "pomeranian                            7,249.02                40.00  \n",
       "toy_poodle                            6,349.72                47.00  \n",
       "german_shepherd                      10,355.67                21.00  \n",
       "malamute                             10,620.10                31.00  \n",
       "chesapeake_bay_retriever             10,014.93                30.00  \n",
       "staffordshire_bullterrier             9,139.24                21.00  \n",
       "moderately_popular_breeds             8,018.08                14.96  \n",
       "rarest_breeds                         6,499.33                 1.67  \n",
       "chihuahua                             8,056.64                89.00  \n",
       "very_rare_breeds                      7,852.35                 3.88  \n",
       "rare_breeds                           7,742.13                 7.63  \n",
       "pug                                   6,263.76                58.00  \n",
       "miniature_pinscher                    8,129.68                25.00  \n",
       "no_breed                              7,367.77               537.00  "
      ]
     },
     "execution_count": 96,
     "metadata": {},
     "output_type": "execute_result"
    }
   ],
   "source": [
    "groupby_breedgroups_df = subset01_df.groupby('breeds_grouped').mean()\n",
    "groupby_breedgroups_df = groupby_breedgroups_df.sort_values(by='rating_numerator', ascending=False)\n",
    "groupby_breedgroups_df"
   ]
  },
  {
   "cell_type": "markdown",
   "metadata": {},
   "source": [
    "#### Group means by dog breed categories & dog stages sorted by dog stage and mean dog rating"
   ]
  },
  {
   "cell_type": "code",
   "execution_count": 97,
   "metadata": {},
   "outputs": [
    {
     "data": {
      "text/html": [
       "<div>\n",
       "<style scoped>\n",
       "    .dataframe tbody tr th:only-of-type {\n",
       "        vertical-align: middle;\n",
       "    }\n",
       "\n",
       "    .dataframe tbody tr th {\n",
       "        vertical-align: top;\n",
       "    }\n",
       "\n",
       "    .dataframe thead th {\n",
       "        text-align: right;\n",
       "    }\n",
       "</style>\n",
       "<table border=\"1\" class=\"dataframe\">\n",
       "  <thead>\n",
       "    <tr style=\"text-align: right;\">\n",
       "      <th></th>\n",
       "      <th></th>\n",
       "      <th>rating_numerator</th>\n",
       "      <th>retweet_count</th>\n",
       "      <th>favorite_count</th>\n",
       "      <th>breed_counts</th>\n",
       "    </tr>\n",
       "    <tr>\n",
       "      <th>dog_stage</th>\n",
       "      <th>breeds_grouped</th>\n",
       "      <th></th>\n",
       "      <th></th>\n",
       "      <th></th>\n",
       "      <th></th>\n",
       "    </tr>\n",
       "  </thead>\n",
       "  <tbody>\n",
       "    <tr>\n",
       "      <th rowspan=\"10\" valign=\"top\">puppo</th>\n",
       "      <th>german_shepherd</th>\n",
       "      <td>13.00</td>\n",
       "      <td>3,240.00</td>\n",
       "      <td>11,416.00</td>\n",
       "      <td>21.00</td>\n",
       "    </tr>\n",
       "    <tr>\n",
       "      <th>pembroke</th>\n",
       "      <td>13.00</td>\n",
       "      <td>8,538.00</td>\n",
       "      <td>38,818.00</td>\n",
       "      <td>93.00</td>\n",
       "    </tr>\n",
       "    <tr>\n",
       "      <th>rare_breeds</th>\n",
       "      <td>13.00</td>\n",
       "      <td>19,196.00</td>\n",
       "      <td>47,844.00</td>\n",
       "      <td>8.00</td>\n",
       "    </tr>\n",
       "    <tr>\n",
       "      <th>golden_retriever</th>\n",
       "      <td>12.67</td>\n",
       "      <td>3,173.67</td>\n",
       "      <td>17,812.00</td>\n",
       "      <td>148.00</td>\n",
       "    </tr>\n",
       "    <tr>\n",
       "      <th>no_breed</th>\n",
       "      <td>12.67</td>\n",
       "      <td>6,029.67</td>\n",
       "      <td>16,106.33</td>\n",
       "      <td>537.00</td>\n",
       "    </tr>\n",
       "    <tr>\n",
       "      <th>moderately_popular_breeds</th>\n",
       "      <td>12.10</td>\n",
       "      <td>9,430.30</td>\n",
       "      <td>29,471.20</td>\n",
       "      <td>17.30</td>\n",
       "    </tr>\n",
       "    <tr>\n",
       "      <th>miniature_pinscher</th>\n",
       "      <td>12.00</td>\n",
       "      <td>3,220.00</td>\n",
       "      <td>11,203.00</td>\n",
       "      <td>25.00</td>\n",
       "    </tr>\n",
       "    <tr>\n",
       "      <th>chow</th>\n",
       "      <td>11.00</td>\n",
       "      <td>1,759.00</td>\n",
       "      <td>5,575.00</td>\n",
       "      <td>44.00</td>\n",
       "    </tr>\n",
       "    <tr>\n",
       "      <th>labrador_retriever</th>\n",
       "      <td>11.00</td>\n",
       "      <td>3,981.33</td>\n",
       "      <td>10,276.67</td>\n",
       "      <td>102.00</td>\n",
       "    </tr>\n",
       "    <tr>\n",
       "      <th>malamute</th>\n",
       "      <td>10.00</td>\n",
       "      <td>1,366.00</td>\n",
       "      <td>4,624.00</td>\n",
       "      <td>31.00</td>\n",
       "    </tr>\n",
       "    <tr>\n",
       "      <th rowspan=\"21\" valign=\"top\">pupper</th>\n",
       "      <th>rarest_breeds</th>\n",
       "      <td>14.00</td>\n",
       "      <td>8,285.00</td>\n",
       "      <td>33,911.00</td>\n",
       "      <td>2.00</td>\n",
       "    </tr>\n",
       "    <tr>\n",
       "      <th>samoyed</th>\n",
       "      <td>12.50</td>\n",
       "      <td>5,594.50</td>\n",
       "      <td>15,897.75</td>\n",
       "      <td>41.00</td>\n",
       "    </tr>\n",
       "    <tr>\n",
       "      <th>malamute</th>\n",
       "      <td>12.00</td>\n",
       "      <td>1,015.50</td>\n",
       "      <td>2,896.50</td>\n",
       "      <td>31.00</td>\n",
       "    </tr>\n",
       "    <tr>\n",
       "      <th>chihuahua</th>\n",
       "      <td>11.75</td>\n",
       "      <td>3,201.50</td>\n",
       "      <td>7,811.25</td>\n",
       "      <td>89.00</td>\n",
       "    </tr>\n",
       "    <tr>\n",
       "      <th>pembroke</th>\n",
       "      <td>11.70</td>\n",
       "      <td>3,764.10</td>\n",
       "      <td>8,733.10</td>\n",
       "      <td>93.00</td>\n",
       "    </tr>\n",
       "    <tr>\n",
       "      <th>golden_retriever</th>\n",
       "      <td>11.45</td>\n",
       "      <td>3,199.45</td>\n",
       "      <td>9,742.40</td>\n",
       "      <td>148.00</td>\n",
       "    </tr>\n",
       "    <tr>\n",
       "      <th>labrador_retriever</th>\n",
       "      <td>11.40</td>\n",
       "      <td>2,456.80</td>\n",
       "      <td>9,696.70</td>\n",
       "      <td>102.00</td>\n",
       "    </tr>\n",
       "    <tr>\n",
       "      <th>pomeranian</th>\n",
       "      <td>11.38</td>\n",
       "      <td>2,921.62</td>\n",
       "      <td>6,419.88</td>\n",
       "      <td>40.00</td>\n",
       "    </tr>\n",
       "    <tr>\n",
       "      <th>cocker_spaniel</th>\n",
       "      <td>11.33</td>\n",
       "      <td>2,187.00</td>\n",
       "      <td>11,622.00</td>\n",
       "      <td>28.00</td>\n",
       "    </tr>\n",
       "    <tr>\n",
       "      <th>german_shepherd</th>\n",
       "      <td>11.33</td>\n",
       "      <td>3,229.67</td>\n",
       "      <td>11,343.33</td>\n",
       "      <td>21.00</td>\n",
       "    </tr>\n",
       "    <tr>\n",
       "      <th>chow</th>\n",
       "      <td>11.00</td>\n",
       "      <td>1,527.00</td>\n",
       "      <td>4,537.00</td>\n",
       "      <td>44.00</td>\n",
       "    </tr>\n",
       "    <tr>\n",
       "      <th>french_bulldog</th>\n",
       "      <td>11.00</td>\n",
       "      <td>9,673.00</td>\n",
       "      <td>34,321.75</td>\n",
       "      <td>31.00</td>\n",
       "    </tr>\n",
       "    <tr>\n",
       "      <th>very_rare_breeds</th>\n",
       "      <td>10.93</td>\n",
       "      <td>1,992.93</td>\n",
       "      <td>6,709.79</td>\n",
       "      <td>3.86</td>\n",
       "    </tr>\n",
       "    <tr>\n",
       "      <th>toy_poodle</th>\n",
       "      <td>10.88</td>\n",
       "      <td>1,814.62</td>\n",
       "      <td>5,849.88</td>\n",
       "      <td>47.00</td>\n",
       "    </tr>\n",
       "    <tr>\n",
       "      <th>no_breed</th>\n",
       "      <td>10.41</td>\n",
       "      <td>2,469.48</td>\n",
       "      <td>5,993.73</td>\n",
       "      <td>537.00</td>\n",
       "    </tr>\n",
       "    <tr>\n",
       "      <th>moderately_popular_breeds</th>\n",
       "      <td>10.39</td>\n",
       "      <td>1,869.72</td>\n",
       "      <td>6,067.43</td>\n",
       "      <td>14.80</td>\n",
       "    </tr>\n",
       "    <tr>\n",
       "      <th>pug</th>\n",
       "      <td>10.22</td>\n",
       "      <td>994.00</td>\n",
       "      <td>2,437.89</td>\n",
       "      <td>58.00</td>\n",
       "    </tr>\n",
       "    <tr>\n",
       "      <th>miniature_pinscher</th>\n",
       "      <td>10.00</td>\n",
       "      <td>711.50</td>\n",
       "      <td>2,352.00</td>\n",
       "      <td>25.00</td>\n",
       "    </tr>\n",
       "    <tr>\n",
       "      <th>staffordshire_bullterrier</th>\n",
       "      <td>10.00</td>\n",
       "      <td>842.00</td>\n",
       "      <td>3,397.00</td>\n",
       "      <td>21.00</td>\n",
       "    </tr>\n",
       "    <tr>\n",
       "      <th>rare_breeds</th>\n",
       "      <td>9.69</td>\n",
       "      <td>1,542.77</td>\n",
       "      <td>4,924.92</td>\n",
       "      <td>7.23</td>\n",
       "    </tr>\n",
       "    <tr>\n",
       "      <th>chesapeake_bay_retriever</th>\n",
       "      <td>8.50</td>\n",
       "      <td>3,136.00</td>\n",
       "      <td>8,211.00</td>\n",
       "      <td>30.00</td>\n",
       "    </tr>\n",
       "    <tr>\n",
       "      <th rowspan=\"19\" valign=\"top\">no_stage</th>\n",
       "      <th>samoyed</th>\n",
       "      <td>11.57</td>\n",
       "      <td>4,471.51</td>\n",
       "      <td>13,514.66</td>\n",
       "      <td>41.00</td>\n",
       "    </tr>\n",
       "    <tr>\n",
       "      <th>golden_retriever</th>\n",
       "      <td>11.52</td>\n",
       "      <td>3,583.11</td>\n",
       "      <td>12,061.31</td>\n",
       "      <td>148.00</td>\n",
       "    </tr>\n",
       "    <tr>\n",
       "      <th>chow</th>\n",
       "      <td>11.51</td>\n",
       "      <td>2,851.10</td>\n",
       "      <td>9,538.49</td>\n",
       "      <td>44.00</td>\n",
       "    </tr>\n",
       "    <tr>\n",
       "      <th>pembroke</th>\n",
       "      <td>11.26</td>\n",
       "      <td>2,885.80</td>\n",
       "      <td>10,599.49</td>\n",
       "      <td>93.00</td>\n",
       "    </tr>\n",
       "    <tr>\n",
       "      <th>cocker_spaniel</th>\n",
       "      <td>11.26</td>\n",
       "      <td>4,179.70</td>\n",
       "      <td>11,960.43</td>\n",
       "      <td>28.00</td>\n",
       "    </tr>\n",
       "    <tr>\n",
       "      <th>french_bulldog</th>\n",
       "      <td>11.22</td>\n",
       "      <td>4,353.26</td>\n",
       "      <td>16,060.52</td>\n",
       "      <td>31.00</td>\n",
       "    </tr>\n",
       "    <tr>\n",
       "      <th>labrador_retriever</th>\n",
       "      <td>11.12</td>\n",
       "      <td>3,216.92</td>\n",
       "      <td>11,056.14</td>\n",
       "      <td>102.00</td>\n",
       "    </tr>\n",
       "    <tr>\n",
       "      <th>toy_poodle</th>\n",
       "      <td>11.08</td>\n",
       "      <td>2,365.33</td>\n",
       "      <td>6,452.26</td>\n",
       "      <td>47.00</td>\n",
       "    </tr>\n",
       "    <tr>\n",
       "      <th>pomeranian</th>\n",
       "      <td>10.93</td>\n",
       "      <td>2,423.90</td>\n",
       "      <td>6,872.10</td>\n",
       "      <td>40.00</td>\n",
       "    </tr>\n",
       "    <tr>\n",
       "      <th>chesapeake_bay_retriever</th>\n",
       "      <td>10.89</td>\n",
       "      <td>2,588.30</td>\n",
       "      <td>10,061.11</td>\n",
       "      <td>30.00</td>\n",
       "    </tr>\n",
       "    <tr>\n",
       "      <th>malamute</th>\n",
       "      <td>10.86</td>\n",
       "      <td>3,489.75</td>\n",
       "      <td>11,385.93</td>\n",
       "      <td>31.00</td>\n",
       "    </tr>\n",
       "    <tr>\n",
       "      <th>staffordshire_bullterrier</th>\n",
       "      <td>10.83</td>\n",
       "      <td>1,984.00</td>\n",
       "      <td>8,154.33</td>\n",
       "      <td>21.00</td>\n",
       "    </tr>\n",
       "    <tr>\n",
       "      <th>german_shepherd</th>\n",
       "      <td>10.71</td>\n",
       "      <td>2,391.50</td>\n",
       "      <td>8,881.07</td>\n",
       "      <td>21.00</td>\n",
       "    </tr>\n",
       "    <tr>\n",
       "      <th>moderately_popular_breeds</th>\n",
       "      <td>10.58</td>\n",
       "      <td>2,173.93</td>\n",
       "      <td>7,393.86</td>\n",
       "      <td>14.96</td>\n",
       "    </tr>\n",
       "    <tr>\n",
       "      <th>chihuahua</th>\n",
       "      <td>10.44</td>\n",
       "      <td>2,586.31</td>\n",
       "      <td>7,975.94</td>\n",
       "      <td>89.00</td>\n",
       "    </tr>\n",
       "    <tr>\n",
       "      <th>very_rare_breeds</th>\n",
       "      <td>10.43</td>\n",
       "      <td>2,181.71</td>\n",
       "      <td>7,748.39</td>\n",
       "      <td>3.89</td>\n",
       "    </tr>\n",
       "    <tr>\n",
       "      <th>rare_breeds</th>\n",
       "      <td>10.40</td>\n",
       "      <td>1,959.35</td>\n",
       "      <td>7,115.65</td>\n",
       "      <td>7.67</td>\n",
       "    </tr>\n",
       "    <tr>\n",
       "      <th>rarest_breeds</th>\n",
       "      <td>10.31</td>\n",
       "      <td>1,346.94</td>\n",
       "      <td>4,812.56</td>\n",
       "      <td>1.62</td>\n",
       "    </tr>\n",
       "    <tr>\n",
       "      <th>pug</th>\n",
       "      <td>10.29</td>\n",
       "      <td>2,067.90</td>\n",
       "      <td>6,966.47</td>\n",
       "      <td>58.00</td>\n",
       "    </tr>\n",
       "  </tbody>\n",
       "</table>\n",
       "</div>"
      ],
      "text/plain": [
       "                                        rating_numerator        retweet_count  \\\n",
       "dog_stage breeds_grouped                                                        \n",
       "puppo     german_shepherd                          13.00             3,240.00   \n",
       "          pembroke                                 13.00             8,538.00   \n",
       "          rare_breeds                              13.00            19,196.00   \n",
       "          golden_retriever                         12.67             3,173.67   \n",
       "          no_breed                                 12.67             6,029.67   \n",
       "          moderately_popular_breeds                12.10             9,430.30   \n",
       "          miniature_pinscher                       12.00             3,220.00   \n",
       "          chow                                     11.00             1,759.00   \n",
       "          labrador_retriever                       11.00             3,981.33   \n",
       "          malamute                                 10.00             1,366.00   \n",
       "pupper    rarest_breeds                            14.00             8,285.00   \n",
       "          samoyed                                  12.50             5,594.50   \n",
       "          malamute                                 12.00             1,015.50   \n",
       "          chihuahua                                11.75             3,201.50   \n",
       "          pembroke                                 11.70             3,764.10   \n",
       "          golden_retriever                         11.45             3,199.45   \n",
       "          labrador_retriever                       11.40             2,456.80   \n",
       "          pomeranian                               11.38             2,921.62   \n",
       "          cocker_spaniel                           11.33             2,187.00   \n",
       "          german_shepherd                          11.33             3,229.67   \n",
       "          chow                                     11.00             1,527.00   \n",
       "          french_bulldog                           11.00             9,673.00   \n",
       "          very_rare_breeds                         10.93             1,992.93   \n",
       "          toy_poodle                               10.88             1,814.62   \n",
       "          no_breed                                 10.41             2,469.48   \n",
       "          moderately_popular_breeds                10.39             1,869.72   \n",
       "          pug                                      10.22               994.00   \n",
       "          miniature_pinscher                       10.00               711.50   \n",
       "          staffordshire_bullterrier                10.00               842.00   \n",
       "          rare_breeds                               9.69             1,542.77   \n",
       "          chesapeake_bay_retriever                  8.50             3,136.00   \n",
       "no_stage  samoyed                                  11.57             4,471.51   \n",
       "          golden_retriever                         11.52             3,583.11   \n",
       "          chow                                     11.51             2,851.10   \n",
       "          pembroke                                 11.26             2,885.80   \n",
       "          cocker_spaniel                           11.26             4,179.70   \n",
       "          french_bulldog                           11.22             4,353.26   \n",
       "          labrador_retriever                       11.12             3,216.92   \n",
       "          toy_poodle                               11.08             2,365.33   \n",
       "          pomeranian                               10.93             2,423.90   \n",
       "          chesapeake_bay_retriever                 10.89             2,588.30   \n",
       "          malamute                                 10.86             3,489.75   \n",
       "          staffordshire_bullterrier                10.83             1,984.00   \n",
       "          german_shepherd                          10.71             2,391.50   \n",
       "          moderately_popular_breeds                10.58             2,173.93   \n",
       "          chihuahua                                10.44             2,586.31   \n",
       "          very_rare_breeds                         10.43             2,181.71   \n",
       "          rare_breeds                              10.40             1,959.35   \n",
       "          rarest_breeds                            10.31             1,346.94   \n",
       "          pug                                      10.29             2,067.90   \n",
       "\n",
       "                                          favorite_count         breed_counts  \n",
       "dog_stage breeds_grouped                                                       \n",
       "puppo     german_shepherd                      11,416.00                21.00  \n",
       "          pembroke                             38,818.00                93.00  \n",
       "          rare_breeds                          47,844.00                 8.00  \n",
       "          golden_retriever                     17,812.00               148.00  \n",
       "          no_breed                             16,106.33               537.00  \n",
       "          moderately_popular_breeds            29,471.20                17.30  \n",
       "          miniature_pinscher                   11,203.00                25.00  \n",
       "          chow                                  5,575.00                44.00  \n",
       "          labrador_retriever                   10,276.67               102.00  \n",
       "          malamute                              4,624.00                31.00  \n",
       "pupper    rarest_breeds                        33,911.00                 2.00  \n",
       "          samoyed                              15,897.75                41.00  \n",
       "          malamute                              2,896.50                31.00  \n",
       "          chihuahua                             7,811.25                89.00  \n",
       "          pembroke                              8,733.10                93.00  \n",
       "          golden_retriever                      9,742.40               148.00  \n",
       "          labrador_retriever                    9,696.70               102.00  \n",
       "          pomeranian                            6,419.88                40.00  \n",
       "          cocker_spaniel                       11,622.00                28.00  \n",
       "          german_shepherd                      11,343.33                21.00  \n",
       "          chow                                  4,537.00                44.00  \n",
       "          french_bulldog                       34,321.75                31.00  \n",
       "          very_rare_breeds                      6,709.79                 3.86  \n",
       "          toy_poodle                            5,849.88                47.00  \n",
       "          no_breed                              5,993.73               537.00  \n",
       "          moderately_popular_breeds             6,067.43                14.80  \n",
       "          pug                                   2,437.89                58.00  \n",
       "          miniature_pinscher                    2,352.00                25.00  \n",
       "          staffordshire_bullterrier             3,397.00                21.00  \n",
       "          rare_breeds                           4,924.92                 7.23  \n",
       "          chesapeake_bay_retriever              8,211.00                30.00  \n",
       "no_stage  samoyed                              13,514.66                41.00  \n",
       "          golden_retriever                     12,061.31               148.00  \n",
       "          chow                                  9,538.49                44.00  \n",
       "          pembroke                             10,599.49                93.00  \n",
       "          cocker_spaniel                       11,960.43                28.00  \n",
       "          french_bulldog                       16,060.52                31.00  \n",
       "          labrador_retriever                   11,056.14               102.00  \n",
       "          toy_poodle                            6,452.26                47.00  \n",
       "          pomeranian                            6,872.10                40.00  \n",
       "          chesapeake_bay_retriever             10,061.11                30.00  \n",
       "          malamute                             11,385.93                31.00  \n",
       "          staffordshire_bullterrier             8,154.33                21.00  \n",
       "          german_shepherd                       8,881.07                21.00  \n",
       "          moderately_popular_breeds             7,393.86                14.96  \n",
       "          chihuahua                             7,975.94                89.00  \n",
       "          very_rare_breeds                      7,748.39                 3.89  \n",
       "          rare_breeds                           7,115.65                 7.67  \n",
       "          rarest_breeds                         4,812.56                 1.62  \n",
       "          pug                                   6,966.47                58.00  "
      ]
     },
     "execution_count": 97,
     "metadata": {},
     "output_type": "execute_result"
    }
   ],
   "source": [
    "groupby_breedgr_x_stage_df = subset01_df.groupby(['dog_stage', 'breeds_grouped']).mean()\n",
    "groupby_breedgr_x_stage_df = groupby_breedgr_x_stage_df.sort_values(by = ['dog_stage', 'rating_numerator'], ascending=False)\n",
    "groupby_breedgr_x_stage_df.head(50)"
   ]
  },
  {
   "cell_type": "code",
   "execution_count": 98,
   "metadata": {},
   "outputs": [
    {
     "data": {
      "text/html": [
       "<div>\n",
       "<style scoped>\n",
       "    .dataframe tbody tr th:only-of-type {\n",
       "        vertical-align: middle;\n",
       "    }\n",
       "\n",
       "    .dataframe tbody tr th {\n",
       "        vertical-align: top;\n",
       "    }\n",
       "\n",
       "    .dataframe thead th {\n",
       "        text-align: right;\n",
       "    }\n",
       "</style>\n",
       "<table border=\"1\" class=\"dataframe\">\n",
       "  <thead>\n",
       "    <tr style=\"text-align: right;\">\n",
       "      <th></th>\n",
       "      <th></th>\n",
       "      <th>rating_numerator</th>\n",
       "      <th>retweet_count</th>\n",
       "      <th>favorite_count</th>\n",
       "      <th>breed_counts</th>\n",
       "    </tr>\n",
       "    <tr>\n",
       "      <th>dog_stage</th>\n",
       "      <th>breeds_grouped</th>\n",
       "      <th></th>\n",
       "      <th></th>\n",
       "      <th></th>\n",
       "      <th></th>\n",
       "    </tr>\n",
       "  </thead>\n",
       "  <tbody>\n",
       "    <tr>\n",
       "      <th rowspan=\"2\" valign=\"top\">no_stage</th>\n",
       "      <th>miniature_pinscher</th>\n",
       "      <td>9.91</td>\n",
       "      <td>2,412.95</td>\n",
       "      <td>8,515.23</td>\n",
       "      <td>25.00</td>\n",
       "    </tr>\n",
       "    <tr>\n",
       "      <th>no_breed</th>\n",
       "      <td>9.76</td>\n",
       "      <td>2,567.47</td>\n",
       "      <td>7,268.06</td>\n",
       "      <td>537.00</td>\n",
       "    </tr>\n",
       "    <tr>\n",
       "      <th rowspan=\"8\" valign=\"top\">floofer</th>\n",
       "      <th>chow</th>\n",
       "      <td>13.00</td>\n",
       "      <td>3,825.00</td>\n",
       "      <td>22,986.00</td>\n",
       "      <td>44.00</td>\n",
       "    </tr>\n",
       "    <tr>\n",
       "      <th>samoyed</th>\n",
       "      <td>13.00</td>\n",
       "      <td>11,772.50</td>\n",
       "      <td>22,323.50</td>\n",
       "      <td>41.00</td>\n",
       "    </tr>\n",
       "    <tr>\n",
       "      <th>golden_retriever</th>\n",
       "      <td>12.00</td>\n",
       "      <td>3,265.00</td>\n",
       "      <td>12,456.00</td>\n",
       "      <td>148.00</td>\n",
       "    </tr>\n",
       "    <tr>\n",
       "      <th>rarest_breeds</th>\n",
       "      <td>12.00</td>\n",
       "      <td>2,509.00</td>\n",
       "      <td>6,076.00</td>\n",
       "      <td>2.00</td>\n",
       "    </tr>\n",
       "    <tr>\n",
       "      <th>no_breed</th>\n",
       "      <td>11.50</td>\n",
       "      <td>1,311.00</td>\n",
       "      <td>3,569.00</td>\n",
       "      <td>537.00</td>\n",
       "    </tr>\n",
       "    <tr>\n",
       "      <th>moderately_popular_breeds</th>\n",
       "      <td>11.00</td>\n",
       "      <td>3,433.00</td>\n",
       "      <td>17,169.00</td>\n",
       "      <td>10.00</td>\n",
       "    </tr>\n",
       "    <tr>\n",
       "      <th>pomeranian</th>\n",
       "      <td>11.00</td>\n",
       "      <td>496.00</td>\n",
       "      <td>2,262.00</td>\n",
       "      <td>40.00</td>\n",
       "    </tr>\n",
       "    <tr>\n",
       "      <th>very_rare_breeds</th>\n",
       "      <td>10.00</td>\n",
       "      <td>1,141.00</td>\n",
       "      <td>4,015.00</td>\n",
       "      <td>5.00</td>\n",
       "    </tr>\n",
       "    <tr>\n",
       "      <th rowspan=\"13\" valign=\"top\">doggo</th>\n",
       "      <th>pembroke</th>\n",
       "      <td>14.00</td>\n",
       "      <td>5,192.00</td>\n",
       "      <td>22,426.00</td>\n",
       "      <td>93.00</td>\n",
       "    </tr>\n",
       "    <tr>\n",
       "      <th>chesapeake_bay_retriever</th>\n",
       "      <td>13.00</td>\n",
       "      <td>4,376.00</td>\n",
       "      <td>12,376.00</td>\n",
       "      <td>30.00</td>\n",
       "    </tr>\n",
       "    <tr>\n",
       "      <th>very_rare_breeds</th>\n",
       "      <td>12.67</td>\n",
       "      <td>5,050.33</td>\n",
       "      <td>17,478.33</td>\n",
       "      <td>3.33</td>\n",
       "    </tr>\n",
       "    <tr>\n",
       "      <th>golden_retriever</th>\n",
       "      <td>12.20</td>\n",
       "      <td>6,470.30</td>\n",
       "      <td>19,952.60</td>\n",
       "      <td>148.00</td>\n",
       "    </tr>\n",
       "    <tr>\n",
       "      <th>chihuahua</th>\n",
       "      <td>12.00</td>\n",
       "      <td>3,327.00</td>\n",
       "      <td>16,476.00</td>\n",
       "      <td>89.00</td>\n",
       "    </tr>\n",
       "    <tr>\n",
       "      <th>labrador_retriever</th>\n",
       "      <td>11.80</td>\n",
       "      <td>18,119.40</td>\n",
       "      <td>36,489.60</td>\n",
       "      <td>102.00</td>\n",
       "    </tr>\n",
       "    <tr>\n",
       "      <th>moderately_popular_breeds</th>\n",
       "      <td>11.79</td>\n",
       "      <td>6,779.07</td>\n",
       "      <td>16,151.29</td>\n",
       "      <td>14.07</td>\n",
       "    </tr>\n",
       "    <tr>\n",
       "      <th>rare_breeds</th>\n",
       "      <td>11.75</td>\n",
       "      <td>7,175.88</td>\n",
       "      <td>18,427.38</td>\n",
       "      <td>7.62</td>\n",
       "    </tr>\n",
       "    <tr>\n",
       "      <th>no_breed</th>\n",
       "      <td>11.68</td>\n",
       "      <td>4,552.86</td>\n",
       "      <td>12,540.09</td>\n",
       "      <td>537.00</td>\n",
       "    </tr>\n",
       "    <tr>\n",
       "      <th>cocker_spaniel</th>\n",
       "      <td>11.50</td>\n",
       "      <td>2,066.00</td>\n",
       "      <td>9,332.00</td>\n",
       "      <td>28.00</td>\n",
       "    </tr>\n",
       "    <tr>\n",
       "      <th>pomeranian</th>\n",
       "      <td>11.50</td>\n",
       "      <td>4,759.00</td>\n",
       "      <td>18,524.50</td>\n",
       "      <td>40.00</td>\n",
       "    </tr>\n",
       "    <tr>\n",
       "      <th>german_shepherd</th>\n",
       "      <td>11.33</td>\n",
       "      <td>3,265.00</td>\n",
       "      <td>15,896.00</td>\n",
       "      <td>21.00</td>\n",
       "    </tr>\n",
       "    <tr>\n",
       "      <th>staffordshire_bullterrier</th>\n",
       "      <td>10.50</td>\n",
       "      <td>5,849.50</td>\n",
       "      <td>20,874.50</td>\n",
       "      <td>21.00</td>\n",
       "    </tr>\n",
       "  </tbody>\n",
       "</table>\n",
       "</div>"
      ],
      "text/plain": [
       "                                        rating_numerator        retweet_count  \\\n",
       "dog_stage breeds_grouped                                                        \n",
       "no_stage  miniature_pinscher                        9.91             2,412.95   \n",
       "          no_breed                                  9.76             2,567.47   \n",
       "floofer   chow                                     13.00             3,825.00   \n",
       "          samoyed                                  13.00            11,772.50   \n",
       "          golden_retriever                         12.00             3,265.00   \n",
       "          rarest_breeds                            12.00             2,509.00   \n",
       "          no_breed                                 11.50             1,311.00   \n",
       "          moderately_popular_breeds                11.00             3,433.00   \n",
       "          pomeranian                               11.00               496.00   \n",
       "          very_rare_breeds                         10.00             1,141.00   \n",
       "doggo     pembroke                                 14.00             5,192.00   \n",
       "          chesapeake_bay_retriever                 13.00             4,376.00   \n",
       "          very_rare_breeds                         12.67             5,050.33   \n",
       "          golden_retriever                         12.20             6,470.30   \n",
       "          chihuahua                                12.00             3,327.00   \n",
       "          labrador_retriever                       11.80            18,119.40   \n",
       "          moderately_popular_breeds                11.79             6,779.07   \n",
       "          rare_breeds                              11.75             7,175.88   \n",
       "          no_breed                                 11.68             4,552.86   \n",
       "          cocker_spaniel                           11.50             2,066.00   \n",
       "          pomeranian                               11.50             4,759.00   \n",
       "          german_shepherd                          11.33             3,265.00   \n",
       "          staffordshire_bullterrier                10.50             5,849.50   \n",
       "\n",
       "                                          favorite_count         breed_counts  \n",
       "dog_stage breeds_grouped                                                       \n",
       "no_stage  miniature_pinscher                    8,515.23                25.00  \n",
       "          no_breed                              7,268.06               537.00  \n",
       "floofer   chow                                 22,986.00                44.00  \n",
       "          samoyed                              22,323.50                41.00  \n",
       "          golden_retriever                     12,456.00               148.00  \n",
       "          rarest_breeds                         6,076.00                 2.00  \n",
       "          no_breed                              3,569.00               537.00  \n",
       "          moderately_popular_breeds            17,169.00                10.00  \n",
       "          pomeranian                            2,262.00                40.00  \n",
       "          very_rare_breeds                      4,015.00                 5.00  \n",
       "doggo     pembroke                             22,426.00                93.00  \n",
       "          chesapeake_bay_retriever             12,376.00                30.00  \n",
       "          very_rare_breeds                     17,478.33                 3.33  \n",
       "          golden_retriever                     19,952.60               148.00  \n",
       "          chihuahua                            16,476.00                89.00  \n",
       "          labrador_retriever                   36,489.60               102.00  \n",
       "          moderately_popular_breeds            16,151.29                14.07  \n",
       "          rare_breeds                          18,427.38                 7.62  \n",
       "          no_breed                             12,540.09               537.00  \n",
       "          cocker_spaniel                        9,332.00                28.00  \n",
       "          pomeranian                           18,524.50                40.00  \n",
       "          german_shepherd                      15,896.00                21.00  \n",
       "          staffordshire_bullterrier            20,874.50                21.00  "
      ]
     },
     "execution_count": 98,
     "metadata": {},
     "output_type": "execute_result"
    }
   ],
   "source": [
    "groupby_breedgr_x_stage_df.tail(23)"
   ]
  },
  {
   "cell_type": "markdown",
   "metadata": {},
   "source": [
    "#### Get the top 5 dog breeds (chunked) by rating per dog stage "
   ]
  },
  {
   "cell_type": "code",
   "execution_count": 99,
   "metadata": {},
   "outputs": [
    {
     "data": {
      "text/html": [
       "<div>\n",
       "<style scoped>\n",
       "    .dataframe tbody tr th:only-of-type {\n",
       "        vertical-align: middle;\n",
       "    }\n",
       "\n",
       "    .dataframe tbody tr th {\n",
       "        vertical-align: top;\n",
       "    }\n",
       "\n",
       "    .dataframe thead th {\n",
       "        text-align: right;\n",
       "    }\n",
       "</style>\n",
       "<table border=\"1\" class=\"dataframe\">\n",
       "  <thead>\n",
       "    <tr style=\"text-align: right;\">\n",
       "      <th></th>\n",
       "      <th>dog_stage</th>\n",
       "      <th>breeds_grouped</th>\n",
       "      <th>rating_numerator</th>\n",
       "      <th>retweet_count</th>\n",
       "      <th>favorite_count</th>\n",
       "      <th>breed_counts</th>\n",
       "    </tr>\n",
       "  </thead>\n",
       "  <tbody>\n",
       "    <tr>\n",
       "      <th>0</th>\n",
       "      <td>puppo</td>\n",
       "      <td>german_shepherd</td>\n",
       "      <td>13.00</td>\n",
       "      <td>3,240.00</td>\n",
       "      <td>11,416.00</td>\n",
       "      <td>21.00</td>\n",
       "    </tr>\n",
       "    <tr>\n",
       "      <th>1</th>\n",
       "      <td>puppo</td>\n",
       "      <td>pembroke</td>\n",
       "      <td>13.00</td>\n",
       "      <td>8,538.00</td>\n",
       "      <td>38,818.00</td>\n",
       "      <td>93.00</td>\n",
       "    </tr>\n",
       "    <tr>\n",
       "      <th>2</th>\n",
       "      <td>puppo</td>\n",
       "      <td>rare_breeds</td>\n",
       "      <td>13.00</td>\n",
       "      <td>19,196.00</td>\n",
       "      <td>47,844.00</td>\n",
       "      <td>8.00</td>\n",
       "    </tr>\n",
       "    <tr>\n",
       "      <th>3</th>\n",
       "      <td>puppo</td>\n",
       "      <td>golden_retriever</td>\n",
       "      <td>12.67</td>\n",
       "      <td>3,173.67</td>\n",
       "      <td>17,812.00</td>\n",
       "      <td>148.00</td>\n",
       "    </tr>\n",
       "    <tr>\n",
       "      <th>4</th>\n",
       "      <td>puppo</td>\n",
       "      <td>no_breed</td>\n",
       "      <td>12.67</td>\n",
       "      <td>6,029.67</td>\n",
       "      <td>16,106.33</td>\n",
       "      <td>537.00</td>\n",
       "    </tr>\n",
       "    <tr>\n",
       "      <th>5</th>\n",
       "      <td>pupper</td>\n",
       "      <td>rarest_breeds</td>\n",
       "      <td>14.00</td>\n",
       "      <td>8,285.00</td>\n",
       "      <td>33,911.00</td>\n",
       "      <td>2.00</td>\n",
       "    </tr>\n",
       "    <tr>\n",
       "      <th>6</th>\n",
       "      <td>pupper</td>\n",
       "      <td>samoyed</td>\n",
       "      <td>12.50</td>\n",
       "      <td>5,594.50</td>\n",
       "      <td>15,897.75</td>\n",
       "      <td>41.00</td>\n",
       "    </tr>\n",
       "    <tr>\n",
       "      <th>7</th>\n",
       "      <td>pupper</td>\n",
       "      <td>malamute</td>\n",
       "      <td>12.00</td>\n",
       "      <td>1,015.50</td>\n",
       "      <td>2,896.50</td>\n",
       "      <td>31.00</td>\n",
       "    </tr>\n",
       "    <tr>\n",
       "      <th>8</th>\n",
       "      <td>pupper</td>\n",
       "      <td>chihuahua</td>\n",
       "      <td>11.75</td>\n",
       "      <td>3,201.50</td>\n",
       "      <td>7,811.25</td>\n",
       "      <td>89.00</td>\n",
       "    </tr>\n",
       "    <tr>\n",
       "      <th>9</th>\n",
       "      <td>pupper</td>\n",
       "      <td>pembroke</td>\n",
       "      <td>11.70</td>\n",
       "      <td>3,764.10</td>\n",
       "      <td>8,733.10</td>\n",
       "      <td>93.00</td>\n",
       "    </tr>\n",
       "    <tr>\n",
       "      <th>10</th>\n",
       "      <td>no_stage</td>\n",
       "      <td>samoyed</td>\n",
       "      <td>11.57</td>\n",
       "      <td>4,471.51</td>\n",
       "      <td>13,514.66</td>\n",
       "      <td>41.00</td>\n",
       "    </tr>\n",
       "    <tr>\n",
       "      <th>11</th>\n",
       "      <td>no_stage</td>\n",
       "      <td>golden_retriever</td>\n",
       "      <td>11.52</td>\n",
       "      <td>3,583.11</td>\n",
       "      <td>12,061.31</td>\n",
       "      <td>148.00</td>\n",
       "    </tr>\n",
       "    <tr>\n",
       "      <th>12</th>\n",
       "      <td>no_stage</td>\n",
       "      <td>chow</td>\n",
       "      <td>11.51</td>\n",
       "      <td>2,851.10</td>\n",
       "      <td>9,538.49</td>\n",
       "      <td>44.00</td>\n",
       "    </tr>\n",
       "    <tr>\n",
       "      <th>13</th>\n",
       "      <td>no_stage</td>\n",
       "      <td>pembroke</td>\n",
       "      <td>11.26</td>\n",
       "      <td>2,885.80</td>\n",
       "      <td>10,599.49</td>\n",
       "      <td>93.00</td>\n",
       "    </tr>\n",
       "    <tr>\n",
       "      <th>14</th>\n",
       "      <td>no_stage</td>\n",
       "      <td>cocker_spaniel</td>\n",
       "      <td>11.26</td>\n",
       "      <td>4,179.70</td>\n",
       "      <td>11,960.43</td>\n",
       "      <td>28.00</td>\n",
       "    </tr>\n",
       "    <tr>\n",
       "      <th>15</th>\n",
       "      <td>floofer</td>\n",
       "      <td>chow</td>\n",
       "      <td>13.00</td>\n",
       "      <td>3,825.00</td>\n",
       "      <td>22,986.00</td>\n",
       "      <td>44.00</td>\n",
       "    </tr>\n",
       "    <tr>\n",
       "      <th>16</th>\n",
       "      <td>floofer</td>\n",
       "      <td>samoyed</td>\n",
       "      <td>13.00</td>\n",
       "      <td>11,772.50</td>\n",
       "      <td>22,323.50</td>\n",
       "      <td>41.00</td>\n",
       "    </tr>\n",
       "    <tr>\n",
       "      <th>17</th>\n",
       "      <td>floofer</td>\n",
       "      <td>golden_retriever</td>\n",
       "      <td>12.00</td>\n",
       "      <td>3,265.00</td>\n",
       "      <td>12,456.00</td>\n",
       "      <td>148.00</td>\n",
       "    </tr>\n",
       "    <tr>\n",
       "      <th>18</th>\n",
       "      <td>floofer</td>\n",
       "      <td>rarest_breeds</td>\n",
       "      <td>12.00</td>\n",
       "      <td>2,509.00</td>\n",
       "      <td>6,076.00</td>\n",
       "      <td>2.00</td>\n",
       "    </tr>\n",
       "    <tr>\n",
       "      <th>19</th>\n",
       "      <td>floofer</td>\n",
       "      <td>no_breed</td>\n",
       "      <td>11.50</td>\n",
       "      <td>1,311.00</td>\n",
       "      <td>3,569.00</td>\n",
       "      <td>537.00</td>\n",
       "    </tr>\n",
       "    <tr>\n",
       "      <th>20</th>\n",
       "      <td>doggo</td>\n",
       "      <td>pembroke</td>\n",
       "      <td>14.00</td>\n",
       "      <td>5,192.00</td>\n",
       "      <td>22,426.00</td>\n",
       "      <td>93.00</td>\n",
       "    </tr>\n",
       "    <tr>\n",
       "      <th>21</th>\n",
       "      <td>doggo</td>\n",
       "      <td>chesapeake_bay_retriever</td>\n",
       "      <td>13.00</td>\n",
       "      <td>4,376.00</td>\n",
       "      <td>12,376.00</td>\n",
       "      <td>30.00</td>\n",
       "    </tr>\n",
       "    <tr>\n",
       "      <th>22</th>\n",
       "      <td>doggo</td>\n",
       "      <td>very_rare_breeds</td>\n",
       "      <td>12.67</td>\n",
       "      <td>5,050.33</td>\n",
       "      <td>17,478.33</td>\n",
       "      <td>3.33</td>\n",
       "    </tr>\n",
       "    <tr>\n",
       "      <th>23</th>\n",
       "      <td>doggo</td>\n",
       "      <td>golden_retriever</td>\n",
       "      <td>12.20</td>\n",
       "      <td>6,470.30</td>\n",
       "      <td>19,952.60</td>\n",
       "      <td>148.00</td>\n",
       "    </tr>\n",
       "    <tr>\n",
       "      <th>24</th>\n",
       "      <td>doggo</td>\n",
       "      <td>chihuahua</td>\n",
       "      <td>12.00</td>\n",
       "      <td>3,327.00</td>\n",
       "      <td>16,476.00</td>\n",
       "      <td>89.00</td>\n",
       "    </tr>\n",
       "  </tbody>\n",
       "</table>\n",
       "</div>"
      ],
      "text/plain": [
       "   dog_stage            breeds_grouped     rating_numerator  \\\n",
       "0      puppo           german_shepherd                13.00   \n",
       "1      puppo                  pembroke                13.00   \n",
       "2      puppo               rare_breeds                13.00   \n",
       "3      puppo          golden_retriever                12.67   \n",
       "4      puppo                  no_breed                12.67   \n",
       "5     pupper             rarest_breeds                14.00   \n",
       "6     pupper                   samoyed                12.50   \n",
       "7     pupper                  malamute                12.00   \n",
       "8     pupper                 chihuahua                11.75   \n",
       "9     pupper                  pembroke                11.70   \n",
       "10  no_stage                   samoyed                11.57   \n",
       "11  no_stage          golden_retriever                11.52   \n",
       "12  no_stage                      chow                11.51   \n",
       "13  no_stage                  pembroke                11.26   \n",
       "14  no_stage            cocker_spaniel                11.26   \n",
       "15   floofer                      chow                13.00   \n",
       "16   floofer                   samoyed                13.00   \n",
       "17   floofer          golden_retriever                12.00   \n",
       "18   floofer             rarest_breeds                12.00   \n",
       "19   floofer                  no_breed                11.50   \n",
       "20     doggo                  pembroke                14.00   \n",
       "21     doggo  chesapeake_bay_retriever                13.00   \n",
       "22     doggo          very_rare_breeds                12.67   \n",
       "23     doggo          golden_retriever                12.20   \n",
       "24     doggo                 chihuahua                12.00   \n",
       "\n",
       "          retweet_count       favorite_count         breed_counts  \n",
       "0              3,240.00            11,416.00                21.00  \n",
       "1              8,538.00            38,818.00                93.00  \n",
       "2             19,196.00            47,844.00                 8.00  \n",
       "3              3,173.67            17,812.00               148.00  \n",
       "4              6,029.67            16,106.33               537.00  \n",
       "5              8,285.00            33,911.00                 2.00  \n",
       "6              5,594.50            15,897.75                41.00  \n",
       "7              1,015.50             2,896.50                31.00  \n",
       "8              3,201.50             7,811.25                89.00  \n",
       "9              3,764.10             8,733.10                93.00  \n",
       "10             4,471.51            13,514.66                41.00  \n",
       "11             3,583.11            12,061.31               148.00  \n",
       "12             2,851.10             9,538.49                44.00  \n",
       "13             2,885.80            10,599.49                93.00  \n",
       "14             4,179.70            11,960.43                28.00  \n",
       "15             3,825.00            22,986.00                44.00  \n",
       "16            11,772.50            22,323.50                41.00  \n",
       "17             3,265.00            12,456.00               148.00  \n",
       "18             2,509.00             6,076.00                 2.00  \n",
       "19             1,311.00             3,569.00               537.00  \n",
       "20             5,192.00            22,426.00                93.00  \n",
       "21             4,376.00            12,376.00                30.00  \n",
       "22             5,050.33            17,478.33                 3.33  \n",
       "23             6,470.30            19,952.60               148.00  \n",
       "24             3,327.00            16,476.00                89.00  "
      ]
     },
     "execution_count": 99,
     "metadata": {},
     "output_type": "execute_result"
    }
   ],
   "source": [
    "# https://stackoverflow.com/questions/20069009/pandas-get-topmost-n-records-within-each-group\n",
    "# df.groupby('id').head(2).reset_index(drop=True)\n",
    "top5_breedgr_x_stage_df = groupby_breedgr_x_stage_df.reset_index()\n",
    "top5_breedgr_x_stage_df = top5_breedgr_x_stage_df.groupby('dog_stage').head(5).reset_index(drop=True)\n",
    "top5_breedgr_x_stage_df"
   ]
  },
  {
   "cell_type": "markdown",
   "metadata": {},
   "source": [
    "#### Get the top 5 dog breeds (NOT chunked) by rating per dog stage "
   ]
  },
  {
   "cell_type": "code",
   "execution_count": 100,
   "metadata": {},
   "outputs": [
    {
     "data": {
      "text/html": [
       "<div>\n",
       "<style scoped>\n",
       "    .dataframe tbody tr th:only-of-type {\n",
       "        vertical-align: middle;\n",
       "    }\n",
       "\n",
       "    .dataframe tbody tr th {\n",
       "        vertical-align: top;\n",
       "    }\n",
       "\n",
       "    .dataframe thead th {\n",
       "        text-align: right;\n",
       "    }\n",
       "</style>\n",
       "<table border=\"1\" class=\"dataframe\">\n",
       "  <thead>\n",
       "    <tr style=\"text-align: right;\">\n",
       "      <th></th>\n",
       "      <th>dog_stage</th>\n",
       "      <th>dog_breed</th>\n",
       "      <th>rating_numerator</th>\n",
       "      <th>retweet_count</th>\n",
       "      <th>favorite_count</th>\n",
       "    </tr>\n",
       "  </thead>\n",
       "  <tbody>\n",
       "    <tr>\n",
       "      <th>0</th>\n",
       "      <td>puppo</td>\n",
       "      <td>rottweiler</td>\n",
       "      <td>14.00</td>\n",
       "      <td>19,669.00</td>\n",
       "      <td>56,413.00</td>\n",
       "    </tr>\n",
       "    <tr>\n",
       "      <th>1</th>\n",
       "      <td>doggo</td>\n",
       "      <td>irish_setter</td>\n",
       "      <td>14.00</td>\n",
       "      <td>5,053.00</td>\n",
       "      <td>13,075.00</td>\n",
       "    </tr>\n",
       "    <tr>\n",
       "      <th>2</th>\n",
       "      <td>doggo</td>\n",
       "      <td>standard_poodle</td>\n",
       "      <td>14.00</td>\n",
       "      <td>42,228.00</td>\n",
       "      <td>95,450.00</td>\n",
       "    </tr>\n",
       "    <tr>\n",
       "      <th>3</th>\n",
       "      <td>pupper</td>\n",
       "      <td>black-and-tan_coonhound</td>\n",
       "      <td>14.00</td>\n",
       "      <td>8,285.00</td>\n",
       "      <td>33,911.00</td>\n",
       "    </tr>\n",
       "    <tr>\n",
       "      <th>4</th>\n",
       "      <td>doggo</td>\n",
       "      <td>pembroke</td>\n",
       "      <td>14.00</td>\n",
       "      <td>5,192.00</td>\n",
       "      <td>22,426.00</td>\n",
       "    </tr>\n",
       "    <tr>\n",
       "      <th>5</th>\n",
       "      <td>doggo</td>\n",
       "      <td>borzoi</td>\n",
       "      <td>13.00</td>\n",
       "      <td>2,564.00</td>\n",
       "      <td>6,461.00</td>\n",
       "    </tr>\n",
       "    <tr>\n",
       "      <th>6</th>\n",
       "      <td>puppo</td>\n",
       "      <td>cardigan</td>\n",
       "      <td>13.00</td>\n",
       "      <td>11,007.00</td>\n",
       "      <td>35,501.00</td>\n",
       "    </tr>\n",
       "    <tr>\n",
       "      <th>7</th>\n",
       "      <td>pupper</td>\n",
       "      <td>tibetan_mastiff</td>\n",
       "      <td>13.00</td>\n",
       "      <td>9,907.00</td>\n",
       "      <td>25,057.00</td>\n",
       "    </tr>\n",
       "    <tr>\n",
       "      <th>8</th>\n",
       "      <td>floofer</td>\n",
       "      <td>chow</td>\n",
       "      <td>13.00</td>\n",
       "      <td>3,825.00</td>\n",
       "      <td>22,986.00</td>\n",
       "    </tr>\n",
       "    <tr>\n",
       "      <th>9</th>\n",
       "      <td>puppo</td>\n",
       "      <td>american_staffordshire_terrier</td>\n",
       "      <td>13.00</td>\n",
       "      <td>1,369.00</td>\n",
       "      <td>5,927.00</td>\n",
       "    </tr>\n",
       "    <tr>\n",
       "      <th>10</th>\n",
       "      <td>floofer</td>\n",
       "      <td>samoyed</td>\n",
       "      <td>13.00</td>\n",
       "      <td>11,772.50</td>\n",
       "      <td>22,323.50</td>\n",
       "    </tr>\n",
       "    <tr>\n",
       "      <th>11</th>\n",
       "      <td>puppo</td>\n",
       "      <td>lakeland_terrier</td>\n",
       "      <td>13.00</td>\n",
       "      <td>48,265.00</td>\n",
       "      <td>132,810.00</td>\n",
       "    </tr>\n",
       "    <tr>\n",
       "      <th>12</th>\n",
       "      <td>doggo</td>\n",
       "      <td>border_collie</td>\n",
       "      <td>13.00</td>\n",
       "      <td>2,506.00</td>\n",
       "      <td>9,390.00</td>\n",
       "    </tr>\n",
       "    <tr>\n",
       "      <th>13</th>\n",
       "      <td>pupper</td>\n",
       "      <td>briard</td>\n",
       "      <td>13.00</td>\n",
       "      <td>1,264.00</td>\n",
       "      <td>7,117.00</td>\n",
       "    </tr>\n",
       "    <tr>\n",
       "      <th>14</th>\n",
       "      <td>puppo</td>\n",
       "      <td>italian_greyhound</td>\n",
       "      <td>13.00</td>\n",
       "      <td>4,319.00</td>\n",
       "      <td>19,763.00</td>\n",
       "    </tr>\n",
       "    <tr>\n",
       "      <th>15</th>\n",
       "      <td>pupper</td>\n",
       "      <td>curly-coated_retriever</td>\n",
       "      <td>13.00</td>\n",
       "      <td>3,084.00</td>\n",
       "      <td>11,901.00</td>\n",
       "    </tr>\n",
       "    <tr>\n",
       "      <th>16</th>\n",
       "      <td>no_stage</td>\n",
       "      <td>saluki</td>\n",
       "      <td>12.50</td>\n",
       "      <td>5,133.75</td>\n",
       "      <td>24,060.00</td>\n",
       "    </tr>\n",
       "    <tr>\n",
       "      <th>17</th>\n",
       "      <td>pupper</td>\n",
       "      <td>samoyed</td>\n",
       "      <td>12.50</td>\n",
       "      <td>5,594.50</td>\n",
       "      <td>15,897.75</td>\n",
       "    </tr>\n",
       "    <tr>\n",
       "      <th>18</th>\n",
       "      <td>no_stage</td>\n",
       "      <td>greater_swiss_mountain_dog</td>\n",
       "      <td>12.50</td>\n",
       "      <td>3,040.00</td>\n",
       "      <td>15,090.00</td>\n",
       "    </tr>\n",
       "    <tr>\n",
       "      <th>19</th>\n",
       "      <td>no_stage</td>\n",
       "      <td>leonberg</td>\n",
       "      <td>12.50</td>\n",
       "      <td>5,209.00</td>\n",
       "      <td>20,820.50</td>\n",
       "    </tr>\n",
       "    <tr>\n",
       "      <th>20</th>\n",
       "      <td>no_stage</td>\n",
       "      <td>border_terrier</td>\n",
       "      <td>12.14</td>\n",
       "      <td>3,377.14</td>\n",
       "      <td>13,578.00</td>\n",
       "    </tr>\n",
       "    <tr>\n",
       "      <th>21</th>\n",
       "      <td>no_stage</td>\n",
       "      <td>silky_terrier</td>\n",
       "      <td>12.00</td>\n",
       "      <td>1,891.00</td>\n",
       "      <td>7,317.00</td>\n",
       "    </tr>\n",
       "    <tr>\n",
       "      <th>22</th>\n",
       "      <td>floofer</td>\n",
       "      <td>wire-haired_fox_terrier</td>\n",
       "      <td>12.00</td>\n",
       "      <td>2,509.00</td>\n",
       "      <td>6,076.00</td>\n",
       "    </tr>\n",
       "    <tr>\n",
       "      <th>23</th>\n",
       "      <td>floofer</td>\n",
       "      <td>golden_retriever</td>\n",
       "      <td>12.00</td>\n",
       "      <td>3,265.00</td>\n",
       "      <td>12,456.00</td>\n",
       "    </tr>\n",
       "    <tr>\n",
       "      <th>24</th>\n",
       "      <td>floofer</td>\n",
       "      <td>no_breed</td>\n",
       "      <td>11.50</td>\n",
       "      <td>1,311.00</td>\n",
       "      <td>3,569.00</td>\n",
       "    </tr>\n",
       "  </tbody>\n",
       "</table>\n",
       "</div>"
      ],
      "text/plain": [
       "   dog_stage                       dog_breed     rating_numerator  \\\n",
       "0      puppo                      rottweiler                14.00   \n",
       "1      doggo                    irish_setter                14.00   \n",
       "2      doggo                 standard_poodle                14.00   \n",
       "3     pupper         black-and-tan_coonhound                14.00   \n",
       "4      doggo                        pembroke                14.00   \n",
       "5      doggo                          borzoi                13.00   \n",
       "6      puppo                        cardigan                13.00   \n",
       "7     pupper                 tibetan_mastiff                13.00   \n",
       "8    floofer                            chow                13.00   \n",
       "9      puppo  american_staffordshire_terrier                13.00   \n",
       "10   floofer                         samoyed                13.00   \n",
       "11     puppo                lakeland_terrier                13.00   \n",
       "12     doggo                   border_collie                13.00   \n",
       "13    pupper                          briard                13.00   \n",
       "14     puppo               italian_greyhound                13.00   \n",
       "15    pupper          curly-coated_retriever                13.00   \n",
       "16  no_stage                          saluki                12.50   \n",
       "17    pupper                         samoyed                12.50   \n",
       "18  no_stage      greater_swiss_mountain_dog                12.50   \n",
       "19  no_stage                        leonberg                12.50   \n",
       "20  no_stage                  border_terrier                12.14   \n",
       "21  no_stage                   silky_terrier                12.00   \n",
       "22   floofer         wire-haired_fox_terrier                12.00   \n",
       "23   floofer                golden_retriever                12.00   \n",
       "24   floofer                        no_breed                11.50   \n",
       "\n",
       "          retweet_count       favorite_count  \n",
       "0             19,669.00            56,413.00  \n",
       "1              5,053.00            13,075.00  \n",
       "2             42,228.00            95,450.00  \n",
       "3              8,285.00            33,911.00  \n",
       "4              5,192.00            22,426.00  \n",
       "5              2,564.00             6,461.00  \n",
       "6             11,007.00            35,501.00  \n",
       "7              9,907.00            25,057.00  \n",
       "8              3,825.00            22,986.00  \n",
       "9              1,369.00             5,927.00  \n",
       "10            11,772.50            22,323.50  \n",
       "11            48,265.00           132,810.00  \n",
       "12             2,506.00             9,390.00  \n",
       "13             1,264.00             7,117.00  \n",
       "14             4,319.00            19,763.00  \n",
       "15             3,084.00            11,901.00  \n",
       "16             5,133.75            24,060.00  \n",
       "17             5,594.50            15,897.75  \n",
       "18             3,040.00            15,090.00  \n",
       "19             5,209.00            20,820.50  \n",
       "20             3,377.14            13,578.00  \n",
       "21             1,891.00             7,317.00  \n",
       "22             2,509.00             6,076.00  \n",
       "23             3,265.00            12,456.00  \n",
       "24             1,311.00             3,569.00  "
      ]
     },
     "execution_count": 100,
     "metadata": {},
     "output_type": "execute_result"
    }
   ],
   "source": [
    "top5_breedxstage_df = groupby_breedxstage_df.reset_index()\n",
    "top5_breedxstage_df = top5_breedxstage_df.groupby('dog_stage').head(5).reset_index(drop=True)\n",
    "top5_breedxstage_df"
   ]
  },
  {
   "cell_type": "markdown",
   "metadata": {},
   "source": [
    "### Regression\n",
    "#### 1. Dog stage predicts rating (baseline = no_stage)"
   ]
  },
  {
   "cell_type": "code",
   "execution_count": 101,
   "metadata": {},
   "outputs": [
    {
     "data": {
      "text/html": [
       "<div>\n",
       "<style scoped>\n",
       "    .dataframe tbody tr th:only-of-type {\n",
       "        vertical-align: middle;\n",
       "    }\n",
       "\n",
       "    .dataframe tbody tr th {\n",
       "        vertical-align: top;\n",
       "    }\n",
       "\n",
       "    .dataframe thead th {\n",
       "        text-align: right;\n",
       "    }\n",
       "</style>\n",
       "<table border=\"1\" class=\"dataframe\">\n",
       "  <thead>\n",
       "    <tr style=\"text-align: right;\">\n",
       "      <th></th>\n",
       "      <th>dog_stage</th>\n",
       "      <th>breeds_grouped</th>\n",
       "      <th>rating_numerator</th>\n",
       "      <th>retweet_count</th>\n",
       "      <th>favorite_count</th>\n",
       "      <th>breed_counts</th>\n",
       "    </tr>\n",
       "  </thead>\n",
       "  <tbody>\n",
       "    <tr>\n",
       "      <th>0</th>\n",
       "      <td>puppo</td>\n",
       "      <td>german_shepherd</td>\n",
       "      <td>13.00</td>\n",
       "      <td>3,240.00</td>\n",
       "      <td>11,416.00</td>\n",
       "      <td>21.00</td>\n",
       "    </tr>\n",
       "    <tr>\n",
       "      <th>1</th>\n",
       "      <td>puppo</td>\n",
       "      <td>pembroke</td>\n",
       "      <td>13.00</td>\n",
       "      <td>8,538.00</td>\n",
       "      <td>38,818.00</td>\n",
       "      <td>93.00</td>\n",
       "    </tr>\n",
       "    <tr>\n",
       "      <th>2</th>\n",
       "      <td>puppo</td>\n",
       "      <td>rare_breeds</td>\n",
       "      <td>13.00</td>\n",
       "      <td>19,196.00</td>\n",
       "      <td>47,844.00</td>\n",
       "      <td>8.00</td>\n",
       "    </tr>\n",
       "    <tr>\n",
       "      <th>3</th>\n",
       "      <td>puppo</td>\n",
       "      <td>golden_retriever</td>\n",
       "      <td>12.67</td>\n",
       "      <td>3,173.67</td>\n",
       "      <td>17,812.00</td>\n",
       "      <td>148.00</td>\n",
       "    </tr>\n",
       "    <tr>\n",
       "      <th>4</th>\n",
       "      <td>puppo</td>\n",
       "      <td>no_breed</td>\n",
       "      <td>12.67</td>\n",
       "      <td>6,029.67</td>\n",
       "      <td>16,106.33</td>\n",
       "      <td>537.00</td>\n",
       "    </tr>\n",
       "    <tr>\n",
       "      <th>...</th>\n",
       "      <td>...</td>\n",
       "      <td>...</td>\n",
       "      <td>...</td>\n",
       "      <td>...</td>\n",
       "      <td>...</td>\n",
       "      <td>...</td>\n",
       "    </tr>\n",
       "    <tr>\n",
       "      <th>68</th>\n",
       "      <td>doggo</td>\n",
       "      <td>no_breed</td>\n",
       "      <td>11.68</td>\n",
       "      <td>4,552.86</td>\n",
       "      <td>12,540.09</td>\n",
       "      <td>537.00</td>\n",
       "    </tr>\n",
       "    <tr>\n",
       "      <th>69</th>\n",
       "      <td>doggo</td>\n",
       "      <td>cocker_spaniel</td>\n",
       "      <td>11.50</td>\n",
       "      <td>2,066.00</td>\n",
       "      <td>9,332.00</td>\n",
       "      <td>28.00</td>\n",
       "    </tr>\n",
       "    <tr>\n",
       "      <th>70</th>\n",
       "      <td>doggo</td>\n",
       "      <td>pomeranian</td>\n",
       "      <td>11.50</td>\n",
       "      <td>4,759.00</td>\n",
       "      <td>18,524.50</td>\n",
       "      <td>40.00</td>\n",
       "    </tr>\n",
       "    <tr>\n",
       "      <th>71</th>\n",
       "      <td>doggo</td>\n",
       "      <td>german_shepherd</td>\n",
       "      <td>11.33</td>\n",
       "      <td>3,265.00</td>\n",
       "      <td>15,896.00</td>\n",
       "      <td>21.00</td>\n",
       "    </tr>\n",
       "    <tr>\n",
       "      <th>72</th>\n",
       "      <td>doggo</td>\n",
       "      <td>staffordshire_bullterrier</td>\n",
       "      <td>10.50</td>\n",
       "      <td>5,849.50</td>\n",
       "      <td>20,874.50</td>\n",
       "      <td>21.00</td>\n",
       "    </tr>\n",
       "  </tbody>\n",
       "</table>\n",
       "<p>73 rows × 6 columns</p>\n",
       "</div>"
      ],
      "text/plain": [
       "   dog_stage             breeds_grouped     rating_numerator  \\\n",
       "0      puppo            german_shepherd                13.00   \n",
       "1      puppo                   pembroke                13.00   \n",
       "2      puppo                rare_breeds                13.00   \n",
       "3      puppo           golden_retriever                12.67   \n",
       "4      puppo                   no_breed                12.67   \n",
       "..       ...                        ...                  ...   \n",
       "68     doggo                   no_breed                11.68   \n",
       "69     doggo             cocker_spaniel                11.50   \n",
       "70     doggo                 pomeranian                11.50   \n",
       "71     doggo            german_shepherd                11.33   \n",
       "72     doggo  staffordshire_bullterrier                10.50   \n",
       "\n",
       "          retweet_count       favorite_count         breed_counts  \n",
       "0              3,240.00            11,416.00                21.00  \n",
       "1              8,538.00            38,818.00                93.00  \n",
       "2             19,196.00            47,844.00                 8.00  \n",
       "3              3,173.67            17,812.00               148.00  \n",
       "4              6,029.67            16,106.33               537.00  \n",
       "..                  ...                  ...                  ...  \n",
       "68             4,552.86            12,540.09               537.00  \n",
       "69             2,066.00             9,332.00                28.00  \n",
       "70             4,759.00            18,524.50                40.00  \n",
       "71             3,265.00            15,896.00                21.00  \n",
       "72             5,849.50            20,874.50                21.00  \n",
       "\n",
       "[73 rows x 6 columns]"
      ]
     },
     "execution_count": 101,
     "metadata": {},
     "output_type": "execute_result"
    }
   ],
   "source": [
    "regression_df = groupby_breedgr_x_stage_df.reset_index()\n",
    "regression_df"
   ]
  },
  {
   "cell_type": "code",
   "execution_count": 102,
   "metadata": {},
   "outputs": [
    {
     "data": {
      "text/html": [
       "<div>\n",
       "<style scoped>\n",
       "    .dataframe tbody tr th:only-of-type {\n",
       "        vertical-align: middle;\n",
       "    }\n",
       "\n",
       "    .dataframe tbody tr th {\n",
       "        vertical-align: top;\n",
       "    }\n",
       "\n",
       "    .dataframe thead th {\n",
       "        text-align: right;\n",
       "    }\n",
       "</style>\n",
       "<table border=\"1\" class=\"dataframe\">\n",
       "  <thead>\n",
       "    <tr style=\"text-align: right;\">\n",
       "      <th></th>\n",
       "      <th>dog_stage</th>\n",
       "      <th>breeds_grouped</th>\n",
       "      <th>rating_numerator</th>\n",
       "      <th>retweet_count</th>\n",
       "      <th>favorite_count</th>\n",
       "      <th>breed_counts</th>\n",
       "      <th>doggo</th>\n",
       "      <th>floofer</th>\n",
       "      <th>no_stage</th>\n",
       "      <th>pupper</th>\n",
       "      <th>puppo</th>\n",
       "    </tr>\n",
       "  </thead>\n",
       "  <tbody>\n",
       "    <tr>\n",
       "      <th>0</th>\n",
       "      <td>puppo</td>\n",
       "      <td>german_shepherd</td>\n",
       "      <td>13.00</td>\n",
       "      <td>3,240.00</td>\n",
       "      <td>11,416.00</td>\n",
       "      <td>21.00</td>\n",
       "      <td>0</td>\n",
       "      <td>0</td>\n",
       "      <td>0</td>\n",
       "      <td>0</td>\n",
       "      <td>1</td>\n",
       "    </tr>\n",
       "    <tr>\n",
       "      <th>1</th>\n",
       "      <td>puppo</td>\n",
       "      <td>pembroke</td>\n",
       "      <td>13.00</td>\n",
       "      <td>8,538.00</td>\n",
       "      <td>38,818.00</td>\n",
       "      <td>93.00</td>\n",
       "      <td>0</td>\n",
       "      <td>0</td>\n",
       "      <td>0</td>\n",
       "      <td>0</td>\n",
       "      <td>1</td>\n",
       "    </tr>\n",
       "    <tr>\n",
       "      <th>2</th>\n",
       "      <td>puppo</td>\n",
       "      <td>rare_breeds</td>\n",
       "      <td>13.00</td>\n",
       "      <td>19,196.00</td>\n",
       "      <td>47,844.00</td>\n",
       "      <td>8.00</td>\n",
       "      <td>0</td>\n",
       "      <td>0</td>\n",
       "      <td>0</td>\n",
       "      <td>0</td>\n",
       "      <td>1</td>\n",
       "    </tr>\n",
       "    <tr>\n",
       "      <th>3</th>\n",
       "      <td>puppo</td>\n",
       "      <td>golden_retriever</td>\n",
       "      <td>12.67</td>\n",
       "      <td>3,173.67</td>\n",
       "      <td>17,812.00</td>\n",
       "      <td>148.00</td>\n",
       "      <td>0</td>\n",
       "      <td>0</td>\n",
       "      <td>0</td>\n",
       "      <td>0</td>\n",
       "      <td>1</td>\n",
       "    </tr>\n",
       "    <tr>\n",
       "      <th>4</th>\n",
       "      <td>puppo</td>\n",
       "      <td>no_breed</td>\n",
       "      <td>12.67</td>\n",
       "      <td>6,029.67</td>\n",
       "      <td>16,106.33</td>\n",
       "      <td>537.00</td>\n",
       "      <td>0</td>\n",
       "      <td>0</td>\n",
       "      <td>0</td>\n",
       "      <td>0</td>\n",
       "      <td>1</td>\n",
       "    </tr>\n",
       "  </tbody>\n",
       "</table>\n",
       "</div>"
      ],
      "text/plain": [
       "  dog_stage    breeds_grouped     rating_numerator        retweet_count  \\\n",
       "0     puppo   german_shepherd                13.00             3,240.00   \n",
       "1     puppo          pembroke                13.00             8,538.00   \n",
       "2     puppo       rare_breeds                13.00            19,196.00   \n",
       "3     puppo  golden_retriever                12.67             3,173.67   \n",
       "4     puppo          no_breed                12.67             6,029.67   \n",
       "\n",
       "        favorite_count         breed_counts  doggo  floofer  no_stage  pupper  \\\n",
       "0            11,416.00                21.00      0        0         0       0   \n",
       "1            38,818.00                93.00      0        0         0       0   \n",
       "2            47,844.00                 8.00      0        0         0       0   \n",
       "3            17,812.00               148.00      0        0         0       0   \n",
       "4            16,106.33               537.00      0        0         0       0   \n",
       "\n",
       "   puppo  \n",
       "0      1  \n",
       "1      1  \n",
       "2      1  \n",
       "3      1  \n",
       "4      1  "
      ]
     },
     "execution_count": 102,
     "metadata": {},
     "output_type": "execute_result"
    }
   ],
   "source": [
    "dog_stage_dummies = pd.get_dummies(regression_df['dog_stage'])\n",
    "df_regression_01 = regression_df.join(dog_stage_dummies)\n",
    "df_regression_01.head()"
   ]
  },
  {
   "cell_type": "code",
   "execution_count": 103,
   "metadata": {},
   "outputs": [
    {
     "data": {
      "text/html": [
       "<table class=\"simpletable\">\n",
       "<caption>OLS Regression Results</caption>\n",
       "<tr>\n",
       "  <th>Dep. Variable:</th>    <td>rating_numerator</td> <th>  R-squared:         </th> <td>   0.252</td>\n",
       "</tr>\n",
       "<tr>\n",
       "  <th>Model:</th>                   <td>OLS</td>       <th>  Adj. R-squared:    </th> <td>   0.208</td>\n",
       "</tr>\n",
       "<tr>\n",
       "  <th>Method:</th>             <td>Least Squares</td>  <th>  F-statistic:       </th> <td>   5.717</td>\n",
       "</tr>\n",
       "<tr>\n",
       "  <th>Date:</th>             <td>Sun, 19 Jun 2022</td> <th>  Prob (F-statistic):</th> <td>0.000501</td>\n",
       "</tr>\n",
       "<tr>\n",
       "  <th>Time:</th>                 <td>15:01:49</td>     <th>  Log-Likelihood:    </th> <td> -94.466</td>\n",
       "</tr>\n",
       "<tr>\n",
       "  <th>No. Observations:</th>      <td>    73</td>      <th>  AIC:               </th> <td>   198.9</td>\n",
       "</tr>\n",
       "<tr>\n",
       "  <th>Df Residuals:</th>          <td>    68</td>      <th>  BIC:               </th> <td>   210.4</td>\n",
       "</tr>\n",
       "<tr>\n",
       "  <th>Df Model:</th>              <td>     4</td>      <th>                     </th>     <td> </td>   \n",
       "</tr>\n",
       "<tr>\n",
       "  <th>Covariance Type:</th>      <td>nonrobust</td>    <th>                     </th>     <td> </td>   \n",
       "</tr>\n",
       "</table>\n",
       "<table class=\"simpletable\">\n",
       "<tr>\n",
       "      <td></td>         <th>coef</th>     <th>std err</th>      <th>t</th>      <th>P>|t|</th>  <th>[0.025</th>    <th>0.975]</th>  \n",
       "</tr>\n",
       "<tr>\n",
       "  <th>intercept</th> <td>   10.8037</td> <td>    0.200</td> <td>   54.139</td> <td> 0.000</td> <td>   10.406</td> <td>   11.202</td>\n",
       "</tr>\n",
       "<tr>\n",
       "  <th>doggo</th>     <td>    1.1745</td> <td>    0.323</td> <td>    3.639</td> <td> 0.001</td> <td>    0.531</td> <td>    1.819</td>\n",
       "</tr>\n",
       "<tr>\n",
       "  <th>floofer</th>   <td>    0.8838</td> <td>    0.380</td> <td>    2.326</td> <td> 0.023</td> <td>    0.126</td> <td>    1.642</td>\n",
       "</tr>\n",
       "<tr>\n",
       "  <th>pupper</th>    <td>    0.2371</td> <td>    0.282</td> <td>    0.840</td> <td> 0.404</td> <td>   -0.326</td> <td>    0.800</td>\n",
       "</tr>\n",
       "<tr>\n",
       "  <th>puppo</th>     <td>    1.2396</td> <td>    0.351</td> <td>    3.528</td> <td> 0.001</td> <td>    0.538</td> <td>    1.941</td>\n",
       "</tr>\n",
       "</table>\n",
       "<table class=\"simpletable\">\n",
       "<tr>\n",
       "  <th>Omnibus:</th>       <td> 4.682</td> <th>  Durbin-Watson:     </th> <td>   1.183</td>\n",
       "</tr>\n",
       "<tr>\n",
       "  <th>Prob(Omnibus):</th> <td> 0.096</td> <th>  Jarque-Bera (JB):  </th> <td>   5.899</td>\n",
       "</tr>\n",
       "<tr>\n",
       "  <th>Skew:</th>          <td> 0.101</td> <th>  Prob(JB):          </th> <td>  0.0524</td>\n",
       "</tr>\n",
       "<tr>\n",
       "  <th>Kurtosis:</th>      <td> 4.378</td> <th>  Cond. No.          </th> <td>    5.16</td>\n",
       "</tr>\n",
       "</table><br/><br/>Notes:<br/>[1] Standard Errors assume that the covariance matrix of the errors is correctly specified."
      ],
      "text/plain": [
       "<class 'statsmodels.iolib.summary.Summary'>\n",
       "\"\"\"\n",
       "                            OLS Regression Results                            \n",
       "==============================================================================\n",
       "Dep. Variable:       rating_numerator   R-squared:                       0.252\n",
       "Model:                            OLS   Adj. R-squared:                  0.208\n",
       "Method:                 Least Squares   F-statistic:                     5.717\n",
       "Date:                Sun, 19 Jun 2022   Prob (F-statistic):           0.000501\n",
       "Time:                        15:01:49   Log-Likelihood:                -94.466\n",
       "No. Observations:                  73   AIC:                             198.9\n",
       "Df Residuals:                      68   BIC:                             210.4\n",
       "Df Model:                           4                                         \n",
       "Covariance Type:            nonrobust                                         \n",
       "==============================================================================\n",
       "                 coef    std err          t      P>|t|      [0.025      0.975]\n",
       "------------------------------------------------------------------------------\n",
       "intercept     10.8037      0.200     54.139      0.000      10.406      11.202\n",
       "doggo          1.1745      0.323      3.639      0.001       0.531       1.819\n",
       "floofer        0.8838      0.380      2.326      0.023       0.126       1.642\n",
       "pupper         0.2371      0.282      0.840      0.404      -0.326       0.800\n",
       "puppo          1.2396      0.351      3.528      0.001       0.538       1.941\n",
       "==============================================================================\n",
       "Omnibus:                        4.682   Durbin-Watson:                   1.183\n",
       "Prob(Omnibus):                  0.096   Jarque-Bera (JB):                5.899\n",
       "Skew:                           0.101   Prob(JB):                       0.0524\n",
       "Kurtosis:                       4.378   Cond. No.                         5.16\n",
       "==============================================================================\n",
       "\n",
       "Notes:\n",
       "[1] Standard Errors assume that the covariance matrix of the errors is correctly specified.\n",
       "\"\"\""
      ]
     },
     "execution_count": 103,
     "metadata": {},
     "output_type": "execute_result"
    }
   ],
   "source": [
    "df_regression_01['intercept'] = 1\n",
    "lm_01 = sm.OLS(df_regression_01['rating_numerator'], df_regression_01[['intercept', 'doggo', 'floofer', 'pupper', 'puppo']])\n",
    "results_01 = lm_01.fit()\n",
    "results_01.summary()"
   ]
  },
  {
   "cell_type": "markdown",
   "metadata": {},
   "source": [
    "#### 2. Dog breed (chunked) does not predict rating (baseline = no_breed)"
   ]
  },
  {
   "cell_type": "code",
   "execution_count": 104,
   "metadata": {},
   "outputs": [
    {
     "data": {
      "text/plain": [
       "['dog_stage',\n",
       " 'breeds_grouped',\n",
       " 'rating_numerator',\n",
       " 'retweet_count',\n",
       " 'favorite_count',\n",
       " 'breed_counts',\n",
       " 'doggo',\n",
       " 'floofer',\n",
       " 'no_stage',\n",
       " 'pupper',\n",
       " 'puppo',\n",
       " 'intercept',\n",
       " 'chesapeake_bay_retriever',\n",
       " 'chihuahua',\n",
       " 'chow',\n",
       " 'cocker_spaniel',\n",
       " 'french_bulldog',\n",
       " 'german_shepherd',\n",
       " 'golden_retriever',\n",
       " 'labrador_retriever',\n",
       " 'malamute',\n",
       " 'miniature_pinscher',\n",
       " 'moderately_popular_breeds',\n",
       " 'no_breed',\n",
       " 'pembroke',\n",
       " 'pomeranian',\n",
       " 'pug',\n",
       " 'rare_breeds',\n",
       " 'rarest_breeds',\n",
       " 'samoyed',\n",
       " 'staffordshire_bullterrier',\n",
       " 'toy_poodle',\n",
       " 'very_rare_breeds']"
      ]
     },
     "execution_count": 104,
     "metadata": {},
     "output_type": "execute_result"
    }
   ],
   "source": [
    "# intercept is already there\n",
    "dog_breed_dummies = pd.get_dummies(df_regression_01['breeds_grouped'])\n",
    "df_regression_02 = df_regression_01.join(dog_breed_dummies)\n",
    "regr2_list = df_regression_02.columns.tolist()\n",
    "regr2_list"
   ]
  },
  {
   "cell_type": "code",
   "execution_count": 105,
   "metadata": {},
   "outputs": [
    {
     "data": {
      "text/plain": [
       "12"
      ]
     },
     "execution_count": 105,
     "metadata": {},
     "output_type": "execute_result"
    }
   ],
   "source": [
    "regr2_list.index(\"chesapeake_bay_retriever\")"
   ]
  },
  {
   "cell_type": "code",
   "execution_count": 106,
   "metadata": {},
   "outputs": [
    {
     "data": {
      "text/plain": [
       "23"
      ]
     },
     "execution_count": 106,
     "metadata": {},
     "output_type": "execute_result"
    }
   ],
   "source": [
    "regr2_list.index(\"no_breed\")"
   ]
  },
  {
   "cell_type": "code",
   "execution_count": 107,
   "metadata": {},
   "outputs": [
    {
     "data": {
      "text/plain": [
       "['intercept',\n",
       " 'chesapeake_bay_retriever',\n",
       " 'chihuahua',\n",
       " 'chow',\n",
       " 'cocker_spaniel',\n",
       " 'french_bulldog',\n",
       " 'german_shepherd',\n",
       " 'golden_retriever',\n",
       " 'labrador_retriever',\n",
       " 'malamute',\n",
       " 'miniature_pinscher',\n",
       " 'moderately_popular_breeds',\n",
       " 'pembroke',\n",
       " 'pomeranian',\n",
       " 'pug',\n",
       " 'rare_breeds',\n",
       " 'rarest_breeds',\n",
       " 'samoyed',\n",
       " 'staffordshire_bullterrier',\n",
       " 'toy_poodle',\n",
       " 'very_rare_breeds']"
      ]
     },
     "execution_count": 107,
     "metadata": {},
     "output_type": "execute_result"
    }
   ],
   "source": [
    "predictors_list_02 = df_regression_02.iloc[:, 11:]\n",
    "predictors_list_02 = predictors_list_02.drop(['no_breed'], axis=1)\n",
    "predictors_list_02.columns.tolist()"
   ]
  },
  {
   "cell_type": "code",
   "execution_count": 108,
   "metadata": {},
   "outputs": [
    {
     "data": {
      "text/html": [
       "<table class=\"simpletable\">\n",
       "<caption>OLS Regression Results</caption>\n",
       "<tr>\n",
       "  <th>Dep. Variable:</th>    <td>rating_numerator</td> <th>  R-squared:         </th> <td>   0.283</td>\n",
       "</tr>\n",
       "<tr>\n",
       "  <th>Model:</th>                   <td>OLS</td>       <th>  Adj. R-squared:    </th> <td>   0.007</td>\n",
       "</tr>\n",
       "<tr>\n",
       "  <th>Method:</th>             <td>Least Squares</td>  <th>  F-statistic:       </th> <td>   1.026</td>\n",
       "</tr>\n",
       "<tr>\n",
       "  <th>Date:</th>             <td>Sun, 19 Jun 2022</td> <th>  Prob (F-statistic):</th>  <td> 0.451</td> \n",
       "</tr>\n",
       "<tr>\n",
       "  <th>Time:</th>                 <td>15:01:49</td>     <th>  Log-Likelihood:    </th> <td> -92.907</td>\n",
       "</tr>\n",
       "<tr>\n",
       "  <th>No. Observations:</th>      <td>    73</td>      <th>  AIC:               </th> <td>   227.8</td>\n",
       "</tr>\n",
       "<tr>\n",
       "  <th>Df Residuals:</th>          <td>    52</td>      <th>  BIC:               </th> <td>   275.9</td>\n",
       "</tr>\n",
       "<tr>\n",
       "  <th>Df Model:</th>              <td>    20</td>      <th>                     </th>     <td> </td>   \n",
       "</tr>\n",
       "<tr>\n",
       "  <th>Covariance Type:</th>      <td>nonrobust</td>    <th>                     </th>     <td> </td>   \n",
       "</tr>\n",
       "</table>\n",
       "<table class=\"simpletable\">\n",
       "<tr>\n",
       "              <td></td>                 <th>coef</th>     <th>std err</th>      <th>t</th>      <th>P>|t|</th>  <th>[0.025</th>    <th>0.975]</th>  \n",
       "</tr>\n",
       "<tr>\n",
       "  <th>intercept</th>                 <td>   11.2030</td> <td>    0.458</td> <td>   24.472</td> <td> 0.000</td> <td>   10.284</td> <td>   12.122</td>\n",
       "</tr>\n",
       "<tr>\n",
       "  <th>chesapeake_bay_retriever</th>  <td>   -0.4067</td> <td>    0.748</td> <td>   -0.544</td> <td> 0.589</td> <td>   -1.907</td> <td>    1.093</td>\n",
       "</tr>\n",
       "<tr>\n",
       "  <th>chihuahua</th>                 <td>    0.1929</td> <td>    0.748</td> <td>    0.258</td> <td> 0.797</td> <td>   -1.307</td> <td>    1.693</td>\n",
       "</tr>\n",
       "<tr>\n",
       "  <th>chow</th>                      <td>    0.4251</td> <td>    0.687</td> <td>    0.619</td> <td> 0.539</td> <td>   -0.953</td> <td>    1.803</td>\n",
       "</tr>\n",
       "<tr>\n",
       "  <th>cocker_spaniel</th>            <td>    0.1618</td> <td>    0.748</td> <td>    0.216</td> <td> 0.830</td> <td>   -1.338</td> <td>    1.662</td>\n",
       "</tr>\n",
       "<tr>\n",
       "  <th>french_bulldog</th>            <td>   -0.0919</td> <td>    0.856</td> <td>   -0.107</td> <td> 0.915</td> <td>   -1.810</td> <td>    1.627</td>\n",
       "</tr>\n",
       "<tr>\n",
       "  <th>german_shepherd</th>           <td>    0.3923</td> <td>    0.687</td> <td>    0.571</td> <td> 0.570</td> <td>   -0.986</td> <td>    1.770</td>\n",
       "</tr>\n",
       "<tr>\n",
       "  <th>golden_retriever</th>          <td>    0.7639</td> <td>    0.647</td> <td>    1.180</td> <td> 0.243</td> <td>   -0.535</td> <td>    2.063</td>\n",
       "</tr>\n",
       "<tr>\n",
       "  <th>labrador_retriever</th>        <td>    0.1268</td> <td>    0.687</td> <td>    0.185</td> <td> 0.854</td> <td>   -1.251</td> <td>    1.505</td>\n",
       "</tr>\n",
       "<tr>\n",
       "  <th>malamute</th>                  <td>   -0.2506</td> <td>    0.748</td> <td>   -0.335</td> <td> 0.739</td> <td>   -1.751</td> <td>    1.250</td>\n",
       "</tr>\n",
       "<tr>\n",
       "  <th>miniature_pinscher</th>        <td>   -0.5666</td> <td>    0.748</td> <td>   -0.758</td> <td> 0.452</td> <td>   -2.067</td> <td>    0.933</td>\n",
       "</tr>\n",
       "<tr>\n",
       "  <th>moderately_popular_breeds</th> <td>   -0.0317</td> <td>    0.647</td> <td>   -0.049</td> <td> 0.961</td> <td>   -1.331</td> <td>    1.267</td>\n",
       "</tr>\n",
       "<tr>\n",
       "  <th>pembroke</th>                  <td>    1.2877</td> <td>    0.687</td> <td>    1.875</td> <td> 0.066</td> <td>   -0.090</td> <td>    2.666</td>\n",
       "</tr>\n",
       "<tr>\n",
       "  <th>pomeranian</th>                <td>   -0.0015</td> <td>    0.687</td> <td>   -0.002</td> <td> 0.998</td> <td>   -1.379</td> <td>    1.376</td>\n",
       "</tr>\n",
       "<tr>\n",
       "  <th>pug</th>                       <td>   -0.9490</td> <td>    0.856</td> <td>   -1.108</td> <td> 0.273</td> <td>   -2.668</td> <td>    0.770</td>\n",
       "</tr>\n",
       "<tr>\n",
       "  <th>rare_breeds</th>               <td>    0.0080</td> <td>    0.687</td> <td>    0.012</td> <td> 0.991</td> <td>   -1.370</td> <td>    1.386</td>\n",
       "</tr>\n",
       "<tr>\n",
       "  <th>rarest_breeds</th>             <td>    0.9012</td> <td>    0.748</td> <td>    1.206</td> <td> 0.233</td> <td>   -0.599</td> <td>    2.401</td>\n",
       "</tr>\n",
       "<tr>\n",
       "  <th>samoyed</th>                   <td>    1.1542</td> <td>    0.748</td> <td>    1.544</td> <td> 0.129</td> <td>   -0.346</td> <td>    2.654</td>\n",
       "</tr>\n",
       "<tr>\n",
       "  <th>staffordshire_bullterrier</th> <td>   -0.7585</td> <td>    0.748</td> <td>   -1.015</td> <td> 0.315</td> <td>   -2.259</td> <td>    0.742</td>\n",
       "</tr>\n",
       "<tr>\n",
       "  <th>toy_poodle</th>                <td>   -0.2270</td> <td>    0.856</td> <td>   -0.265</td> <td> 0.792</td> <td>   -1.946</td> <td>    1.492</td>\n",
       "</tr>\n",
       "<tr>\n",
       "  <th>very_rare_breeds</th>          <td>   -0.1978</td> <td>    0.687</td> <td>   -0.288</td> <td> 0.774</td> <td>   -1.576</td> <td>    1.180</td>\n",
       "</tr>\n",
       "</table>\n",
       "<table class=\"simpletable\">\n",
       "<tr>\n",
       "  <th>Omnibus:</th>       <td> 1.683</td> <th>  Durbin-Watson:     </th> <td>   1.101</td>\n",
       "</tr>\n",
       "<tr>\n",
       "  <th>Prob(Omnibus):</th> <td> 0.431</td> <th>  Jarque-Bera (JB):  </th> <td>   1.058</td>\n",
       "</tr>\n",
       "<tr>\n",
       "  <th>Skew:</th>          <td> 0.252</td> <th>  Prob(JB):          </th> <td>   0.589</td>\n",
       "</tr>\n",
       "<tr>\n",
       "  <th>Kurtosis:</th>      <td> 3.306</td> <th>  Cond. No.          </th> <td>    18.5</td>\n",
       "</tr>\n",
       "</table><br/><br/>Notes:<br/>[1] Standard Errors assume that the covariance matrix of the errors is correctly specified."
      ],
      "text/plain": [
       "<class 'statsmodels.iolib.summary.Summary'>\n",
       "\"\"\"\n",
       "                            OLS Regression Results                            \n",
       "==============================================================================\n",
       "Dep. Variable:       rating_numerator   R-squared:                       0.283\n",
       "Model:                            OLS   Adj. R-squared:                  0.007\n",
       "Method:                 Least Squares   F-statistic:                     1.026\n",
       "Date:                Sun, 19 Jun 2022   Prob (F-statistic):              0.451\n",
       "Time:                        15:01:49   Log-Likelihood:                -92.907\n",
       "No. Observations:                  73   AIC:                             227.8\n",
       "Df Residuals:                      52   BIC:                             275.9\n",
       "Df Model:                          20                                         \n",
       "Covariance Type:            nonrobust                                         \n",
       "=============================================================================================\n",
       "                                coef    std err          t      P>|t|      [0.025      0.975]\n",
       "---------------------------------------------------------------------------------------------\n",
       "intercept                    11.2030      0.458     24.472      0.000      10.284      12.122\n",
       "chesapeake_bay_retriever     -0.4067      0.748     -0.544      0.589      -1.907       1.093\n",
       "chihuahua                     0.1929      0.748      0.258      0.797      -1.307       1.693\n",
       "chow                          0.4251      0.687      0.619      0.539      -0.953       1.803\n",
       "cocker_spaniel                0.1618      0.748      0.216      0.830      -1.338       1.662\n",
       "french_bulldog               -0.0919      0.856     -0.107      0.915      -1.810       1.627\n",
       "german_shepherd               0.3923      0.687      0.571      0.570      -0.986       1.770\n",
       "golden_retriever              0.7639      0.647      1.180      0.243      -0.535       2.063\n",
       "labrador_retriever            0.1268      0.687      0.185      0.854      -1.251       1.505\n",
       "malamute                     -0.2506      0.748     -0.335      0.739      -1.751       1.250\n",
       "miniature_pinscher           -0.5666      0.748     -0.758      0.452      -2.067       0.933\n",
       "moderately_popular_breeds    -0.0317      0.647     -0.049      0.961      -1.331       1.267\n",
       "pembroke                      1.2877      0.687      1.875      0.066      -0.090       2.666\n",
       "pomeranian                   -0.0015      0.687     -0.002      0.998      -1.379       1.376\n",
       "pug                          -0.9490      0.856     -1.108      0.273      -2.668       0.770\n",
       "rare_breeds                   0.0080      0.687      0.012      0.991      -1.370       1.386\n",
       "rarest_breeds                 0.9012      0.748      1.206      0.233      -0.599       2.401\n",
       "samoyed                       1.1542      0.748      1.544      0.129      -0.346       2.654\n",
       "staffordshire_bullterrier    -0.7585      0.748     -1.015      0.315      -2.259       0.742\n",
       "toy_poodle                   -0.2270      0.856     -0.265      0.792      -1.946       1.492\n",
       "very_rare_breeds             -0.1978      0.687     -0.288      0.774      -1.576       1.180\n",
       "==============================================================================\n",
       "Omnibus:                        1.683   Durbin-Watson:                   1.101\n",
       "Prob(Omnibus):                  0.431   Jarque-Bera (JB):                1.058\n",
       "Skew:                           0.252   Prob(JB):                        0.589\n",
       "Kurtosis:                       3.306   Cond. No.                         18.5\n",
       "==============================================================================\n",
       "\n",
       "Notes:\n",
       "[1] Standard Errors assume that the covariance matrix of the errors is correctly specified.\n",
       "\"\"\""
      ]
     },
     "execution_count": 108,
     "metadata": {},
     "output_type": "execute_result"
    }
   ],
   "source": [
    "lm_02 = sm.OLS(df_regression_02['rating_numerator'], predictors_list_02)\n",
    "results_02 = lm_02.fit()\n",
    "results_02.summary()"
   ]
  },
  {
   "cell_type": "markdown",
   "metadata": {},
   "source": [
    "# Insights:\n",
    "1. The variables in the df_json (retweet_count, favorite_count) are positively correlated to the rating\n",
    "\n",
    "2. The (predicted) dog breed influences the rating / retweet count / favourite count (regression)\n",
    "\n",
    "3. The dog stage has an influence on the rating / retweet count / favourite count (regression)\n",
    "\n",
    "4. There is (or isn't) an interaction between (predicted) dog breed and dog stage in predicting rating / retweet count / favourite count"
   ]
  },
  {
   "cell_type": "markdown",
   "metadata": {
    "collapsed": true
   },
   "source": [
    "### Visualization"
   ]
  },
  {
   "cell_type": "code",
   "execution_count": 109,
   "metadata": {},
   "outputs": [
    {
     "data": {
      "image/png": "[encoded data removed]",
      "text/plain": [
       "<Figure size 432x432 with 3 Axes>"
      ]
     },
     "metadata": {},
     "output_type": "display_data"
    },
    {
     "data": {
      "image/png": "[encoded data removed]",
      "text/plain": [
       "<Figure size 432x432 with 3 Axes>"
      ]
     },
     "metadata": {},
     "output_type": "display_data"
    }
   ],
   "source": [
    "var_list_01 = ['retweet_count', 'favorite_count']\n",
    "\n",
    "for i in var_list_01:\n",
    "# Set up the axes with gridspec\n",
    "    fig = plt.figure(figsize=(6, 6))\n",
    "    grid = plt.GridSpec(4, 4, hspace=0.3, wspace=0.6)\n",
    "    main_ax = fig.add_subplot(grid[:-1, 1:])\n",
    "    y_hist = fig.add_subplot(grid[:-1, 0], xticklabels=[], sharey=main_ax)\n",
    "    x_hist = fig.add_subplot(grid[-1, 1:], yticklabels=[], sharex=main_ax)\n",
    "    fig.suptitle('Rating vs. %s' %i)\n",
    "    \n",
    "# Scatter plot on the main axes\n",
    "    x = master_df[i]\n",
    "    y = master_df.rating_numerator\n",
    "    main_ax.plot(x, y, 'ok', markersize=3, alpha=0.5)\n",
    "    plt.xlabel('%s'.replace('_', ' ') %i)\n",
    "        \n",
    "# Histograms on the attached axes\n",
    "    x_hist.hist(x, 40, histtype='stepfilled',\n",
    "            orientation='vertical', color='gray')\n",
    "    x_hist.invert_yaxis()\n",
    "        \n",
    "    y_hist.hist(y, 40, histtype='stepfilled',\n",
    "            orientation='horizontal', color='gray')\n",
    "    y_hist.invert_xaxis()\n",
    "    \n",
    "    \n"
   ]
  },
  {
   "cell_type": "code",
   "execution_count": 110,
   "metadata": {},
   "outputs": [],
   "source": [
    "# plt.savefig('saved_figure.png')\n",
    "# plt.savefig('point_histo_01.png')"
   ]
  },
  {
   "cell_type": "markdown",
   "metadata": {},
   "source": [
    "#### Influence of dog breed (chunked) on ratings (bar chart)"
   ]
  },
  {
   "cell_type": "code",
   "execution_count": 111,
   "metadata": {},
   "outputs": [],
   "source": [
    "# reset index to use breed_groups as variable\n",
    "rating_x_breed_groups = groupby_breedgroups_df.reset_index(level=0)"
   ]
  },
  {
   "cell_type": "code",
   "execution_count": 112,
   "metadata": {},
   "outputs": [
    {
     "data": {
      "image/png": "[encoded data removed]",
      "text/plain": [
       "<Figure size 432x288 with 1 Axes>"
      ]
     },
     "metadata": {},
     "output_type": "display_data"
    }
   ],
   "source": [
    "x = rating_x_breed_groups.breeds_grouped.tolist()\n",
    "y = rating_x_breed_groups.rating_numerator.tolist()\n",
    "\n",
    "x_pos = [i for i, _ in enumerate(x)]\n",
    "\n",
    "plt.bar(x_pos, y, color='gray')\n",
    "plt.xlabel(\"Dog breeds (chunked)\")\n",
    "plt.ylabel(\"Mean rating numerator\")\n",
    "plt.title(\"Mean rating numerator by dog breed\")\n",
    "plt.xticks(x_pos, x, rotation=90)\n",
    "plt.savefig('rating_breeds_bar.png', bbox_inches='tight')\n",
    "plt.show();"
   ]
  },
  {
   "cell_type": "markdown",
   "metadata": {},
   "source": [
    "#### Influence of dog stage on ratings (bar chart)"
   ]
  },
  {
   "cell_type": "code",
   "execution_count": 113,
   "metadata": {},
   "outputs": [],
   "source": [
    "rating_x_dog_stage = groupby_dogstage_df.reset_index(level=0)"
   ]
  },
  {
   "cell_type": "code",
   "execution_count": 114,
   "metadata": {},
   "outputs": [
    {
     "name": "stdout",
     "output_type": "stream",
     "text": [
      "['#ededed', '#d1d1d1', '#adadad', '#828282', '#5c5c5c', '#2b2b2b']\n"
     ]
    }
   ],
   "source": [
    "# https://moonbooks.org/Articles/How-to-extract-html-color-codes-hex-codes-from-a-seaborn-palette-/\n",
    "\n",
    "# extract grey color codes from seaborn:\n",
    "pal = sns.color_palette(\"Greys\")\n",
    "print(pal.as_hex())"
   ]
  },
  {
   "cell_type": "code",
   "execution_count": 115,
   "metadata": {},
   "outputs": [
    {
     "name": "stderr",
     "output_type": "stream",
     "text": [
      "C:\\Users\\Cvetana\\anaconda3\\lib\\site-packages\\seaborn\\_decorators.py:36: FutureWarning: Pass the following variables as keyword args: x, y. From version 0.12, the only valid positional argument will be `data`, and passing other arguments without an explicit keyword will result in an error or misinterpretation.\n",
      "  warnings.warn(\n"
     ]
    },
    {
     "data": {
      "image/png": "[encoded data removed]",
      "text/plain": [
       "<Figure size 432x288 with 1 Axes>"
      ]
     },
     "metadata": {},
     "output_type": "display_data"
    }
   ],
   "source": [
    "x = rating_x_dog_stage.dog_stage\n",
    "y = rating_x_dog_stage.rating_numerator\n",
    "\n",
    "sns.barplot(x, y, color='#828282')\n",
    "plt.xlabel(\"Dog stage\")\n",
    "plt.ylabel(\"Mean rating numerator\")\n",
    "plt.title(\"Mean rating numerator by dog stage\")\n",
    "plt.savefig('rating_stages_01.png', bbox_inches='tight')\n",
    "plt.show();"
   ]
  },
  {
   "cell_type": "markdown",
   "metadata": {},
   "source": [
    "#### Top 5 rated dog breeds (chunked) per dog stage"
   ]
  },
  {
   "cell_type": "code",
   "execution_count": 116,
   "metadata": {},
   "outputs": [
    {
     "data": {
      "image/png": "[encoded data removed]",
      "text/plain": [
       "<Figure size 842.4x432 with 1 Axes>"
      ]
     },
     "metadata": {},
     "output_type": "display_data"
    }
   ],
   "source": [
    "# https://www.statology.org/seaborn-grouped-bar-plot/\n",
    "# https://stackoverflow.com/questions/30490740/move-legend-outside-figure-in-seaborn-tsplot\n",
    "# https://stackoverflow.com/questions/31594549/how-to-change-the-figure-size-of-a-seaborn-axes-or-figure-level-plot\n",
    "sns.set(rc={'figure.figsize':(11.7,6)})\n",
    "sns.barplot(x='dog_stage', y='rating_numerator', hue='breeds_grouped', data=top5_breedgr_x_stage_df, palette = \"bright\") \n",
    "plt.legend(bbox_to_anchor=(1.05, 1), loc=2, borderaxespad=0.)\n",
    "plt.ylim(10, 14.5);"
   ]
  },
  {
   "cell_type": "markdown",
   "metadata": {},
   "source": [
    "#### Top 5 rated dog breeds (NOT chunked) per dog stage"
   ]
  },
  {
   "cell_type": "code",
   "execution_count": 117,
   "metadata": {},
   "outputs": [
    {
     "data": {
      "image/png": "[encoded data removed]",
      "text/plain": [
       "<Figure size 842.4x432 with 1 Axes>"
      ]
     },
     "metadata": {},
     "output_type": "display_data"
    }
   ],
   "source": [
    "sns.set(rc={'figure.figsize':(11.7,6)})\n",
    "sns.barplot(data = top5_breedxstage_df, x='dog_stage', y='rating_numerator', hue='dog_breed', palette = \"bright\") \n",
    "plt.legend(bbox_to_anchor=(1.05, 1), loc=2, borderaxespad=0.);"
   ]
  }
 ],
 "metadata": {
  "extensions": {
   "jupyter_dashboards": {
    "activeView": "report_default",
    "version": 1,
    "views": {
     "grid_default": {
      "cellMargin": 10,
      "defaultCellHeight": 20,
      "maxColumns": 12,
      "name": "grid",
      "type": "grid"
     },
     "report_default": {
      "name": "report",
      "type": "report"
     }
    }
   }
  },
  "kernelspec": {
   "display_name": "Python 3 (ipykernel)",
   "language": "python",
   "name": "python3"
  },
  "language_info": {
   "codemirror_mode": {
    "name": "ipython",
    "version": 3
   },
   "file_extension": ".py",
   "mimetype": "text/x-python",
   "name": "python",
   "nbconvert_exporter": "python",
   "pygments_lexer": "ipython3",
   "version": "3.9.7"
  }
 },
 "nbformat": 4,
 "nbformat_minor": 2
}
